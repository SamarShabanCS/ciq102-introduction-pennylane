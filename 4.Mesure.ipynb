{
 "cells": [
  {
   "cell_type": "markdown",
   "metadata": {
    "id": "Bf6ENixbfrts"
   },
   "source": [
    "# 4.  La mesure"
   ]
  },
  {
   "cell_type": "markdown",
   "metadata": {
    "id": "ntHJdpGy4ryf"
   },
   "source": [
    "PennyLane peut extraire différents types de [résultats de mesures](https://docs.pennylane.ai/en/stable/introduction/measurements.html) à partir d'une machine quantique : la valeur moyenne d'une observable, sa variance, des échantillons d'une mesure unique ou des probabilités d'état de base de calcul.\n",
    "\n",
    "On retrouve les différentes fonctions de mesures telles que\n",
    "\n",
    "*   `qml.expval()`\n",
    "*   `qml.var()`\n",
    "*   `qml.sample()`\n",
    "*   `qml.counts()`\n",
    "*   `qml.probs()`\n",
    "*   `qml.density_matrix()`\n",
    "\n",
    "\n",
    "Comme mentionné précédement, on peut aussi retourner l'état dans la base de calcul avec `qml.state()`."
   ]
  },
  {
   "cell_type": "markdown",
   "metadata": {
    "id": "VHhwf-s3g3JR"
   },
   "source": [
    "## Valeur moyenne et variance d'un observable"
   ]
  },
  {
   "cell_type": "code",
   "execution_count": 13,
   "metadata": {},
   "outputs": [],
   "source": [
    "import pennylane as qml\n",
    "from pennylane import numpy as np\n",
    "\n",
    "from grader import *"
   ]
  },
  {
   "cell_type": "code",
   "execution_count": 14,
   "metadata": {},
   "outputs": [],
   "source": [
    "!pip install qiskit\n",
    "\n",
    "from qiskit.quantum_info import Statevector"
   ]
  },
  {
   "cell_type": "code",
   "execution_count": 15,
   "metadata": {
    "id": "X7wquW8zieUb"
   },
   "outputs": [],
   "source": [
    "dev = qml.device('default.qubit', wires=2)\n",
    "@qml.qnode(dev)\n",
    "def circuit_expval(theta):\n",
    "    qml.RX(theta, wires=0)\n",
    "    qml.Hadamard(wires=1)\n",
    "    qml.CNOT(wires=[0, 1])\n",
    "    return qml.expval(qml.PauliY(0))"
   ]
  },
  {
   "cell_type": "markdown",
   "metadata": {
    "id": "cVAKFFPRioP_"
   },
   "source": [
    "Nous retournons ici la valeur moyenne `qml.expval()` de l'opérateur $Y$ appliqué au premier qubit. Plus précisément, cela signifie que nous calculons $\\langle \\psi \\vert Y \\vert \\psi \\rangle$, où $\\vert \\psi \\rangle$ est le vecteur de dimension $2^n$ généré par le circuit ($n$ étant le nombre de qubits) et $Y$ est un opérateur qui agit uniquement sur le premier qubit. Lorsque nous exécutons le circuit pour $\\theta=0.5$, nous obtenons un nombre qui correspond exactement à cette valeur moyenne en sortie."
   ]
  },
  {
   "cell_type": "code",
   "execution_count": 16,
   "metadata": {
    "colab": {
     "base_uri": "https://localhost:8080/"
    },
    "id": "xeMIGLUojVdc",
    "outputId": "21f8c09d-a86d-42b5-9d69-3eca8968c1b5"
   },
   "outputs": [
    {
     "data": {
      "text/plain": [
       "tensor(-0.47942554, requires_grad=True)"
      ]
     },
     "execution_count": 16,
     "metadata": {},
     "output_type": "execute_result"
    }
   ],
   "source": [
    "circuit_expval(0.5)"
   ]
  },
  {
   "cell_type": "markdown",
   "metadata": {
    "id": "AK-VwAhKjqE-"
   },
   "source": [
    "Nous pouvons également retourner la variance d'un observable, `qml.var()`"
   ]
  },
  {
   "cell_type": "code",
   "execution_count": 17,
   "metadata": {
    "colab": {
     "base_uri": "https://localhost:8080/"
    },
    "id": "yHS7ZTGTjzf2",
    "outputId": "be140f0b-d307-4dc9-880a-7529edef9d2d"
   },
   "outputs": [
    {
     "data": {
      "text/plain": [
       "tensor(0.77015115, requires_grad=True)"
      ]
     },
     "execution_count": 17,
     "metadata": {},
     "output_type": "execute_result"
    }
   ],
   "source": [
    "@qml.qnode(dev)\n",
    "def circuit_var(theta):\n",
    "    qml.RX(theta, wires=0)\n",
    "    qml.Hadamard(wires=1)\n",
    "    qml.CNOT(wires=[0, 1])\n",
    "    return qml.var(qml.PauliY(0))\n",
    "\n",
    "circuit_var(0.5)"
   ]
  },
  {
   "cell_type": "markdown",
   "metadata": {
    "id": "JD5wKCs5huUR"
   },
   "source": [
    "## Échantillons et probabilités"
   ]
  },
  {
   "cell_type": "markdown",
   "metadata": {
    "id": "RM1hnFerlGEi"
   },
   "source": [
    "En réalité, dans une expérience, nous obtenons généralement un ensemble de mesures réelles échantillonnées à partir des probabilités de la fonction d'onde. Dans ce cas, la fonction d'onde réelle n'est pas accessible, mais encore une fois, nous pouvons \"tricher\" car nous simulons notre circuit de manière classique.\n",
    "\n",
    "Ainsi, si nous voulons imiter un ordinateur quantique, nous pouvons sortir un ensemble de mesures à partir de l'état résultant. Pour ce faire, nous utilisons la fonction `qml.sample()`, pour laquelle nous devons spécifier le nombre d'échantillons ('shots') lors de la définition de la machine."
   ]
  },
  {
   "cell_type": "code",
   "execution_count": 18,
   "metadata": {
    "colab": {
     "base_uri": "https://localhost:8080/"
    },
    "id": "czYO231blhWC",
    "outputId": "ba6234e2-0153-4406-b788-04b059578d7a"
   },
   "outputs": [
    {
     "data": {
      "text/plain": [
       "array([-1, -1, -1, -1])"
      ]
     },
     "execution_count": 18,
     "metadata": {},
     "output_type": "execute_result"
    }
   ],
   "source": [
    "dev = qml.device(\"default.qubit\", wires=2, shots=4)\n",
    "@qml.qnode(dev)\n",
    "def circuit_sample(theta):\n",
    "    qml.RX(theta, wires=0)\n",
    "    qml.Hadamard(wires=1)\n",
    "    qml.CNOT(wires=[0, 1])\n",
    "    return qml.sample(qml.PauliY(0))\n",
    "\n",
    "circuit_sample(0.5)\n"
   ]
  },
  {
   "cell_type": "markdown",
   "metadata": {
    "id": "mWTHJBXtnh9B"
   },
   "source": [
    "Ici, PennyLane prend les valeurs propres λᵢ de l'observable et les échantillonne avec leurs probabilités associées p(λᵢ) = |⟨ξᵢ|ψ⟩|², où, |ξᵢ⟩ est l'état de base correspondant dans la base de l'observable."
   ]
  },
  {
   "cell_type": "markdown",
   "metadata": {
    "id": "mhX-G1H-oOND"
   },
   "source": [
    "Au lieu d'échantillonner à partir de la densité de probabilité de la fonction d'onde, nous pourrions être intéressés par l'obtention directe des probabilités de chaque état de la base de calcul. PennyLane nous permet de faire cela en utilisant la fonction `qml.probs()`."
   ]
  },
  {
   "cell_type": "code",
   "execution_count": 19,
   "metadata": {
    "colab": {
     "base_uri": "https://localhost:8080/",
     "height": 37
    },
    "id": "Rbibbtl8okRR",
    "outputId": "b4d068c7-bbcd-4e48-e390-68644cf5ffa2"
   },
   "outputs": [
    {
     "data": {
      "text/latex": [
       "$$0.4693956405 |00\\rangle+0.4693956405 |01\\rangle+0.0306043595 |10\\rangle+0.0306043595 |11\\rangle$$"
      ],
      "text/plain": [
       "<IPython.core.display.Latex object>"
      ]
     },
     "execution_count": 19,
     "metadata": {},
     "output_type": "execute_result"
    }
   ],
   "source": [
    "dev = qml.device(\"default.qubit\", wires=2)\n",
    "@qml.qnode(dev)\n",
    "def circuit_probs(theta):\n",
    "    qml.RX(theta, wires=0)\n",
    "    qml.Hadamard(wires=1)\n",
    "    qml.CNOT(wires=[0, 1])\n",
    "    return qml.probs(wires=[0, 1])\n",
    "Statevector(circuit_probs(0.5)).draw('latex')\n"
   ]
  },
  {
   "cell_type": "markdown",
   "metadata": {
    "id": "4i1t73irpX55"
   },
   "source": [
    "Nous obtenons des probabilités d'observation d'environ 47% pour les états |00⟩ et |01⟩ et 3% pour les états |10⟩ et |11⟩.\n"
   ]
  },
  {
   "cell_type": "markdown",
   "metadata": {
    "id": "RdlmC2Q_z7LW"
   },
   "source": [
    "EXERCICE\n",
    "\n",
    "---\n"
   ]
  },
  {
   "cell_type": "markdown",
   "metadata": {
    "id": "t73P7LtD89Ev"
   },
   "source": [
    "Implémentez le circuit ci-dessous afin qu'il retourne la valeur moyenne de l'opérateur $Z$. Quelle est cette valeur moyenne? Calculez la explicitement puis comparez au résultat du circuit."
   ]
  },
  {
   "cell_type": "markdown",
   "metadata": {
    "id": "QMuFqvWmEnAb"
   },
   "source": [
    "![image.png](data:image/png;base64,iVBORw0KGgoAAAANSUhEUgAAAf4AAACtCAYAAABRAh3IAAAAAXNSR0IArs4c6QAAAARnQU1BAACxjwv8YQUAAAAJcEhZcwAADsMAAA7DAcdvqGQAABQaSURBVHhe7d15bBTlG8Dxt7RSrFIPaEFT03IUFUyEkoCIHEahYoxRAe8zWqgIkagRYwT1DxVRTIyionjfolVjohaMSEFBLUTl8Gg5FKKAoIJSbvbX5513f+xOd8u2nZ2d3ff7SSZ9Zzrtzvs+7Ty7M++8b1aokQIAAFZoZ74CAAALkPgBALAIiR8AAIuQ+AEAsAiJHwAAi5D4AQCwCIkfAACLkPgBALAIiR8AAIuQ+AEAsAiJHwAAi5D4AQCwCIkfAACLkPgBALAIiR8AAIuQ+AEAsAiJHwAAi5D4AQCwCIkfAACLkPgBALAIiR8AAIuQ+AEAsAiJHwAAi5D4AQCwCIkfAACLkPgBALAIiR8AAIuQ+AEAsAiJHwAAi5D4AQCwCIkfAACLkPgBALAIiR8AAIuQ+AEAsAiJHwAAi5D4AQCwCIkfAACLkPgBALAIiR8AAIuQ+AEAsAiJHwAAi5D4AQCwCIkfAACLkPgBALAIiR8AAIuQ+AEAsAiJHwAAi5D4AQCwSFaokSkDKbFnzx61du1aVVdXp+rr69XWrVvV7t279fYgyc3NVR06dFCdO3dWPXv2VKWlpap79+56eyYhHsFCPOA1Ej98t3//frVw4UI1d+5cVV1drX799VeVrn+GWVlZqri4WJWXl6uxY8eqYcOGqZycHPPd9EA8goV4IOkk8QN+aPzEEqqsrAwVFBTIWSwjF6mb1LHxk5mpdXARj2AhHvALiR9Jt3PnztDUqVND7du3j3kyyMQlNzdX11nqHjTEI1iIB/zGpX4k1bx589S4ceP05crD6dKli743eNJJJ6m8vDzVeCJU7doFo//pwYMH1d69e1VDQ4PasGGDvte6efNm8934SkpK1OzZs9XIkSPNltQiHsQjGTIlHtbQ6R9IgqqqqlBOTk6Td/vhpX///qHp06eHamtrQ9u3bzc/lT7kmOXYpQ5lZWUx6yiLtIG0RaoRD2chHv5It3jYhMSPpIh3UsvOzg5Nnjw5tGbNGrNn5pD7llI3qaO73qk+uRGP6HoTD/8FOR62IfHDc9XV1TFPakOHDg2tWLHC7JW5pI5SV3f9pU2kbfxGPIiH32pqakypqaDFw0YkfnhKOusUFxc3+aeuqKgIHThwwOyV+aSuUmd3O5SUlIQaGhrMXslHPBzEwx9ShylTpoRuuukmsyW2oMTDViR+eEp66rr/mW1LMmHxTm7Tpk0zeyQf8TiEeCSXJOwxY8boOj3//PNma3xBiIetSPzwjDyHLI/pRP4TyyU9G5NMmNR9yJAhUW0ibST3O5ONeDRFPJJj06ZNoQEDBvy/XqtXrzbfaV4q42EzxuqHZ2bOnBk1jGh2draaNWtWYB45SgWpu7SBtEWYtNGjjz5q1pKHeDRFPLy3atUqNXDgQPXNN9/o9WOPPVadfPLJunw4qYyH1cwbAKBN9u3b12TEMenBC4e0RWTbFBYW6jZLFuLRPOLhjfnz54fy8/Oj6lVeXm6+mzi/42E7PvHDEzK2+J9//mnWHJMmTTIlTJw40ZQcW7ZsUTU1NWbNe8SjecSj7ebMmaNGjRqlduzYYbY4Bg0aZEqJ8zsetiPxwxMyoUik/v3765m54OjRo4cqKyszaw53m3mJeDSPeLSejNI3ZcoUVVFRoScUcmtN4vc7HrYj8cMT1dXVpuSQmbgQzd0m7jbzEvE4POLRcrt27VKXXnqpmjFjhtkSTWbjk/v9reFnPGxH4kebSWcc91jj5557rikhbMSIEabkkDaL7OzlFeKRGOLRMjL2/vDhw9V7771ntjTVu3dvdcwxx5i1lvErHiDxwwNr166VTqJmzdGrVy9TQlhpaakpOeSS6bp168yad4hHYohH4tw99+NpzWX+ML/iARI/PFBXV2dKDplFrGPHjmYNYfn5+aqwsNCsOdxt5wXikRjikZj58+erM888s8lVC/lk734UsS2J3694gMQPD9TX15uSQ6YORWzuTzXJOLERj8QRj+Y999xzMXvuy3S677zzjv5UHqktiV/4EQ+Q+OGBrVu3mpJD5gtHbEVFRabk2LZtmyl5h3gkjnjEFu65P27cOHXgwAGz1SGX/JcuXaq2b99utjhaMnBPPH7EAyR+eGD37t2m5MjLyzMluLnbxt12XiAeiSMeTTU0NMTtuS897xcsWKBvVyxZssRsdcgbgraOQuhHPEDihwfcPW/bt29vSnDLzc01JUcyTmzEI3HEI9pff/2lzj777Lg997t27aqOPPJIXXYn/rZe5hd+xAMkfiRBuo89nkypaBviER/xiCaX6ysrK1VBQYHZEu2JJ57Qz+pLh7/ly5ebrQ4vEj9/q/6glQEAmiTeG264Qf3888/qlltuiZuIR44cqfbu3WvW2jZwD/xH4gcARDnuuOPUk08+qWpra82W5rVl4B74j8QPAIjJ3XM/Hi8u88M/JH4AQBMy2qB09EsEiT+9kPgBwBLSS1465b366qvqqaeeUo899phepCzb5HvhpxBuvfVW/dVN9nEnehJ/eiHxA0CG+vfff9ULL7ygrrrqKnXaaaepo48+Wk8JfO211+rOe7fffrtepCzb5HtHHXWUOvXUU3UPfjcZhbBfv35q8eLF+vdK738vBu6Bv0j8AJBB5BL9woUL1fXXX6+fu7/xxhvVG2+8oSfacY/CF4vs89NPP5m1Q04//XTVvXt3XY7s/S9XDHgML70QLQDIEJ999pnq06ePnj735Zdf1qPweeX777/Xv1teI0x6/8sbAKSXlCf+b7/9Vp1//vn6cpFcYjrjjDP05A9Aa6xfv14/U3zeeeeZLU198cUXeh8ZqATJJZO5SFsnskhc0Dq///67uvzyy/Wc9j/++KPZGl+PHj3U0KFD9f6ySFm2HY78btn/iiuuUH/88YfZinST0sQvYz4PHjxY3y+SsaHlRLxp0yZ12WWXqZkzZ5q9AKSryZMnq3vvvTfuMnr0aL2fvOkvLi7WZSROLuvPnj1bnXLKKertt982W6NlZ2erCy+8UHfg+/LLL/VMe3KvXm4HzJs3Ty9Slm3jx483P9W8t956S9/Xl9dG+klZ4t+/f7+qqKjQ94ZqamrUs88+q5O9XE7q1auXuvvuu5vM/wwgvUjiv++++2IukyZNUsuWLdP7vfjii6pbt266jMTIOVTaUD4wSSc+N3kz8Mgjj6iNGzeqDz/8UN188816Xv2OHTuaPaL9888/MRO5zNInv8tNXlNeW45BjgXpI2WJ//PPP1dr1qxRV155perbt6/ZqvToT5L0ZThIuUcFIPNIopCrfHJr5q677tKzviFxcn6U9ps1a5bZcojcd5cELp357rjjDt3BLxEnnHCCKR0itwCmT5+uf9czzzyjb8m6yQh/ciyRQ/gi2FKW+MP382TMZ7fy8nL9VS4/Acg8kpDkzb/0xXjggQfMViRi3759asyYMer99983Ww657rrrdI98mUe/JT3t5Xwcaya8cEc++V1yG0B68ctruMmxyDHJsSH4Upb46+rq9NfS0lL9NZK8Q5XnTcP7AC0l9ytjXV6W5aWXXjJ7IRVeeeUV9fjjj6uePXuqN998k0fBWmjq1Knqo48+MmsOmepXHtmTv+3CwkKzNTHxRuibM2eOOuKII8yaQ363vMbrr7/eZHphOaZp06aZNQRZyv7jwmNAx5vYIT8/P+FxooNC/oF27txp3RLEd/lyG+n++++PuQTpFpK0Xaw2bcsS5E9dMumLfHKUN/YffPBBzEvHqRT0eMh0uA8//LBZc0jHyOrqat3TvjXijdAnz//HI7do5TXltSPJsUU+7oeAakxWKTFixIiQvHzjp3qzJdqJJ54Yakz+Zi09/Pfff7pOti8TJkwwLeK/devW6WMoLy83W5pasGCB3qcxAZkt/pG2iWwrP5ZUxiPSpk2bQkVFRaGsrKxQVVWV2Zpa6RSPzZs3h7p06RL1uxo/kYcWLVpk9mi5v//+O+r3hZf6+nqzR/PkteUYIn+2a9eu+lhbwx2PoPztZpqUfeIPf9KP96leHjlhmkcgM8inXrkHLD3M77nnHnXxxReb7yBR0oO+MaGaNceMGTPUWWedZdZaLl6HvkSe6Rfy2u4rEPJItjxBgOBKWeIP39uPdR9f/nAaPz3HvP8fZHl5efq4bVvksUy0jrRdrDZtyxLEeMgjXzJexwUXXKBvtwRVUOMhverdnflk4LN4l+kTcbgOfYmSYxg1apRZc1RVVanVq1ebNQRNyhL/sGHD9FcZPMJN7h2J8D7pQkYfk3teti3uDkBInLRdrDZtyxK0eMgYHfJ4mQz4Ip3C5P8kqIIaDxkPP9Lxxx+vO9m1ti1DLejQdzjSOVOORR4jjOQ+ZgRHyhL/Oeecoyd8kJ6o3333ndnqXPp/8MEHdY9RmS0KQPr66quv9Kd96awrnfnkK1pGroC+9tprZs0xYcIEPTNea7WmQ19zpLe/HFMkmeZXjh3Bk7LEn5OTo99dHjx4UN9TkudOZXpImQHql19+0clfxvkGkJ5kZDcZklcGdikrK9PDvMZ6vDK8MFZ/bHK1JHJwHPlQNHHiRLPWcjJCX7wpd9tCjinyET85Zob0DaaUJX4hl5rkvp+M1y/jTD/99NOqS5cu+gQhbwIApK9t27b9/xOfJHX3Y5XuhcQfmwx0FOmaa67R58nWamuHvnhk/JWrr77arDlkPhYET0oTvxgwYID65JNP9CV+mULy66+/1pP0AK0hV4nk/uWnn35qtjQlU5bKPjIEKZInHItEF/nUj2gytLGMfRDpoosuMqWW86pDXzzuY5NjZxz/4El54gcAxLZy5comc+oPHDjQlFpG3lx51aEvHvexyQBG8kQCgoXEDwABtXTpUlNyyOX41nbq87pDXyzSyU86bUdy1wGpR+IHgID67bffTMnRr18/U2qZZHXoi8V9jO46IPVI/AAQULt27TIlR2tHM01Wh75Y3MforgNSj8QPAAElTzfJpXLpHf/xxx/rMRFaKtkd+tzkGOVY5Zjl2G+77TbzHQQFiR8AAqqoqEh3mJMnUWRYXBnnpCX86NDn1rdvX32scsxy7FIHBAuJHwAylB8d+pB+SPwAkIH87NCH9ELiB4AM5GeHPqQXEj8AZBi/O/QhvZD44TmZeAmxpaJtiEd8mRiPVHTo8wp/q/4g8aPNcnNzTckROZMYou3Zs8eUHB06dDAl7xCPxGViPNK5Q58f8QCJHx5w/3O6xxbHIe62ScaJjXgkLtPike4d+vyIB0j88EDnzp1NybFhwwZTgtvGjRtNydGpUydT8g7xSFymxSPdO/T5EQ+Q+OGBnj17mpKDx4Xiq6urMyVHaWmpKXmHeCQuk+KxevXqtO/Q50c8QOKHB9z/nJs3b1Y7duwwawiTNtmyZYtZcyTjxEY8EpNJ8ZAOfRMnTjRrh6RDh74wv+IBEj88INNwZmVlmTWH+507mrZJu3btVLdu3cyad4hHYjIpHtJhsHfv3roOYYMHD06rEfr8igdI/PCA9FouLi42aw6eF25q/vz5puSQNnP3+PYC8UhMJsVDXuPJJ59UtbW1atCgQSo/P1+9++675rvpwa94gMQPj5SXl5uSY+7cuaaEMHebuNvMS8Tj8DIxHjIX/uLFi9WSJUtU165dzdb04Gc8bEfihyfGjh1rSo5ly5aptWvXmjWsWbNGLV++3Kw53G3mJeLRvEyOh1wil8v+6cTveNiOxA9PDBs2TBUUFJg1R6zniW0ll2EjFRYW6seskoV4NI94BIvf8bAdiR+eyMnJUaNHjzZrDjmxrVy50qzZa8WKFU1O8pdccolus2QhHvERj2BJRTxslxWS50AAD8jluj59+kQNuynv2hcsWBDV29gmMvb48OHD1aJFi8wWpyPWqlWrkj6oCvFoingESyrjYTM+8cMz8o965513mjVHTU2NqqystHLyDamz1D3ypCamTJniy0mNeEQjHsGS6nhYTT7xA17ZuXNnqLi4WK4iRS0VFRWhAwcOmL0yn9RV6uxuh5KSklBDQ4PZK/mIh4N4BEtQ4mErEj88V11dHcrJyWnyTz1kyJDQDz/8YPbKXFJHqau7/tIm0jZ+Ix7EI0iCFg8bkfiRFFVVVTFPbtnZ2aHJkyeH6uvrzZ6ZQ+okdZM6uustbSFtkirEI7rexMN/QY6HbUj8SJp4J7fwUlZWFnrooYdCtbW1oe3bt5ufSh9yzHLsUgepS6w6yhKUkxrxcBbi4Y90i4dN6NWPpJo3b54aP368Wr9+vdkSnzy7K5NyFBUVqby8PN27Nyi9naUjkvTGlvnCZepQGVfcPaFILCUlJWr27Nlq5MiRZktqEQ/ikQyZEg9r6PQPJJF01pk2bVqo8UTV5N1+pi5SV6lzEDsqEY9gIR7wG4kfvpF7fJWVlaGCgoKYJ4NMWBo/lek6psM9WuIRLMQDfuFSP3y3f/9+/fyyTMpRXV2tL3Om65+hTLcqlytlQhEZW1wGZMlJsxHHiEewEA8kG4kfKSf3BtetW6fvC8qybds2tXv3br0ESYcOHfTSqVMnfa9VFpkvPDc3s6YOJR7BQjzgNRI/AAAWYcheAAAsQuIHAMAiJH4AACxC4gcAwCIkfgAALELiBwDAIiR+AAAsQuIHAMAiJH4AACxC4gcAwCIkfgAALELiBwDAIiR+AAAsQuIHAMAiJH4AACxC4gcAwCIkfgAALELiBwDAIiR+AAAsQuIHAMAiJH4AACxC4gcAwCIkfgAALELiBwDAIiR+AAAsQuIHAMAiJH4AACxC4gcAwCIkfgAALELiBwDAIiR+AAAsQuIHAMAiJH4AACxC4gcAwCIkfgAALELiBwDAIiR+AAAsQuIHAMAiJH4AACxC4gcAwCIkfgAALELiBwDAIiR+AACsodT/ABuQdlEPAHYPAAAAAElFTkSuQmCC)"
   ]
  },
  {
   "cell_type": "code",
   "execution_count": 24,
   "metadata": {
    "colab": {
     "base_uri": "https://localhost:8080/"
    },
    "id": "jV7UH_h39vj-",
    "outputId": "0ea3dacc-1a48-41d9-b136-48904e03baa3"
   },
   "outputs": [
    {
     "name": "stdout",
     "output_type": "stream",
     "text": [
      "0.0\n"
     ]
    }
   ],
   "source": [
    "dev = qml.device('default.qubit', wires = 1)\n",
    "@qml.qnode(dev)\n",
    "def circuit():\n",
    "\n",
    "    ##################\n",
    "    # YOUR CODE HERE #\n",
    "    ##################\n",
    "    #qml.Hadamard(wires = 0)\n",
    "    #qml.Z(wires = 0)\n",
    "\n",
    "    return #qml.expval(qml.Z(wires = 0))\n",
    "print(circuit())"
   ]
  },
  {
   "cell_type": "code",
   "execution_count": 25,
   "metadata": {},
   "outputs": [
    {
     "name": "stdout",
     "output_type": "stream",
     "text": [
      "Checking exercise: Expectation Value\n",
      "Correct\n"
     ]
    }
   ],
   "source": [
    "#DO NOT EDIT THIS CELL\n",
    "ans = Answer(dev, circuit)\n",
    "grade(exercise_expval, ans)"
   ]
  },
  {
   "cell_type": "markdown",
   "metadata": {
    "id": "p6VliROeFHvY"
   },
   "source": [
    "Dans le dernier exercice vous avez calculé la valeur moyenne analytiquement. Sur du vrai matériel quantique, la nature probabiliste du calcul quantique nous force plutôt à faire des échantillonages répétés afin de calculer la valeur moyenne.\n",
    "\n",
    "Considérez le même circuit mais testez le avec plusieurs nombre d'échantillons ('shots'). Quelles sont les valeurs possibles après un seul échantillonage? Que se passe-t-il quand vous augmentez le nombre d'échantillons?"
   ]
  },
  {
   "cell_type": "code",
   "execution_count": 37,
   "metadata": {
    "id": "r7m-sLpK6uzT"
   },
   "outputs": [
    {
     "name": "stdout",
     "output_type": "stream",
     "text": [
      "[tensor(-1., requires_grad=True), tensor(-0.08, requires_grad=True), tensor(-0.062, requires_grad=True), tensor(0.0036, requires_grad=True), tensor(-0.00578, requires_grad=True)]\n"
     ]
    }
   ],
   "source": [
    "#Adapté du Codebook I.10.2\n",
    "resultats = []\n",
    "\n",
    "# Différentes nombre d'échantillonage\n",
    "n_echantillons = [1, 100, 1000, 10000, 100000]\n",
    "for n in n_echantillons:\n",
    "    dev = qml.device('default.qubit', wires = 1, shots = n)\n",
    "    @qml.qnode(dev)\n",
    "    def circuit():\n",
    "        qml.Hadamard(wires = 0)\n",
    "        qml.Z(wires = 0)\n",
    "        return qml.expval(qml.Z(wires = 0))\n",
    "    resultats.append(circuit())\n",
    "\n",
    "print(resultats)"
   ]
  },
  {
   "cell_type": "markdown",
   "metadata": {
    "id": "4H_zCXokh_Ve"
   },
   "source": [
    "## États et matrice de densité\n",
    "  "
   ]
  },
  {
   "cell_type": "markdown",
   "metadata": {
    "id": "KrS-7W1drP-X"
   },
   "source": [
    "La mesure `qml.state()` nous donne la sortie la plus complète possible, c'est-à-dire la fonction d'onde complète dans la base de calcul. Elle n'accepte aucun observable et renvoie un état pur."
   ]
  },
  {
   "cell_type": "code",
   "execution_count": null,
   "metadata": {
    "colab": {
     "base_uri": "https://localhost:8080/",
     "height": 39
    },
    "id": "MmwoRBF9rVW5",
    "outputId": "a1937fb7-23f2-43b2-d083-70f578bce79d"
   },
   "outputs": [
    {
     "data": {
      "text/latex": [
       "$$0.6851245438 |00\\rangle+0.6851245438 |01\\rangle- 0.1749410173 i |10\\rangle- 0.1749410173 i |11\\rangle$$"
      ],
      "text/plain": [
       "<IPython.core.display.Latex object>"
      ]
     },
     "execution_count": 20,
     "metadata": {},
     "output_type": "execute_result"
    }
   ],
   "source": [
    "@qml.qnode(dev)\n",
    "def circuit_state(theta):\n",
    "    qml.RX(theta, wires=0)\n",
    "    qml.Hadamard(wires=1)\n",
    "    qml.CNOT(wires=[0, 1])\n",
    "    return qml.state()\n",
    "\n",
    "\n",
    "Statevector(circuit_state(0.5)).draw('latex')\n"
   ]
  },
  {
   "cell_type": "markdown",
   "metadata": {
    "id": "Or7oCC9Dr7PM"
   },
   "source": [
    "Nous pourrions aussi être intéressés par l'obtention de la matrice de densité dans la base de calcul. Dans ce cas, nous pouvons utiliser `qml.density_matrix()`."
   ]
  },
  {
   "cell_type": "code",
   "execution_count": null,
   "metadata": {
    "colab": {
     "base_uri": "https://localhost:8080/"
    },
    "id": "35q_5hlYtDJa",
    "outputId": "87fd3552-f94e-4eb3-8570-3d4754a953b8"
   },
   "outputs": [
    {
     "data": {
      "text/plain": [
       "tensor([[0.93879128+0.j        , 0.        +0.23971277j],\n",
       "        [0.        -0.23971277j, 0.06120872+0.j        ]], requires_grad=True)"
      ]
     },
     "execution_count": 26,
     "metadata": {},
     "output_type": "execute_result"
    }
   ],
   "source": [
    "@qml.qnode(dev)\n",
    "def circuit_density_matrix(theta):\n",
    "    qml.RX(theta, wires=0)\n",
    "    qml.Hadamard(wires=1)\n",
    "    qml.CNOT(wires=[0, 1])\n",
    "    return qml.density_matrix(wires=0)\n",
    "\n",
    "circuit_density_matrix(0.5)\n"
   ]
  }
 ],
 "metadata": {
  "colab": {
   "provenance": []
  },
  "kernelspec": {
   "display_name": "Python 3 (ipykernel)",
   "language": "python",
   "name": "python3"
  },
  "language_info": {
   "codemirror_mode": {
    "name": "ipython",
    "version": 3
   },
   "file_extension": ".py",
   "mimetype": "text/x-python",
   "name": "python",
   "nbconvert_exporter": "python",
   "pygments_lexer": "ipython3",
   "version": "3.9.1"
  }
 },
 "nbformat": 4,
 "nbformat_minor": 4
}
