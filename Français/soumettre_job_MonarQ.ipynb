{
 "cells": [
  {
   "cell_type": "markdown",
   "metadata": {},
   "source": [
    "# Soumettre un calcul sur MonarQ - Procédure"
   ]
  },
  {
   "cell_type": "markdown",
   "metadata": {},
   "source": [
    "L'accès à l'ordinateur quantique MonarQ se fait via Narval en lancant un JupyterLab: https://jupyterhub.narval.alliancecan.ca/"
   ]
  },
  {
   "cell_type": "markdown",
   "metadata": {},
   "source": [
    "Dans le cadre de cette formation, chaque utilisateur se verra distribuer un accès et des informations de connexion."
   ]
  },
  {
   "cell_type": "markdown",
   "metadata": {},
   "source": [
    "On peut ensuite commencer à utiliser PennyLane pour définir son device et écrire son premier circuit sur MonarQ !"
   ]
  },
  {
   "cell_type": "code",
   "execution_count": null,
   "metadata": {},
   "outputs": [],
   "source": [
    "import pennylane as qml\n",
    "\n",
    "\n",
    "host = \"http://chrysalide.monarq.calculquebec.ca\"\n",
    "user = \"usernamequimeserafourni\"\n",
    "access_token = \"tokenquimeserafourni\"\n",
    "project_id = \"\"\n",
    "realm = \"calculqc\"\n",
    "\n",
    "\n",
    "num_wires = 24\n",
    "num_shots = 1\n",
    "\n",
    "# Definir le device\n",
    "dev = qml.device(\"snowflurry.qubit\",\n",
    "                    wires=num_wires,\n",
    "                    shots=num_shots,\n",
    "                    host=host,\n",
    "                    user=user,\n",
    "                    access_token=access_token,\n",
    "                    project_id=project_id,\n",
    "                    realm=realm\n",
    "                    )\n",
    "\n",
    "@qml.qnode(dev)\n",
    "\n",
    "def circuit():\n",
    "    # Mon premier circuit sur MonarQ!"
   ]
  }
 ],
 "metadata": {
  "kernelspec": {
   "display_name": "Python 3 (ipykernel)",
   "language": "python",
   "name": "python3"
  },
  "language_info": {
   "codemirror_mode": {
    "name": "ipython",
    "version": 3
   },
   "file_extension": ".py",
   "mimetype": "text/x-python",
   "name": "python",
   "nbconvert_exporter": "python",
   "pygments_lexer": "ipython3",
   "version": "3.9.1"
  }
 },
 "nbformat": 4,
 "nbformat_minor": 4
}
