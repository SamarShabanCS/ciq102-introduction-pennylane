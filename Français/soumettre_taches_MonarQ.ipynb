{
 "cells": [
  {
   "cell_type": "markdown",
   "metadata": {},
   "source": [
    "# Soumettre un calcul sur MonarQ - Procédure"
   ]
  },
  {
   "cell_type": "markdown",
   "metadata": {},
   "source": [
    "L'accès à l'ordinateur quantique MonarQ se fait via Narval en lancant un JupyterLab: https://jupyterhub.narval.alliancecan.ca/\n",
    "\n",
    "Le script ci-dessous montre comment définir votre API utilisateur pour exécuter des tâches sur MonarQ. Vous pouvez ensuite commencer à utiliser PennyLane pour définir votre machine (\"device\") et écrire votre circuit quantique. "
   ]
  },
  {
   "cell_type": "code",
   "execution_count": null,
   "metadata": {},
   "outputs": [],
   "source": [
    "import pennylane as qml\n",
    "\n",
    "\n",
    "host = \"http://monarq.calculquebec.ca\"\n",
    "user = \"usernamequimeserafourni\"\n",
    "access_token = \"tokenquimeserafourni\"\n",
    "project_id = \"\"\n",
    "realm = \"calculqc\"\n",
    "\n",
    "\n",
    "num_wires = 24 #MonarQ est un ordinateur quantique à 24 qubits\n",
    "num_shots = 1\n",
    "\n",
    "# Définir le device\n",
    "dev = qml.device(\"snowflurry.qubit\",\n",
    "                    wires=num_wires,\n",
    "                    shots=num_shots,\n",
    "                    host=host,\n",
    "                    user=user,\n",
    "                    access_token=access_token,\n",
    "                    project_id=project_id,\n",
    "                    realm=realm\n",
    "                    )\n"
   ]
  },
  {
   "cell_type": "markdown",
   "metadata": {},
   "source": [
    "Exécutons un état GHZ à trois qubits. Cet état est défini comme suit\n",
    "\\begin{equation}\n",
    "\\vert \\psi \\rangle = \\frac{1}{\\sqrt{2}}(\\vert 000 \\rangle + \\vert 111 \\rangle)\n",
    "\\end{equation}\n",
    "Quelle séquence de portes devez-vous appliquer pour créer cet état ?\n",
    "\n",
    "Indice : Cet état est très similaire à l'état de Bell suivant $\\vert \\psi_{Bell} \\rangle = \\frac{1}{\\sqrt{2}}(\\vert 00 \\rangle + \\vert 11 \\rangle)$. \n",
    "Assurez-vous de retourner une mesure qui peut être effectuée sur une vraie machine quantique (et non sur simulateur)."
   ]
  },
  {
   "cell_type": "code",
   "execution_count": null,
   "metadata": {},
   "outputs": [],
   "source": [
    "#@qml.qnode(dev)\n",
    "#def circuit():\n",
    "########YOUR CODE HERE #######\n",
    "    #return "
   ]
  }
 ],
 "metadata": {
  "kernelspec": {
   "display_name": "Python 3 (ipykernel)",
   "language": "python",
   "name": "python3"
  },
  "language_info": {
   "codemirror_mode": {
    "name": "ipython",
    "version": 3
   },
   "file_extension": ".py",
   "mimetype": "text/x-python",
   "name": "python",
   "nbconvert_exporter": "python",
   "pygments_lexer": "ipython3",
   "version": "3.9.1"
  }
 },
 "nbformat": 4,
 "nbformat_minor": 4
}
