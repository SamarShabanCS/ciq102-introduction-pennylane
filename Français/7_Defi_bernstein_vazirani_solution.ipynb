{
 "cells": [
  {
   "cell_type": "code",
   "execution_count": null,
   "metadata": {
    "id": "r8a9Mclq_QZe"
   },
   "outputs": [],
   "source": [
    "import pennylane as qml\n",
    "from pennylane import numpy as np\n",
    "import matplotlib.pyplot as plt\n",
    "\n",
    "# Définir la chaîne binaire cachée s (par exemple, s = '110')\n",
    "s = '110'\n",
    "\n",
    "\n",
    "n_qubits = len(s)  # Nombre de qubits pour l'entrée\n",
    "dev = qml.device('default.qubit', wires=n_qubits + 1)\n",
    "\n",
    "@qml.qnode(dev)\n",
    "def bernstein_vazirani(s):\n",
    "    # Étapes 1-2: Initialisation et superposition\n",
    "    for i in range(n_qubits):\n",
    "        qml.Hadamard(wires=i)\n",
    "\n",
    "    qml.PauliX(wires=n_qubits)\n",
    "    qml.Hadamard(wires=n_qubits)\n",
    "\n",
    "    # Étape 3 : Application de l'oracle pour la chaîne binaire s\n",
    "    for i in range(n_qubits):\n",
    "        if s[i] == '1':\n",
    "            qml.CNOT(wires=[i, n_qubits])\n",
    "\n",
    "    # Étape 4 : Transformation Hadamard\n",
    "    for i in range(n_qubits):\n",
    "        qml.Hadamard(wires=i)\n",
    "\n",
    "    # Étape 5 : Mesure des qubits d'entrée\n",
    "    return qml.probs(wires=range(n_qubits))\n",
    "\n",
    "\n",
    "\n",
    "# Exécuter le circuit avec la chaîne binaire s\n",
    "probs = bernstein_vazirani(s)\n",
    "print(probs)\n",
    "\n",
    "#∣000⟩, ∣001⟩, ∣010⟩, ∣011⟩, ∣100⟩, ∣101⟩, ∣110⟩, ∣111⟩\n",
    "\n",
    "result = np.argmax(probs)\n",
    "\n",
    "binary_result = f\"{result:0{n_qubits}b}\"  # Convertir en chaîne binaire\n",
    "\n",
    "print(f\"Chaîne binaire trouvée : {binary_result}\")\n",
    "\n",
    "# Dessiner le circuit avec Matplotlib\n",
    "fig, ax = qml.draw_mpl(bernstein_vazirani)(s)\n",
    "plt.show()\n"
   ]
  }
 ],
 "metadata": {
  "colab": {
   "provenance": []
  },
  "kernelspec": {
   "display_name": "Python 3",
   "name": "python3"
  },
  "language_info": {
   "name": "python"
  }
 },
 "nbformat": 4,
 "nbformat_minor": 0
}
