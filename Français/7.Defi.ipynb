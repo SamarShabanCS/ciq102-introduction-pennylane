{
  "nbformat": 4,
  "nbformat_minor": 0,
  "metadata": {
    "colab": {
      "provenance": []
    },
    "kernelspec": {
      "name": "python3",
      "display_name": "Python 3"
    },
    "language_info": {
      "name": "python"
    }
  },
  "cells": [
    {
      "cell_type": "markdown",
      "source": [
        "# 7. Défi récapitulatif"
      ],
      "metadata": {
        "id": "UuWSy5AvLCPm"
      }
    },
    {
      "cell_type": "markdown",
      "source": [
        "À travers ce défi, nous allons créer le verrou le plus inviolable au monde à savoir un verrou quantique !\n",
        "\n",
        "Ce verrou est représenté par un opérateur unitaire *U*, qui a toutes ses valeurs propres égales à 1, sauf une. Cette exception, notre état propre \"clé\", a une valeur propre de -1.\n",
        "\n",
        "$$U|\\text{clé}\\rangle = -|\\text{clé}\\rangle$$\n",
        "\n",
        "Ce défi consiste donc à trouver un moyen de distinguer l'état propre \"clé\" des autres états propres, sachant que l'information est contenue dans la phase de l'opérateur. Heureusement, il existe un concept appelé **retour de phase** qui peut nous aider.\n",
        "\n",
        "Lorsque l'état propre correct est entré, la phase -1 de U est transférée au qubit auxiliaire, modifiant ainsi son état de $|+\\rangle$ à $|-\\rangle$. Le résultat de la mesure sur le qubit de contrôle indique alors si l'état propre correct a été entré ou non, indiquant si le verrou est déverrouillé ou non. Dans notre cas, $|1\\rangle = H|-\\rangle$\n",
        "déverouille le verrou, et $|0\\rangle = H|+\\rangle$ est un échec.\n",
        "\n",
        "Dans ce contexte, la clé correspond à un entier encodé en binaire *m*, qui représente notre état propre \"clé\"\n",
        "\n",
        "$$\\begin{aligned}\n",
        "U|n\\rangle =\n",
        "\\begin{cases}\n",
        "  -|n\\rangle, & \\text{si } n=m \\\\\n",
        "  |n\\rangle, & \\text{si } n\\neq m\n",
        "\\end{cases}\n",
        "\\end{aligned}$$\n",
        "\n",
        "Une fois le verrou construit, nous pouvons donc tester les différents états propres de clé que nous avons choisis et distinguer celui qui déverouille notre fameux verrou quantique.\n",
        "\n",
        "\n",
        "\n",
        "\n",
        "\n"
      ],
      "metadata": {
        "id": "yuqMxnVuFUDy"
      }
    },
    {
      "cell_type": "markdown",
      "source": [
        "\n",
        "Marche à suivre:\n",
        "* Choisir le nombre de qubits en fonction de la taille de la clé souhaitée.\n",
        "* Définir la machine quantique.\n",
        "* Définir le verrou quantique en utilisant l'opération `FlipSign`.\n",
        "* Utiliser l'opération `BasisState` pour créer la clé.\n",
        "* Définir une fonction pour l'ouverture du verrou.\n",
        "* Définir une fonction pour vérifier la clé."
      ],
      "metadata": {
        "id": "07NjwTWPKP7B"
      }
    },
    {
      "cell_type": "markdown",
      "source": [
        "SOLUTION"
      ],
      "metadata": {
        "id": "fVY7kESl7rbY"
      }
    },
    {
      "cell_type": "code",
      "source": [
        "#Défi adapté de https://pennylane.ai/qml/demos/tutorial_phase_kickback/\n",
        "\n",
        "import pennylane as qml\n",
        "from pennylane import numpy as np\n",
        "\n",
        "#Définir le nombre qubits\n",
        "#Pour une combinaison à n chiffres, il faut n+1 qubits (le premier qubit est le controle, et les autres sont la cible )\n",
        "num_wires = 5\n",
        "\n",
        "dev = qml.device('default.qubit', wires = num_wires, shots = 1)\n",
        "\n",
        "\n",
        "#Fonction qui définit la serrure quantique selon une clé secrète. La clé doit avoir comme longueur le nombre de qubit -1\n",
        "def quantum_lock(secret_key):\n",
        "  return qml.FlipSign(secret_key, wires = list(range(1, num_wires)))\n",
        "\n",
        "def build_key(key):\n",
        "  return qml.BasisState(key, wires = list(range(1, num_wires)))"
      ],
      "metadata": {
        "id": "HtKfYW6xx-0i"
      },
      "execution_count": null,
      "outputs": []
    },
    {
      "cell_type": "code",
      "source": [
        "@qml.qnode(dev)\n",
        "def lock_mechanism(lock, key):\n",
        "    build_key(key)\n",
        "    qml.Hadamard(wires=0)  # Hadamard sur qubit auxiliaire\n",
        "    qml.ctrl(lock, control=0)  #Porte controllée\n",
        "    qml.Hadamard(wires=0)  # Hadamard sur le qubit auxiliaire\n",
        "    return qml.sample(wires=0)"
      ],
      "metadata": {
        "id": "jF-xW2yD7EEq"
      },
      "execution_count": null,
      "outputs": []
    },
    {
      "cell_type": "code",
      "source": [
        "def check_key(lock, key):\n",
        "  if lock_mechanism(lock, key) ==1:\n",
        "    print('BRAVO : le verrou est déverrouillé')\n",
        "  else:\n",
        "    print('ÉCHEC: le verrou est vérouillé')"
      ],
      "metadata": {
        "id": "oQY0CVvq7EZj"
      },
      "execution_count": null,
      "outputs": []
    },
    {
      "cell_type": "code",
      "source": [
        "#Définir la clé secrète et définir la serrure quantique\n",
        "secret_key = np.array([1,1,1,0])\n",
        "lock = quantum_lock(secret_key)"
      ],
      "metadata": {
        "id": "DD7XYg9U7L80"
      },
      "execution_count": null,
      "outputs": []
    },
    {
      "cell_type": "code",
      "source": [
        "key_guess = np.array([0,0,0,0])\n",
        "check_key(lock, key_guess)"
      ],
      "metadata": {
        "colab": {
          "base_uri": "https://localhost:8080/"
        },
        "id": "90KaDORk7Tt0",
        "outputId": "deb0280b-3f73-4ca3-b2e9-e20ffacbbb5c"
      },
      "execution_count": null,
      "outputs": [
        {
          "output_type": "stream",
          "name": "stdout",
          "text": [
            "ÉCHEC: le verrou est vérouillé\n"
          ]
        }
      ]
    },
    {
      "cell_type": "code",
      "source": [
        "key_guess = np.array([1,1,1,0])\n",
        "check_key(lock, key_guess)"
      ],
      "metadata": {
        "colab": {
          "base_uri": "https://localhost:8080/"
        },
        "id": "MomlrFj97WUs",
        "outputId": "e4869b03-c4a9-442f-f851-7cae08115274"
      },
      "execution_count": null,
      "outputs": [
        {
          "output_type": "stream",
          "name": "stdout",
          "text": [
            "BRAVO : le verrou est déverrouillé\n"
          ]
        }
      ]
    },
    {
      "cell_type": "markdown",
      "source": [
        "Défi adapté de https://pennylane.ai/qml/demos/tutorial_phase_kickback/"
      ],
      "metadata": {
        "id": "bzK1cg0L70Ac"
      }
    }
  ]
}