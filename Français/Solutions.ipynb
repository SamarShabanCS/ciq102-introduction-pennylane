{
 "cells": [
  {
   "cell_type": "markdown",
   "metadata": {},
   "source": [
    "# 2. Portes quantiques\n"
   ]
  },
  {
   "cell_type": "code",
   "execution_count": 2,
   "metadata": {},
   "outputs": [],
   "source": [
    "import pennylane as qml\n",
    "from pennylane import numpy as np\n",
    "import qiskit\n",
    "from qiskit.quantum_info import Statevector"
   ]
  },
  {
   "cell_type": "code",
   "execution_count": 3,
   "metadata": {},
   "outputs": [],
   "source": [
    "# Etat de Bell\n",
    "dev = qml.device('default.qubit', wires = 2)\n",
    "@qml.qnode(dev)\n",
    "\n",
    "def circuit():\n",
    "\n",
    "    qml.Hadamard(wires = 0)\n",
    "    qml.CNOT(wires = [0,1])\n",
    "\n",
    "    return qml.state()"
   ]
  },
  {
   "cell_type": "markdown",
   "metadata": {},
   "source": [
    "# 3. Préparation d'états"
   ]
  },
  {
   "cell_type": "code",
   "execution_count": 4,
   "metadata": {},
   "outputs": [],
   "source": [
    "dev = qml.device('default.qubit', wires = 2)\n",
    "@qml.qnode(dev)\n",
    "def psi_moins():\n",
    " \n",
    "    qml.PauliX(wires = 0)\n",
    "    qml.Hadamard(wires = 0)\n",
    "    qml.CNOT(wires = [0,1])\n",
    "    return qml.state()\n",
    "\n",
    "@qml.qnode(dev)\n",
    "def phi_plus():\n",
    "\n",
    "  qml.Hadamard(wires = 0)\n",
    "  qml.CNOT(wires = [0,1])\n",
    "  qml.PauliX(wires = 0)\n",
    "  return qml.state()\n",
    "\n",
    "@qml.qnode(dev)\n",
    "def phi_moins():\n",
    "\n",
    "  qml.Hadamard(wires = 0)\n",
    "  qml.CNOT(wires = [0,1])\n",
    "  qml.Z(wires = 0)\n",
    "  qml.X(wires = 1)\n",
    "  return qml.state()\n",
    "\n",
    "#modifier avec la fonction pour visualiser l'état résultant\n",
    "#Statevector(phi_plus()).draw('latex')"
   ]
  },
  {
   "cell_type": "code",
   "execution_count": 6,
   "metadata": {},
   "outputs": [
    {
     "data": {
      "text/latex": [
       "$$\\frac{\\sqrt{3}}{2} |0\\rangle+\\frac{i}{2} |1\\rangle$$"
      ],
      "text/plain": [
       "<IPython.core.display.Latex object>"
      ]
     },
     "execution_count": 6,
     "metadata": {},
     "output_type": "execute_result"
    }
   ],
   "source": [
    "dev = qml.device('default.qubit', wires=1)\n",
    "@qml.qnode(dev)\n",
    "def prepare_with_gate():\n",
    "  qml.RX(np.pi/3, wires = 0)\n",
    "  return qml.state()\n",
    "\n",
    "state = np.array([np.sqrt(3)/2, 0.5j])\n",
    "\n",
    "@qml.qnode(dev)\n",
    "def prepare_with_StatePrep(state):\n",
    "  qml.StatePrep(state=state, wires=0)\n",
    "  return qml.state()\n",
    "\n",
    "Statevector(prepare_with_StatePrep(state)).draw('latex')"
   ]
  },
  {
   "cell_type": "markdown",
   "metadata": {},
   "source": [
    "# Résumé semaine 1"
   ]
  },
  {
   "cell_type": "code",
   "execution_count": null,
   "metadata": {},
   "outputs": [],
   "source": [
    "dev = qml.device(\"default.qubit\", wires = 3)\n",
    "@qml.qnode(dev)\n",
    "def circuit():\n",
    "    qml.Hadamard(wires = 0)\n",
    "    qml.RX(np.pi, wires = 1)\n",
    "    qml.CNOT(wires = [1,2])\n",
    "    qml.RY(np.pi, wires = 1 )\n",
    "    return qml.state()\n",
    "print(circuit())"
   ]
  },
  {
   "cell_type": "markdown",
   "metadata": {},
   "source": [
    "# 4. Mesures"
   ]
  },
  {
   "cell_type": "code",
   "execution_count": null,
   "metadata": {},
   "outputs": [],
   "source": [
    "dev = qml.device('default.qubit', wires = 1)\n",
    "@qml.qnode(dev)\n",
    "def circuit():\n",
    "\n",
    "    qml.Hadamard(wires = 0)\n",
    "    qml.Z(wires = 0)\n",
    "\n",
    "    return qml.expval(qml.Z(wires = 0))\n",
    "    \n",
    "print(circuit())"
   ]
  },
  {
   "cell_type": "markdown",
   "metadata": {},
   "source": [
    "# Soumettre des tâches sur MonarQ"
   ]
  },
  {
   "cell_type": "code",
   "execution_count": null,
   "metadata": {},
   "outputs": [],
   "source": [
    "import pennylane as qml\n",
    "\n",
    "host = \"http://monarq.calculquebec.ca\"\n",
    "user = \"usernamequimeserafourni\"\n",
    "access_token = \"tokenquimeserafourni\"\n",
    "project_id = \"\"\n",
    "realm = \"calculqc\"\n",
    "\n",
    "num_wires = 24\n",
    "num_shots = 1\n",
    "\n",
    "# Define the device (MonarQ)\n",
    "dev = qml.device(\"snowflurry.qubit\",\n",
    "                    wires=num_wires,\n",
    "                    shots=num_shots,\n",
    "                    host=host,\n",
    "                    user=user,\n",
    "                    access_token=access_token,\n",
    "                    project_id=project_id,\n",
    "                    realm=realm\n",
    "                    )\n",
    "#The three-qubit GHZ state\n",
    "@qml.qnode(dev)\n",
    "def circuit():\n",
    "    qml.Hadamard(wires = 0)\n",
    "    qml.CNOT(wires = [0,1])\n",
    "    qml.CNOT(wires = [1,2])\n",
    "    return qml.counts() #return qml.counts() since the goal is to run this on real quantum hardware"
   ]
  }
 ],
 "metadata": {
  "kernelspec": {
   "display_name": "Python 3 (ipykernel)",
   "language": "python",
   "name": "python3"
  },
  "language_info": {
   "codemirror_mode": {
    "name": "ipython",
    "version": 3
   },
   "file_extension": ".py",
   "mimetype": "text/x-python",
   "name": "python",
   "nbconvert_exporter": "python",
   "pygments_lexer": "ipython3",
   "version": "3.9.1"
  }
 },
 "nbformat": 4,
 "nbformat_minor": 4
}
