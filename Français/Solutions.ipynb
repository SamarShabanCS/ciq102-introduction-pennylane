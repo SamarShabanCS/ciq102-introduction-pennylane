{
 "cells": [
  {
   "cell_type": "markdown",
   "metadata": {},
   "source": [
    "# 2. Portes quantiques\n"
   ]
  },
  {
   "cell_type": "code",
   "execution_count": 9,
   "metadata": {},
   "outputs": [],
   "source": [
    "import pennylane as qml\n",
    "from pennylane import numpy as np\n",
    "import qiskit\n",
    "from qiskit.quantum_info import Statevector"
   ]
  },
  {
   "cell_type": "code",
   "execution_count": 10,
   "metadata": {},
   "outputs": [],
   "source": [
    "# Etat de Bell\n",
    "dev = qml.device('default.qubit', wires = 2)\n",
    "@qml.qnode(dev)\n",
    "\n",
    "def circuit():\n",
    "\n",
    "    qml.Hadamard(wires = 0)\n",
    "    qml.CNOT(wires = [0,1])\n",
    "\n",
    "    return qml.state()"
   ]
  },
  {
   "cell_type": "markdown",
   "metadata": {},
   "source": [
    "# 3. Préparation d'états"
   ]
  },
  {
   "cell_type": "code",
   "execution_count": 11,
   "metadata": {},
   "outputs": [],
   "source": [
    "\n",
    "\n",
    "dev = qml.device('default.qubit', wires = 2)\n",
    "@qml.qnode(dev)\n",
    "def psi_moins():\n",
    " \n",
    "    qml.PauliX(wires = 0)\n",
    "    qml.Hadamard(wires = 0)\n",
    "    qml.CNOT(wires = [0,1])\n",
    "    return qml.state()\n",
    "\n",
    "@qml.qnode(dev)\n",
    "def phi_plus():\n",
    "\n",
    "  qml.Hadamard(wires = 0)\n",
    "  qml.CNOT(wires = [0,1])\n",
    "  qml.PauliX(wires = 0)\n",
    "  return qml.state()\n",
    "\n",
    "@qml.qnode(dev)\n",
    "def phi_moins():\n",
    "\n",
    "  qml.Hadamard(wires = 0)\n",
    "  qml.CNOT(wires = [0,1])\n",
    "  qml.Z(wires = 0)\n",
    "  qml.X(wires = 1)\n",
    "  return qml.state()\n",
    "\n",
    "#modifier avec la fonction pour visualiser l'état résultant\n",
    "#Statevector(phi_plus()).draw('latex')"
   ]
  },
  {
   "cell_type": "code",
   "execution_count": null,
   "metadata": {},
   "outputs": [],
   "source": [
    "dev = qml.device('default.qubit', wires=1)\n",
    "@qml.qnode(dev)\n",
    "def prepare_with_gate():\n",
    "  qml.RX(np.pi/3, wires = 0)\n",
    "  return qml.state()\n",
    "\n",
    "\n",
    "\n",
    "state = np.array([np.sqrt(3)/2, 0.5j])\n",
    "\n",
    "@qml.qnode(dev)\n",
    "\n",
    "\n",
    "def prepare_with_StatePrep(state):\n",
    "  qml.StatePrep(state=state, wires=0)\n",
    "  return qml.state()\n",
    "\n",
    "\n",
    "Statevector(prepare_with_StatePrep(state)).draw('latex')"
   ]
  },
  {
   "cell_type": "markdown",
   "metadata": {},
   "source": [
    "# 4. Mesure"
   ]
  },
  {
   "cell_type": "code",
   "execution_count": null,
   "metadata": {},
   "outputs": [],
   "source": [
    "dev = qml.device('default.qubit', wires = 1)\n",
    "@qml.qnode(dev)\n",
    "def circuit():\n",
    "\n",
    "    qml.Hadamard(wires = 0)\n",
    "    qml.Z(wires = 0)\n",
    "\n",
    "    return qml.expval(qml.Z(wires = 0))\n",
    "    \n",
    "print(circuit())"
   ]
  }
 ],
 "metadata": {
  "kernelspec": {
   "display_name": "base",
   "language": "python",
   "name": "python3"
  },
  "language_info": {
   "codemirror_mode": {
    "name": "ipython",
    "version": 3
   },
   "file_extension": ".py",
   "mimetype": "text/x-python",
   "name": "python",
   "nbconvert_exporter": "python",
   "pygments_lexer": "ipython3",
   "version": "3.12.2"
  }
 },
 "nbformat": 4,
 "nbformat_minor": 2
}
