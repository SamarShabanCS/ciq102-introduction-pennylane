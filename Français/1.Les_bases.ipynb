{
 "cells": [
  {
   "cell_type": "markdown",
   "metadata": {
    "id": "rqYOGDaOHpj5"
   },
   "source": [
    "# 0. Introduction"
   ]
  },
  {
   "cell_type": "markdown",
   "metadata": {
    "id": "2iZMqh7FEiq6"
   },
   "source": [
    "PennyLane est une plateforme logicielle à code source ouvert pour le calcul quantique différentiable, développée par Xanadu."
   ]
  },
  {
   "cell_type": "markdown",
   "metadata": {
    "id": "rORW3zB0HhGt"
   },
   "source": [
    "\n",
    "# 1.  Les bases : circuit, machine et QNode\n"
   ]
  },
  {
   "cell_type": "markdown",
   "metadata": {
    "id": "By7-2695EpVk"
   },
   "source": [
    "Importez PennyLane. "
   ]
  },
  {
   "cell_type": "code",
   "execution_count": 3,
   "metadata": {
    "id": "UutlrYZTElfS"
   },
   "outputs": [],
   "source": [
    "import pennylane as qml\n",
    "import numpy as np"
   ]
  },
  {
   "cell_type": "markdown",
   "metadata": {
    "id": "qNThHJoPEaBS"
   },
   "source": [
    "Dans PennyLane, un circuit est représenté par une fonction quantique. Une fonction quantique est une fonction Python qui doit contenir une ou plusieurs opérations quantiques et renvoyer une ou plusieurs mesures quantiques."
   ]
  },
  {
   "cell_type": "code",
   "execution_count": 4,
   "metadata": {
    "id": "0dQcLPgCEaRW"
   },
   "outputs": [],
   "source": [
    "def quantum_function(x, y):\n",
    "    qml.RZ(x, wires=0)\n",
    "    qml.CNOT(wires=[0,1])\n",
    "    qml.RY(y, wires=1)\n",
    "    return qml.expval(qml.PauliZ(1))"
   ]
  },
  {
   "cell_type": "markdown",
   "metadata": {
    "id": "By_naGzfFB3X"
   },
   "source": [
    "Pour créer un circuit quantique, il faut spécifier la machine sur laquelle le circuit sera exécuté (‘[device](https://docs.pennylane.ai/en/stable/code/qml_devices.html)’). Tout objet de calcul qui peut appliquer des opérations quantiques et renvoyer une valeur de mesure est une machine quantique, que ce soit du matériel quantique (MonarQ) ou un simulateur quantique (`default.qubit`, `lightning.qubit`)"
   ]
  },
  {
   "cell_type": "markdown",
   "metadata": {
    "id": "TTBDkshLFbm6"
   },
   "source": [
    "Dans PennyLane, `wires` désigne le nombre de qubits. Par défaut, les qubits sont initialisés à l'état $\\vert 0 \\rangle$."
   ]
  },
  {
   "cell_type": "code",
   "execution_count": 5,
   "metadata": {
    "id": "oUPQXDeOE3R9"
   },
   "outputs": [],
   "source": [
    "#\"default.qubit\" est un simulateur quantique standard\n",
    "dev = qml.device('default.qubit', wires = 2) #Machine quantique à 2 qubits"
   ]
  },
  {
   "cell_type": "markdown",
   "metadata": {
    "id": "5ouCy7ucGL94"
   },
   "source": [
    "Pour faire un calcul quantique, il faut un [QNode](https://docs.pennylane.ai/en/stable/code/api/pennylane.QNode.html). Un QNode est une encapsulation abstraite d'une fonction quantique, décrite par un circuit quantique. Il permet de lier le circuit quantique à la machine. Les QNodes peuvent facilement être créés avec le décorateur `qnode` (`@qml.qnode(dev)`)."
   ]
  },
  {
   "cell_type": "markdown",
   "metadata": {
    "id": "prSHEveVHN1q"
   },
   "source": [
    "Le QNode est utilisé pour calculer le résultat d'un circuit quantique et peut calculer des résultats de manière classique. Par exemple, nous allons exécuter les résultats de la fonction quantique en créant un circuit QNode et en passant les paramètres $x$ et $y$ dans la fonction quantique. Ensuite, une porte $RZ$, une porte $CNOT$ et une porte $RY$ seront appliquées au circuit.\n"
   ]
  },
  {
   "cell_type": "code",
   "execution_count": 6,
   "metadata": {
    "id": "YnlADrLqv0cN"
   },
   "outputs": [],
   "source": [
    "@qml.qnode(dev) # Décorateur qnode\n",
    "def quantum_function(x, y):\n",
    "    qml.RZ(x, wires=0)\n",
    "    qml.CNOT(wires=[0,1])\n",
    "    qml.RY(y, wires=1)\n",
    "    return qml.expval(qml.PauliZ(1))"
   ]
  },
  {
   "cell_type": "markdown",
   "metadata": {
    "id": "ZLorhJNCH6sL"
   },
   "source": [
    "La fonction `draw_mpl` permet de visualiser le circuit créé par la fonction `quantum_function()`."
   ]
  },
  {
   "cell_type": "code",
   "execution_count": 7,
   "metadata": {
    "colab": {
     "base_uri": "https://localhost:8080/",
     "height": 355
    },
    "id": "ct2J33-eHOaT",
    "outputId": "1b6e508d-27ec-4c65-c421-b73dcff2b939"
   },
   "outputs": [
    {
     "name": "stdout",
     "output_type": "stream",
     "text": [
      "(<Figure size 600x300 with 1 Axes>, <Axes: >)\n"
     ]
    },
    {
     "data": {
      "image/png": "[encoded data removed]",
      "text/plain": [
       "<Figure size 600x300 with 1 Axes>"
      ]
     },
     "metadata": {},
     "output_type": "display_data"
    }
   ],
   "source": [
    "result = qml.draw_mpl(quantum_function)(np.pi/3, 0.5)\n",
    "print(result)"
   ]
  },
  {
   "cell_type": "code",
   "execution_count": null,
   "metadata": {},
   "outputs": [],
   "source": []
  }
 ],
 "metadata": {
  "colab": {
   "provenance": []
  },
  "kernelspec": {
   "display_name": "Python 3 (ipykernel)",
   "language": "python",
   "name": "python3"
  },
  "language_info": {
   "codemirror_mode": {
    "name": "ipython",
    "version": 3
   },
   "file_extension": ".py",
   "mimetype": "text/x-python",
   "name": "python",
   "nbconvert_exporter": "python",
   "pygments_lexer": "ipython3",
   "version": "3.9.1"
  }
 },
 "nbformat": 4,
 "nbformat_minor": 4
}
