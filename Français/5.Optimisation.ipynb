{
 "cells": [
  {
   "cell_type": "markdown",
   "metadata": {
    "id": "nL2Ac-7o19Ct"
   },
   "source": [
    "# 5.  Optimisation de circuit quantique\n",
    "\n",
    "\n",
    "\n"
   ]
  },
  {
   "cell_type": "markdown",
   "metadata": {
    "id": "hoVbM3GjKKry"
   },
   "source": [
    "L'optimisation de circuit quantique est essentielle en informatique quantique car elle nous permet de trouver les paramètres optimaux pour un circuit quantique qui résout au mieux un problème spécifique. Dans PennyLane, l'optimisation consiste à ajuster les paramètres des portes quantiques pour minimiser ou maximiser une fonction spécifique, appelée fonction de coût."
   ]
  },
  {
   "cell_type": "code",
   "execution_count": 3,
   "metadata": {
    "colab": {
     "base_uri": "https://localhost:8080/"
    },
    "id": "BhVE1HZhKcbA",
    "outputId": "8ea1db6d-0c1a-4ee4-9f7b-18276e0d6f0c"
   },
   "outputs": [
    {
     "name": "stdout",
     "output_type": "stream",
     "text": [
      "Optimized params: [3.14159265]\n"
     ]
    }
   ],
   "source": [
    "import pennylane as qml\n",
    "from pennylane import numpy as np\n",
    "\n",
    "dev = qml.device(\"default.qubit\", wires=1)\n",
    "@qml.qnode(dev)\n",
    "\n",
    "def circuit(params):\n",
    "    qml.RX(params[0], wires=0)\n",
    "    return qml.expval(qml.PauliZ(0)) # De facon équivalente au calcul de valeur moyenne d'un opérateur présentée section 3, la veleur moyenne de l'opérateur <Z> = cos(theta)\n",
    "\n",
    "def cost(params): # Fonction de coût à minimiser, ici on cherche le minimum de la valeur moyenne\n",
    "    return circuit(params)\n",
    "\n",
    "opt = qml.GradientDescentOptimizer(stepsize=0.4) # Fonction d'optimisation afin de minimiser la fonction de coût\n",
    "params = np.array([0.1])\n",
    "steps = 100\n",
    "\n",
    "for i in range(steps):\n",
    "    params = opt.step(cost, params)\n",
    "\n",
    "print(f'Optimized params: {params}') # cos(pi) = -1 !\n"
   ]
  },
  {
   "cell_type": "markdown",
   "metadata": {
    "id": "WgXTR4MnKv8J"
   },
   "source": [
    "[docs.pennylane.ai/en/stable/introduction/interfaces.html](https://docs.pennylane.ai/en/stable/introduction/interfaces.html)"
   ]
  },
  {
   "cell_type": "code",
   "execution_count": null,
   "metadata": {},
   "outputs": [],
   "source": []
  }
 ],
 "metadata": {
  "colab": {
   "provenance": []
  },
  "kernelspec": {
   "display_name": "Python 3 (ipykernel)",
   "language": "python",
   "name": "python3"
  },
  "language_info": {
   "codemirror_mode": {
    "name": "ipython",
    "version": 3
   },
   "file_extension": ".py",
   "mimetype": "text/x-python",
   "name": "python",
   "nbconvert_exporter": "python",
   "pygments_lexer": "ipython3",
   "version": "3.9.1"
  }
 },
 "nbformat": 4,
 "nbformat_minor": 4
}
