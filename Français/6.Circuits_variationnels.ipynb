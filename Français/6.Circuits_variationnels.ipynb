{
 "cells": [
  {
   "cell_type": "markdown",
   "metadata": {
    "id": "yRb2l8cmJxhR"
   },
   "source": [
    "\n",
    "# 6. Circuits quantiques variationnels\n",
    "\n",
    "\n",
    "\n",
    "\n",
    "\n"
   ]
  },
  {
   "cell_type": "markdown",
   "metadata": {
    "id": "5PawQYrwOO1M"
   },
   "source": [
    "Les circuits quantiques variationnels (VQCs) jouent un rôle central en apprentissage machine quantique et en optimisation. Ces circuits utilisent des portes paramétrées dont les paramètres sont optimisés pour atteindre des objectifs spécifiques, comme la résolution de problèmes d'optimisation ou d'apprentissage machine quantique."
   ]
  },
  {
   "cell_type": "code",
   "execution_count": null,
   "metadata": {
    "colab": {
     "base_uri": "https://localhost:8080/"
    },
    "id": "-JbIR0sOOStq",
    "outputId": "277fc9a5-f8c2-4832-de0c-d8d912015a15"
   },
   "outputs": [],
   "source": [
    "import pennylane as qml\n",
    "from pennylane import numpy as np\n",
    "\n",
    "dev = qml.device(\"default.qubit\", wires=2)\n",
    "@qml.qnode(dev)\n",
    "\n",
    "def variational_circuit(params):\n",
    "    qml.RY(params[0], wires=0)\n",
    "    qml.RX(params[1], wires=1)\n",
    "    qml.CNOT(wires=[0, 1])\n",
    "    return qml.expval(qml.PauliZ(1))\n",
    "\n",
    "params = np.array([0.5, 0.1])\n",
    "\n",
    "def cost_fn(params):\n",
    "    return variational_circuit(params)\n",
    "\n",
    "opt = qml.GradientDescentOptimizer(stepsize=0.4)\n",
    "steps = 10\n",
    "for i in range(steps):\n",
    "    params = opt.step(cost_fn, params)\n",
    "    print(f\"Step {i}: cost = {cost_fn(params)}\")\n"
   ]
  },
  {
   "cell_type": "markdown",
   "metadata": {
    "id": "f4WYVsGK38Ud"
   },
   "source": [
    "Dans cet exemple, l'algorithme d'optimisation trouve l'état qui maximise la valeur d'espérance de l'opérateur `PauliZ` sur le qubit 1 en minimisant la fonction de coût."
   ]
  }
 ],
 "metadata": {
  "colab": {
   "provenance": []
  },
  "kernelspec": {
   "display_name": "Python 3 (ipykernel)",
   "language": "python",
   "name": "python3"
  },
  "language_info": {
   "codemirror_mode": {
    "name": "ipython",
    "version": 3
   },
   "file_extension": ".py",
   "mimetype": "text/x-python",
   "name": "python",
   "nbconvert_exporter": "python",
   "pygments_lexer": "ipython3",
   "version": "3.9.1"
  }
 },
 "nbformat": 4,
 "nbformat_minor": 4
}
