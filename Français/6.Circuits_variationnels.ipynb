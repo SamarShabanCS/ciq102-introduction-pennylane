{
  "cells": [
    {
      "cell_type": "markdown",
      "metadata": {
        "id": "yRb2l8cmJxhR"
      },
      "source": [
        "\n",
        "# 6. Circuits quantiques variationnels\n",
        "\n",
        "\n",
        "\n",
        "\n",
        "\n"
      ]
    },
    {
      "cell_type": "markdown",
      "metadata": {
        "id": "5PawQYrwOO1M"
      },
      "source": [
        "Les circuits quantiques variationnels (VQCs) jouent un rôle central en apprentissage machine quantique et en optimisation. Ces circuits utilisent des portes paramétrées dont les paramètres sont optimisés pour atteindre des objectifs spécifiques, comme la résolution de problèmes d'optimisation ou d'apprentissage machine quantique."
      ]
    },
    {
      "cell_type": "code",
      "execution_count": null,
      "metadata": {
        "colab": {
          "base_uri": "https://localhost:8080/"
        },
        "id": "-JbIR0sOOStq",
        "outputId": "277fc9a5-f8c2-4832-de0c-d8d912015a15"
      },
      "outputs": [
        {
          "name": "stdout",
          "output_type": "stream",
          "text": [
            "Step 0: cost = 0.7637115319687524\n",
            "Step 1: cost = 0.5779477741085262\n",
            "Step 2: cost = 0.2966052476240348\n",
            "Step 3: cost = -0.06151310148950795\n",
            "Step 4: cost = -0.42341222928051087\n",
            "Step 5: cost = -0.7039780993138042\n",
            "Step 6: cost = -0.8703338563365615\n",
            "Step 7: cost = -0.9489154942914924\n",
            "Step 8: cost = -0.9809283547033282\n",
            "Step 9: cost = -0.9930394135926378\n"
          ]
        }
      ],
      "source": [
        "import pennylane as qml\n",
        "from pennylane import numpy as np\n",
        "\n",
        "dev = qml.device(\"default.qubit\", wires=2)\n",
        "@qml.qnode(dev)\n",
        "\n",
        "def variational_circuit(params):\n",
        "    qml.RY(params[0], wires=0)\n",
        "    qml.RX(params[1], wires=1)\n",
        "    qml.CNOT(wires=[0, 1])\n",
        "    return qml.expval(qml.PauliZ(1))\n",
        "\n",
        "params = np.array([0.5, 0.1])\n",
        "\n",
        "def cost_fn(params):\n",
        "    return variational_circuit(params)\n",
        "\n",
        "opt = qml.GradientDescentOptimizer(stepsize=0.4)\n",
        "steps = 10\n",
        "for i in range(steps):\n",
        "    params = opt.step(cost_fn, params)\n",
        "    print(f\"Step {i}: cost = {cost_fn(params)}\")\n"
      ]
    },
    {
      "cell_type": "markdown",
      "metadata": {
        "id": "f4WYVsGK38Ud"
      },
      "source": [
        "Dans cet exemple, l'algorithme d'optimisation trouve l'état qui maximise la valeur d'espérance de l'opérateur `PauliZ` sur le qubit 1 en minimisant la fonction de coût."
      ]
    }
  ],
  "metadata": {
    "colab": {
      "provenance": []
    },
    "kernelspec": {
      "display_name": "Python 3",
      "name": "python3"
    },
    "language_info": {
      "name": "python",
      "version": "3.12.2"
    }
  },
  "nbformat": 4,
  "nbformat_minor": 0
}
