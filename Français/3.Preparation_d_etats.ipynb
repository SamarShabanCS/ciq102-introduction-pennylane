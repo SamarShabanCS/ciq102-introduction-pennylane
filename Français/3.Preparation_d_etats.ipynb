{
 "cells": [
  {
   "cell_type": "markdown",
   "metadata": {
    "id": "uOMbwVemy2Wt"
   },
   "source": [
    "# 3.  La préparation d'états"
   ]
  },
  {
   "cell_type": "markdown",
   "metadata": {
    "id": "A4Kkn10UhMza"
   },
   "source": [
    "La première étape de nombreux algorithmes consiste en la préparation d'états quantique d'un qubit. Il existe un état cible dans lequel on souhaiterait que notre qubit se trouve et l'on doit donc déterminer la séquence d'opérations à appliquer sur l'état initial du qubit. Cette séquence d'opérations doit être la plus petite possible.\n"
   ]
  },
  {
   "cell_type": "code",
   "execution_count": 1,
   "metadata": {
    "colab": {
     "base_uri": "https://localhost:8080/"
    },
    "id": "3s8xP1d6m47K",
    "outputId": "cd9cea30-2e89-478d-d855-f770e61c6df7"
   },
   "outputs": [
    {
     "name": "stdout",
     "output_type": "stream",
     "text": [
      "[0.85030065-0.46452136j 0.2171174 +0.11861178j]\n"
     ]
    }
   ],
   "source": [
    "import pennylane as qml\n",
    "import numpy as np\n",
    "\n",
    "from grader import *\n",
    "\n",
    "# Définir la machine quantique à utiliser\n",
    "dev = qml.device(\"default.qubit\", wires=1)\n",
    "\n",
    "@qml.qnode(dev)\n",
    "def prepare_state(theta, phi):\n",
    "\n",
    "    # Appliquer une rotation autour de l'axe Y d'un angle theta\n",
    "    qml.RY(theta, wires=0)\n",
    "\n",
    "    # Appliquer une rotation autour de l'axe Z d'un angle phi\n",
    "    qml.RZ(phi, wires=0)\n",
    "\n",
    "    # Renvoie l'état du qubit\n",
    "    return qml.state()\n",
    "\n",
    "# Préparer l'état avec des angles spécifiques\n",
    "theta = 0.5\n",
    "phi = 1\n",
    "state = prepare_state(theta, phi)\n",
    "\n",
    "# Afficher l'état résultant\n",
    "print(state)"
   ]
  },
  {
   "cell_type": "markdown",
   "metadata": {
    "id": "OYar3CvrpHPk"
   },
   "source": [
    "L'état final du qubit est retourné par `qml.state()`. Les deux valeurs complexes détermineront les amplitudes de probabilité pour les états |0⟩ et |1⟩, respectivement.\n"
   ]
  },
  {
   "cell_type": "markdown",
   "metadata": {
    "id": "rlsKFypavrie"
   },
   "source": [
    "La fonction `print_state_vector` permet de visualiser un état en format `latex`, ce qui peut être plus pratique que ce qui est imprimé par `Python` par défaut."
   ]
  },
  {
   "cell_type": "code",
   "execution_count": 2,
   "metadata": {},
   "outputs": [
    {
     "data": {
      "text/markdown": [
       "$$\\left|\\psi\\right\\rangle = 0.850301-0.464521i \\left|0\\right\\rangle + 0.217117+0.118612i \\left|1\\right\\rangle$$"
      ],
      "text/plain": [
       "<IPython.core.display.Markdown object>"
      ]
     },
     "metadata": {},
     "output_type": "display_data"
    }
   ],
   "source": [
    "from print_latex import print_state_vector\n",
    "\n",
    "print_state_vector(state)"
   ]
  },
  {
   "cell_type": "markdown",
   "metadata": {
    "id": "_RRUhYKtrK1r"
   },
   "source": [
    "Il existe également une librairie de [templates pré-codés ](https://docs.pennylane.ai/en/stable/introduction/templates.html)dans PennyLane concernant la préparation d'état. Ces templates tranforment l'état |0…0⟩ en un autre état initial et interviennent au début du circuit quantique.\n"
   ]
  },
  {
   "cell_type": "markdown",
   "metadata": {
    "id": "kHp9fcCVyTk9"
   },
   "source": [
    "EXERCICE\n",
    "\n",
    "---\n",
    "\n",
    "Ajoutez des portes aux fonctions ci-dessous afin de créer les trois états de Bell suivants. N'oubliez pas de définir une machine (`device`) et de lier la machine et le circuit avec un `QNode`."
   ]
  },
  {
   "cell_type": "markdown",
   "metadata": {
    "id": "k1XHC_aTzHCp"
   },
   "source": [
    "$$\\vert\\psi_- \\rangle = \\frac{1}{\\sqrt{2}}(\\vert 00 \\rangle - \\vert 11 \\rangle$$\n",
    "$$\\vert\\phi_+ \\rangle = \\frac{1}{\\sqrt{2}}(\\vert 01 \\rangle + \\vert 10 \\rangle$$\n",
    "$$\\vert\\phi_- \\rangle = \\frac{1}{\\sqrt{2}}(\\vert 01\\rangle - \\vert 10 \\rangle$$"
   ]
  },
  {
   "cell_type": "code",
   "execution_count": 11,
   "metadata": {
    "id": "prcOw8WoXCpc"
   },
   "outputs": [],
   "source": [
    "\n",
    "# YOUR CODE HERE \n",
    "def psi_moins():\n",
    "    ##################\n",
    "    # YOUR CODE HERE #\n",
    "    ##################\n",
    "    return qml.state()\n",
    "\n",
    "# YOUR CODE HERE \n",
    "def phi_plus():\n",
    "  ##################\n",
    "  # YOUR CODE HERE #\n",
    "  ##################\n",
    "  return qml.state()\n",
    "\n",
    "#YOUR CODE HERE\n",
    "def phi_moins():\n",
    "  ##################\n",
    "  # YOUR CODE HERE #\n",
    "  ##################\n",
    "    return qml.state()\n",
    "\n",
    "#modifier avec la fonction pour visualiser l'état résultant\n",
    "#Statevector(phi_plus()).draw('latex')"
   ]
  },
  {
   "cell_type": "code",
   "execution_count": null,
   "metadata": {},
   "outputs": [],
   "source": [
    "#DO NOT EDIT THIS CELL\n",
    "to_correct = [exercise_psi_moins, exercise_phi_plus, exercise_phi_moins]\n",
    "answers = [Answer(dev, ex) for ex in [psi_moins, phi_plus, phi_moins]]\n",
    "\n",
    "for (ex, ans) in zip(to_correct, answers):\n",
    "    grade(ex, ans)  "
   ]
  },
  {
   "cell_type": "markdown",
   "metadata": {
    "id": "yQvxW8R81wXS"
   },
   "source": [
    "EXERCICE\n",
    "\n",
    "---\n",
    "\n",
    "Créez l'état ci-dessous. Appliquez d'abord la porte exacte pour créer l'état. Ensuite, utilisez la fonction [`qml.StatePrep()`](https://docs.pennylane.ai/en/stable/code/api/pennylane.StatePrep.html) pour préparer l'état.\n"
   ]
  },
  {
   "cell_type": "markdown",
   "metadata": {
    "id": "PcLQ0HaD1ii3"
   },
   "source": [
    "$$\\frac{\\sqrt{3}}{2}\\vert 0\\rangle+\\frac{i}{2}\\vert 1 \\rangle$$"
   ]
  },
  {
   "cell_type": "code",
   "execution_count": null,
   "metadata": {
    "id": "eSmy29u02qfu"
   },
   "outputs": [],
   "source": [
    "dev = qml.device('default.qubit', wires=1)\n",
    "@qml.qnode(dev)\n",
    "def prepare_with_gate():\n",
    "  ##################\n",
    "  # YOUR CODE HERE #\n",
    "  ##################\n",
    "  return qml.state()\n",
    "\n",
    "# DEFINE THE STATE HERE\n",
    "#state = \n",
    "\n",
    "@qml.qnode(dev)\n",
    "def prepare_with_StatePrep(state):\n",
    "##################\n",
    "  # YOUR CODE HERE #\n",
    "  ##################\n",
    "  return qml.state()\n",
    "\n",
    "# Statevector(prepare_state_prep(state)).draw('latex')"
   ]
  },
  {
   "cell_type": "code",
   "execution_count": 7,
   "metadata": {},
   "outputs": [
    {
     "name": "stdout",
     "output_type": "stream",
     "text": [
      "Checking exercise: prepare with gate\n",
      "Correct\n"
     ]
    }
   ],
   "source": [
    "#DO NOT EDIT THIS CELL\n",
    "ans = Answer(dev, prepare_with_gate)\n",
    "grade(exercise_prepare_with_gate, ans)"
   ]
  },
  {
   "cell_type": "code",
   "execution_count": 9,
   "metadata": {},
   "outputs": [
    {
     "name": "stdout",
     "output_type": "stream",
     "text": [
      "Checking exercise: prepare with state Prep\n",
      "Correct\n"
     ]
    }
   ],
   "source": [
    "#DO NOT EDIT THIS CELL\n",
    "ans = Answer(dev, prepare_with_StatePrep, circuit_params = state)\n",
    "grade(exercise_prepare_with_statePrep, ans)"
   ]
  },
  {
   "cell_type": "code",
   "execution_count": null,
   "metadata": {},
   "outputs": [],
   "source": []
  }
 ],
 "metadata": {
  "colab": {
   "provenance": []
  },
  "kernelspec": {
   "display_name": "base",
   "language": "python",
   "name": "python3"
  },
  "language_info": {
   "codemirror_mode": {
    "name": "ipython",
    "version": 3
   },
   "file_extension": ".py",
   "mimetype": "text/x-python",
   "name": "python",
   "nbconvert_exporter": "python",
   "pygments_lexer": "ipython3",
   "version": "3.12.2"
  }
 },
 "nbformat": 4,
 "nbformat_minor": 4
}
