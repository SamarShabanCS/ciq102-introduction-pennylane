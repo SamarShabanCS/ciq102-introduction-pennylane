{
 "cells": [
  {
   "cell_type": "markdown",
   "metadata": {
    "id": "uOMbwVemy2Wt"
   },
   "source": [
    "# 3.  La préparation d'états"
   ]
  },
  {
   "cell_type": "markdown",
   "metadata": {
    "id": "A4Kkn10UhMza"
   },
   "source": [
    "La première étape de nombreux algorithmes consiste en la préparation d'états quantique d'un qubit. Il existe un état cible dans lequel on souhaiterait que notre qubit se trouve et l'on doit donc déterminer la séquence d'opérations à appliquer sur l'état initial du qubit. Cette séquence d'opérations doit être la plus petite possible.\n"
   ]
  },
  {
   "cell_type": "code",
   "execution_count": 5,
   "metadata": {
    "colab": {
     "base_uri": "https://localhost:8080/"
    },
    "id": "3s8xP1d6m47K",
    "outputId": "cd9cea30-2e89-478d-d855-f770e61c6df7"
   },
   "outputs": [
    {
     "name": "stdout",
     "output_type": "stream",
     "text": [
      "[0.85030065-0.46452136j 0.2171174 +0.11861178j]\n"
     ]
    }
   ],
   "source": [
    "import pennylane as qml\n",
    "from pennylane import numpy as np\n",
    "\n",
    "from grader import *\n",
    "\n",
    "# Définir la machine quantique à utiliser\n",
    "dev = qml.device(\"default.qubit\", wires=1)\n",
    "\n",
    "@qml.qnode(dev)\n",
    "def prepare_state(theta, phi):\n",
    "\n",
    "    # Appliquer une rotation autour de l'axe Y d'un angle theta\n",
    "    qml.RY(theta, wires=0)\n",
    "\n",
    "    # Appliquer une rotation autour de l'axe Z d'un angle phi\n",
    "    qml.RZ(phi, wires=0)\n",
    "\n",
    "    # Renvoie l'état du qubit\n",
    "    return qml.state()\n",
    "\n",
    "# Préparer l'état avec des angles spécifiques\n",
    "theta = 0.5\n",
    "phi = 1\n",
    "state = prepare_state(theta, phi)\n",
    "\n",
    "# Afficher l'état résultant\n",
    "print(state)"
   ]
  },
  {
   "cell_type": "markdown",
   "metadata": {
    "id": "OYar3CvrpHPk"
   },
   "source": [
    "L'état final du qubit est retourné par `qml.state()`. Les deux valeurs complexes correspondent aux amplitudes de probabilité pour les états |0⟩ et |1⟩, respectivement.\n"
   ]
  },
  {
   "cell_type": "markdown",
   "metadata": {
    "id": "rlsKFypavrie"
   },
   "source": [
    "La fonction `Statevector` de `Qiskit` permet de visualiser un état en format `latex`, ce qui peut être plus pratique que ce qui est imprimé par `Python` par défaut."
   ]
  },
  {
   "cell_type": "code",
   "execution_count": 3,
   "metadata": {
    "id": "50zGsgk-vqpP"
   },
   "outputs": [
    {
     "name": "stdout",
     "output_type": "stream",
     "text": [
      "Collecting qiskit\n",
      "  Downloading qiskit-1.1.2-cp38-abi3-macosx_10_9_x86_64.whl.metadata (12 kB)\n",
      "Requirement already satisfied: rustworkx>=0.14.0 in /Users/juliettegeoffrion/ENV/lib/python3.9/site-packages (from qiskit) (0.15.1)\n",
      "Requirement already satisfied: numpy<3,>=1.17 in /Users/juliettegeoffrion/ENV/lib/python3.9/site-packages (from qiskit) (1.26.4)\n",
      "Requirement already satisfied: scipy>=1.5 in /Users/juliettegeoffrion/ENV/lib/python3.9/site-packages (from qiskit) (1.13.1)\n",
      "Collecting sympy>=1.3 (from qiskit)\n",
      "  Downloading sympy-1.13.2-py3-none-any.whl.metadata (12 kB)\n",
      "Collecting dill>=0.3 (from qiskit)\n",
      "  Using cached dill-0.3.8-py3-none-any.whl.metadata (10 kB)\n",
      "Requirement already satisfied: python-dateutil>=2.8.0 in /Users/juliettegeoffrion/ENV/lib/python3.9/site-packages (from qiskit) (2.9.0.post0)\n",
      "Collecting stevedore>=3.0.0 (from qiskit)\n",
      "  Using cached stevedore-5.2.0-py3-none-any.whl.metadata (2.3 kB)\n",
      "Requirement already satisfied: typing-extensions in /Users/juliettegeoffrion/ENV/lib/python3.9/site-packages (from qiskit) (4.12.2)\n",
      "Collecting symengine>=0.11 (from qiskit)\n",
      "  Using cached symengine-0.11.0-cp39-cp39-macosx_10_9_x86_64.whl.metadata (1.2 kB)\n",
      "Requirement already satisfied: six>=1.5 in /Users/juliettegeoffrion/ENV/lib/python3.9/site-packages (from python-dateutil>=2.8.0->qiskit) (1.16.0)\n",
      "Collecting pbr!=2.1.0,>=2.0.0 (from stevedore>=3.0.0->qiskit)\n",
      "  Using cached pbr-6.0.0-py2.py3-none-any.whl.metadata (1.3 kB)\n",
      "Collecting mpmath<1.4,>=1.1.0 (from sympy>=1.3->qiskit)\n",
      "  Using cached mpmath-1.3.0-py3-none-any.whl.metadata (8.6 kB)\n",
      "Downloading qiskit-1.1.2-cp38-abi3-macosx_10_9_x86_64.whl (4.1 MB)\n",
      "\u001b[2K   \u001b[90m━━━━━━━━━━━━━━━━━━━━━━━━━━━━━━━━━━━━━━━━\u001b[0m \u001b[32m4.1/4.1 MB\u001b[0m \u001b[31m7.2 MB/s\u001b[0m eta \u001b[36m0:00:00\u001b[0m00:01\u001b[0m00:01\u001b[0mm\n",
      "\u001b[?25hUsing cached dill-0.3.8-py3-none-any.whl (116 kB)\n",
      "Using cached stevedore-5.2.0-py3-none-any.whl (49 kB)\n",
      "Using cached symengine-0.11.0-cp39-cp39-macosx_10_9_x86_64.whl (23.8 MB)\n",
      "Downloading sympy-1.13.2-py3-none-any.whl (6.2 MB)\n",
      "\u001b[2K   \u001b[90m━━━━━━━━━━━━━━━━━━━━━━━━━━━━━━━━━━━━━━━━\u001b[0m \u001b[32m6.2/6.2 MB\u001b[0m \u001b[31m8.6 MB/s\u001b[0m eta \u001b[36m0:00:00\u001b[0ma \u001b[36m0:00:01\u001b[0mm\n",
      "\u001b[?25hUsing cached mpmath-1.3.0-py3-none-any.whl (536 kB)\n",
      "Using cached pbr-6.0.0-py2.py3-none-any.whl (107 kB)\n",
      "Installing collected packages: mpmath, sympy, symengine, pbr, dill, stevedore, qiskit\n",
      "Successfully installed dill-0.3.8 mpmath-1.3.0 pbr-6.0.0 qiskit-1.1.2 stevedore-5.2.0 symengine-0.11.0 sympy-1.13.2\n",
      "\n",
      "\u001b[1m[\u001b[0m\u001b[34;49mnotice\u001b[0m\u001b[1;39;49m]\u001b[0m\u001b[39;49m A new release of pip is available: \u001b[0m\u001b[31;49m24.1.2\u001b[0m\u001b[39;49m -> \u001b[0m\u001b[32;49m24.2\u001b[0m\n",
      "\u001b[1m[\u001b[0m\u001b[34;49mnotice\u001b[0m\u001b[1;39;49m]\u001b[0m\u001b[39;49m To update, run: \u001b[0m\u001b[32;49mpip install --upgrade pip\u001b[0m\n"
     ]
    }
   ],
   "source": [
    "!pip install qiskit"
   ]
  },
  {
   "cell_type": "code",
   "execution_count": 6,
   "metadata": {
    "colab": {
     "base_uri": "https://localhost:8080/",
     "height": 39
    },
    "id": "nRdWhcJDwJL3",
    "outputId": "c44899b7-803d-4d06-d28e-541681171098"
   },
   "outputs": [
    {
     "data": {
      "text/latex": [
       "$$(0.8503006453 - 0.4645213596 i) |0\\rangle+(0.2171174004 + 0.1186117764 i) |1\\rangle$$"
      ],
      "text/plain": [
       "<IPython.core.display.Latex object>"
      ]
     },
     "execution_count": 6,
     "metadata": {},
     "output_type": "execute_result"
    }
   ],
   "source": [
    "from qiskit.quantum_info import Statevector\n",
    "Statevector(prepare_state(theta, phi)).draw('latex')\n"
   ]
  },
  {
   "cell_type": "markdown",
   "metadata": {
    "id": "_RRUhYKtrK1r"
   },
   "source": [
    "Il existe également une librairie de [templates pré-codés ](https://docs.pennylane.ai/en/stable/introduction/templates.html)dans PennyLane concernant la préparation d'état. Ces templates tranforment l'état |0…0⟩ en un autre état initial et interviennent au début du circuit quantique.\n"
   ]
  },
  {
   "cell_type": "markdown",
   "metadata": {
    "id": "kHp9fcCVyTk9"
   },
   "source": [
    "EXERCICE\n",
    "\n",
    "---\n",
    "\n",
    "Ajoutez des portes aux fonctions ci-dessous afin de créer les trois états de Bell suivants. N'oubliez pas de définir une machine (`device`) et de lier la machine et le circuit avec un `QNode`."
   ]
  },
  {
   "cell_type": "markdown",
   "metadata": {
    "id": "k1XHC_aTzHCp"
   },
   "source": [
    "$$\\vert\\psi_- \\rangle = \\frac{1}{\\sqrt{2}}(\\vert 00 \\rangle - \\vert 11 \\rangle$$\n",
    "$$\\vert\\phi_+ \\rangle = \\frac{1}{\\sqrt{2}}(\\vert 01 \\rangle + \\vert 10 \\rangle$$\n",
    "$$\\vert\\phi_- \\rangle = \\frac{1}{\\sqrt{2}}(\\vert 01\\rangle - \\vert 10 \\rangle$$"
   ]
  },
  {
   "cell_type": "code",
   "execution_count": 11,
   "metadata": {
    "id": "prcOw8WoXCpc"
   },
   "outputs": [],
   "source": [
    "##################\n",
    "# YOUR CODE HERE #\n",
    "##################\n",
    "#dev = qml.device('default.qubit', wires = 2)\n",
    "#@qml.qnode(dev)\n",
    "def psi_moins():\n",
    "    ##################\n",
    "    # YOUR CODE HERE #\n",
    "    ##################\n",
    "    # qml.PauliX(wires = 0)\n",
    "    # qml.Hadamard(wires = 0)\n",
    "    # qml.CNOT(wires = [0,1])\n",
    "    return qml.state()\n",
    "\n",
    "#@qml.qnode(dev)\n",
    "def phi_plus():\n",
    "  ##################\n",
    "  # YOUR CODE HERE #\n",
    "  ##################\n",
    "  # qml.Hadamard(wires = 0)\n",
    "  # qml.CNOT(wires = [0,1])\n",
    "  # qml.PauliX(wires = 0)\n",
    "  return qml.state()\n",
    "\n",
    "#@qml.qnode(dev)\n",
    "def phi_moins():\n",
    "  ##################\n",
    "  # YOUR CODE HERE #\n",
    "  ##################\n",
    "    # qml.Hadamard(wires = 0)\n",
    "    # qml.CNOT(wires = [0,1])\n",
    "    # qml.Z(wires = 0)\n",
    "    # qml.X(wires = 1)\n",
    "    return qml.state()\n",
    "\n",
    "#modifier avec la fonction pour visualiser l'état résultant\n",
    "#Statevector(phi_plus()).draw('latex')"
   ]
  },
  {
   "cell_type": "code",
   "execution_count": 10,
   "metadata": {},
   "outputs": [
    {
     "name": "stdout",
     "output_type": "stream",
     "text": [
      "Checking exercise: psi_moins\n",
      "Correct\n",
      "Checking exercise: phi_plus\n",
      "Correct\n",
      "Checking exercise: phi_moins\n",
      "Correct\n"
     ]
    }
   ],
   "source": [
    "#DO NOT EDIT THIS CELL\n",
    "to_correct = [exercise_psi_moins, exercise_phi_plus, exercise_phi_moins]\n",
    "answers = [Answer(dev, ex) for ex in [psi_moins, phi_plus, phi_moins]]\n",
    "\n",
    "for (ex, ans) in zip(to_correct, answers):\n",
    "    grade(ex, ans)  "
   ]
  },
  {
   "cell_type": "markdown",
   "metadata": {
    "id": "yQvxW8R81wXS"
   },
   "source": [
    "EXERCICE\n",
    "\n",
    "---\n",
    "\n",
    "Créez l'état ci-dessous. Appliquez d'abord la porte exacte pour créer l'état. Ensuite, utilisez la fonction [`MottonenStatePrep()`](https://docs.pennylane.ai/en/stable/code/api/pennylane.MottonenStatePreparation.html) pour préparer l'état.\n"
   ]
  },
  {
   "cell_type": "markdown",
   "metadata": {
    "id": "PcLQ0HaD1ii3"
   },
   "source": [
    "$$\\frac{\\sqrt{3}}{2}\\vert 0\\rangle+\\frac{i}{2}\\vert 1 \\rangle$$"
   ]
  },
  {
   "cell_type": "code",
   "execution_count": 16,
   "metadata": {
    "id": "eSmy29u02qfu"
   },
   "outputs": [],
   "source": [
    "dev = qml.device('default.qubit', wires=1)\n",
    "@qml.qnode(dev)\n",
    "def prepare_with_gate():\n",
    "  #qml.RX(np.pi/3, wires = 0)\n",
    "  return qml.state()\n",
    "\n",
    "#state = np.array([np.sqrt(3)/2, 0.5j])\n",
    "@qml.qnode(dev)\n",
    "def prepare_with_mottonen(state):\n",
    "  #qml.MottonenStatePreparation(state_vector=state, wires=0)\n",
    "  return qml.state()\n",
    "\n",
    "#Statevector(prepare_with_mottonen(state)).draw('latex')\n"
   ]
  },
  {
   "cell_type": "code",
   "execution_count": 13,
   "metadata": {},
   "outputs": [
    {
     "name": "stdout",
     "output_type": "stream",
     "text": [
      "Checking exercise: prepare with gate\n",
      "Correct\n"
     ]
    }
   ],
   "source": [
    "#DO NOT EDIT THIS CELL\n",
    "ans = Answer(dev, prepare_with_gate)\n",
    "grade(exercise_prepare_with_gate, ans)"
   ]
  },
  {
   "cell_type": "code",
   "execution_count": 14,
   "metadata": {},
   "outputs": [
    {
     "name": "stdout",
     "output_type": "stream",
     "text": [
      "Checking exercise: prepare with Mottonen\n",
      "Correct\n"
     ]
    }
   ],
   "source": [
    "#DO NOT EDIT THIS CELL\n",
    "ans = Answer(dev, prepare_with_mottonen, circuit_params = state)\n",
    "grade(exercise_prepare_with_mottonen, ans)"
   ]
  },
  {
   "cell_type": "code",
   "execution_count": null,
   "metadata": {},
   "outputs": [],
   "source": []
  }
 ],
 "metadata": {
  "colab": {
   "provenance": []
  },
  "kernelspec": {
   "display_name": "Python 3 (ipykernel)",
   "language": "python",
   "name": "python3"
  },
  "language_info": {
   "codemirror_mode": {
    "name": "ipython",
    "version": 3
   },
   "file_extension": ".py",
   "mimetype": "text/x-python",
   "name": "python",
   "nbconvert_exporter": "python",
   "pygments_lexer": "ipython3",
   "version": "3.9.1"
  }
 },
 "nbformat": 4,
 "nbformat_minor": 4
}
