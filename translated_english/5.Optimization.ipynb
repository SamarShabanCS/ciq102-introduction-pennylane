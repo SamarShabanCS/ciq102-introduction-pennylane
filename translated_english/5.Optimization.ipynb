{
  "cells": [
    {
      "cell_type": "markdown",
      "metadata": {
        "id": "nL2Ac-7o19Ct"
      },
      "source": [
        "# 5.  Quantum circuit optimization\n",
        "\n"
      ]
    },
    {
      "cell_type": "markdown",
      "metadata": {
        "id": "hoVbM3GjKKry"
      },
      "source": [
        "\n",
        "Quantum circuit optimization is essential in quantum computing, as it enables us to find the optimal parameters for a quantum circuit that best solves a specific problem. In PennyLane, optimization consists in adjusting the parameters of the quantum gates to minimize or maximize a specific function, called the cost function."
      ]
    },
    {
      "cell_type": "code",
      "execution_count": null,
      "metadata": {
        "colab": {
          "base_uri": "https://localhost:8080/"
        },
        "id": "BhVE1HZhKcbA",
        "outputId": "8ea1db6d-0c1a-4ee4-9f7b-18276e0d6f0c"
      },
      "outputs": [
        {
          "name": "stdout",
          "output_type": "stream",
          "text": [
            "Optimized params: [3.14159265]\n"
          ]
        }
      ],
      "source": [
        "import pennylane as qml\n",
        "from pennylane import numpy as np\n",
        "\n",
        "dev = qml.device(\"default.qubit\", wires=1)\n",
        "@qml.qnode(dev)\n",
        "\n",
        "def circuit(params):\n",
        "    qml.RX(params[0], wires=0)\n",
        "    return qml.expval(qml.PauliZ(0))\n",
        "\n",
        "def cost(params):\n",
        "    return circuit(params)\n",
        "\n",
        "opt = qml.GradientDescentOptimizer(stepsize=0.4) #optimization function\n",
        "params = np.array([0.1])\n",
        "steps = 100\n",
        "\n",
        "for i in range(steps):\n",
        "    params = opt.step(cost, params)\n",
        "\n",
        "print(f'Optimized params: {params}')\n"
      ]
    },
    {
      "cell_type": "markdown",
      "metadata": {
        "id": "WgXTR4MnKv8J"
      },
      "source": [
        "[docs.pennylane.ai/en/stable/introduction/interfaces.html](https://docs.pennylane.ai/en/stable/introduction/interfaces.html)"
      ]
    }
  ],
  "metadata": {
    "colab": {
      "provenance": []
    },
    "kernelspec": {
      "display_name": "Python 3",
      "name": "python3"
    },
    "language_info": {
      "name": "python"
    }
  },
  "nbformat": 4,
  "nbformat_minor": 0
}
