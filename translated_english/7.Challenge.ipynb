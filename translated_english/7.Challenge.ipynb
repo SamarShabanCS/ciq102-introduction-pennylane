{
  "cells": [
    {
      "cell_type": "markdown",
      "metadata": {
        "id": "UuWSy5AvLCPm"
      },
      "source": [
        "# 7. Summary challenge"
      ]
    },
    {
      "cell_type": "markdown",
      "metadata": {
        "id": "yuqMxnVuFUDy"
      },
      "source": [
        "\n",
        "In this challenge, we're going to create the most unbreakable lock in the world - a quantum lock!\n",
        "\n",
        "This lock is represented by a unitary operator *U*, which has all its eigenvalues equal to 1, except one. This exception, our \"key\" eigenstate, has an eigenvalue of -1.\n",
        "\n",
        "$$U|\\text{key}\\rangle = -|\\text{key}\\rangle$$\n",
        "\n",
        "The challenge, then, is to find a way of distinguishing the \"key\" eigenstate from the other eigenstates, given that the information is contained in the operator phase. Fortunately, there's a concept called **phase feedback** that can help.\n",
        "\n",
        "When the correct eigenstate is entered, the -1 phase of U is transferred to the auxiliary qubit, changing its state from $|+\\rangle$ to $|-\\rangle$. The result of the measurement on the control qubit then indicates whether or not the correct eigenstate has been entered, indicating whether or not the latch is unlocked. In our case, $|1\\rangle = H|-\\rangle$\n",
        "unlocks the lock, and $|0\\rangle = H|+\\rangle$ fails.\n",
        "\n",
        "In this context, the key corresponds to a binary-encoded integer *m*, which represents our own \"key\" state\n",
        "\n",
        "$$\\begin{aligned}\n",
        "U|n\\rangle =\n",
        "\\begin{cases}\n",
        "  -|n\\rangle, & \\text{if } n=m \\\\\n",
        "  |n\\rangle, & \\text{if } n\\neq m\n",
        "\\end{cases}\n",
        "\\end{aligned}$$\n",
        "\n",
        "Once the lock has been constructed, we can test the different key eigenstates we've chosen and distinguish the one that unlocks our famous quantum lock.\n",
        "\n",
        "\n",
        "\n",
        "\n"
      ]
    },
    {
      "cell_type": "markdown",
      "metadata": {
        "id": "07NjwTWPKP7B"
      },
      "source": [
        "\n",
        "Procedure:\n",
        "* Choose the number of qubits according to the desired key size.\n",
        "* Define the quantum machine.\n",
        "* Define the quantum lock using the `FlipSign` operation.\n",
        "* Use the `BasisState` operation to create the key.\n",
        "* Define a function to open the lock.\n",
        "* Define a function to check the key."
      ]
    },
    {
      "cell_type": "markdown",
      "metadata": {
        "id": "fVY7kESl7rbY"
      },
      "source": [
        "SOLUTION"
      ]
    },
    {
      "cell_type": "code",
      "execution_count": 1,
      "metadata": {
        "id": "HtKfYW6xx-0i"
      },
      "outputs": [],
      "source": [
        "#Challenge adapted from  https://pennylane.ai/qml/demos/tutorial_phase_kickback/\n",
        "\n",
        "import pennylane as qml\n",
        "from pennylane import numpy as np\n",
        "\n",
        "# Define number of qubits\n",
        "# For an n-digit combination, we need n+1 qubits (the first qubit is the control, and the others are the target)\n",
        "num_wires = 5\n",
        "\n",
        "dev = qml.device('default.qubit', wires = num_wires, shots = 1)\n",
        "\n",
        "\n",
        "#Function that defines the quantum lock according to a secret key. Key length must be the number of qubit -1\n",
        "def quantum_lock(secret_key):\n",
        "  return qml.FlipSign(secret_key, wires = list(range(1, num_wires)))\n",
        "\n",
        "def build_key(key):\n",
        "  return qml.BasisState(key, wires = list(range(1, num_wires)))"
      ]
    },
    {
      "cell_type": "code",
      "execution_count": 2,
      "metadata": {
        "id": "jF-xW2yD7EEq"
      },
      "outputs": [],
      "source": [
        "@qml.qnode(dev)\n",
        "def lock_mechanism(lock, key):\n",
        "    build_key(key)\n",
        "    qml.Hadamard(wires=0)  # Hadamard on auxiliary qubit\n",
        "    qml.ctrl(lock, control=0)  #Controlled gate\n",
        "    qml.Hadamard(wires=0)  # Hadamard on auxiliary qubit\n",
        "    return qml.sample(wires=0)"
      ]
    },
    {
      "cell_type": "code",
      "execution_count": 3,
      "metadata": {
        "id": "oQY0CVvq7EZj"
      },
      "outputs": [],
      "source": [
        "def check_key(lock, key):\n",
        "  if lock_mechanism(lock, key) ==1:\n",
        "    print('BRAVO :  the lock is unlocked')\n",
        "  else:\n",
        "    print('FAIL: the lock is locked')"
      ]
    },
    {
      "cell_type": "code",
      "execution_count": 4,
      "metadata": {
        "id": "DD7XYg9U7L80"
      },
      "outputs": [],
      "source": [
        "#Defining the secret key and defining the quantum lock\n",
        "secret_key = np.array([1,1,1,0])\n",
        "lock = quantum_lock(secret_key)"
      ]
    },
    {
      "cell_type": "code",
      "execution_count": 5,
      "metadata": {
        "colab": {
          "base_uri": "https://localhost:8080/"
        },
        "id": "90KaDORk7Tt0",
        "outputId": "deb0280b-3f73-4ca3-b2e9-e20ffacbbb5c"
      },
      "outputs": [
        {
          "name": "stdout",
          "output_type": "stream",
          "text": [
            "FAIL: the lock is locked\n"
          ]
        }
      ],
      "source": [
        "key_guess = np.array([0,0,0,0])\n",
        "check_key(lock, key_guess)"
      ]
    },
    {
      "cell_type": "code",
      "execution_count": 6,
      "metadata": {
        "colab": {
          "base_uri": "https://localhost:8080/"
        },
        "id": "MomlrFj97WUs",
        "outputId": "e4869b03-c4a9-442f-f851-7cae08115274"
      },
      "outputs": [
        {
          "name": "stdout",
          "output_type": "stream",
          "text": [
            "BRAVO :  the lock is unlocked\n"
          ]
        }
      ],
      "source": [
        "key_guess = np.array([1,1,1,0])\n",
        "check_key(lock, key_guess)"
      ]
    },
    {
      "cell_type": "markdown",
      "metadata": {
        "id": "bzK1cg0L70Ac"
      },
      "source": [
        "Challenge adapted from: https://pennylane.ai/qml/demos/tutorial_phase_kickback/"
      ]
    },
    {
      "cell_type": "markdown",
      "metadata": {},
      "source": []
    }
  ],
  "metadata": {
    "colab": {
      "provenance": []
    },
    "kernelspec": {
      "display_name": "Python 3",
      "name": "python3"
    },
    "language_info": {
      "codemirror_mode": {
        "name": "ipython",
        "version": 3
      },
      "file_extension": ".py",
      "mimetype": "text/x-python",
      "name": "python",
      "nbconvert_exporter": "python",
      "pygments_lexer": "ipython3",
      "version": "3.9.12"
    }
  },
  "nbformat": 4,
  "nbformat_minor": 0
}
