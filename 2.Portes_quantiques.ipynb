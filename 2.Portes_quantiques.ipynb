{
 "cells": [
  {
   "cell_type": "markdown",
   "metadata": {
    "id": "h7x7Zd6Tip-1"
   },
   "source": [
    "# 2.  Les portes quantiques"
   ]
  },
  {
   "cell_type": "markdown",
   "metadata": {
    "id": "tOqTNqZjqrjS"
   },
   "source": [
    "De nombreuses [portes quantiques](https://docs.pennylane.ai/en/stable/introduction/operations.html#qubit-operators) sont implémentées dans PennyLane. On y retrouve des portes à 1 et 2 qubits, ainsi que des portes contrôlées. En voici une liste des plus courantes:\n",
    "\n",
    "\n",
    "*   **Porte NOT quantique (ou porte Pauli X)** : similaire à la porte NOT classique, elle inverse l'état d'un qubit. Si le qubit est dans l'état |0⟩, il passe à l'état |1⟩ et vice versa.\n",
    "*   **Porte Hadamard (H)** : cette porte transforme un qubit en une superposition d'états. Si le qubit est dans l'état |0⟩, il passe à l'état (|0⟩ + |1⟩)/√2, et s'il est dans l'état |1⟩, il passe à l'état (|0⟩ - |1⟩)/√2.\n",
    "*   **Porte de phase (S et T)**: ces portes modifient la phase d'un qubit. La porte S ajoute une phase de π/2 à l'état |1⟩, tandis que la porte T ajoute une phase de π/4.\n",
    "*   **Porte contrôlée-NOT (CNOT)**: cette porte effectue une opération NOT sur un qubit cible uniquement si un qubit de contrôle est dans l'état |1⟩. Si le qubit de contrôle est dans l'état |0⟩, les deux qubits restent inchangés.\n",
    "*   **Porte contrôlée-Z (CZ)**: cette porte ajoute une phase de -1 à l'état |11⟩ d'une paire de qubits, laissant les autres états inchangés.\n",
    "*   **Porte Toffoli**: cette porte effectue une opération NOT sur un qubit cible uniquement si deux qubits de contrôle sont tous les deux dans l'état |1⟩."
   ]
  },
  {
   "cell_type": "markdown",
   "metadata": {
    "id": "sCct82XXbivB"
   },
   "source": [
    "EXERCICE\n",
    "\n",
    "---\n",
    "\n",
    "\n",
    "Réalisez le circuit suivant en ajoutant des portes à la fonction `circuit()`.\n",
    "N'oubliez pas de définir une machine (`device`) et de lier la machine et le circuit avec un `QNode`."
   ]
  },
  {
   "cell_type": "markdown",
   "metadata": {
    "id": "_4-1DIMRgfVl"
   },
   "source": [
    "![bell_pair00.png](data:image/png;base64,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)"
   ]
  },
  {
   "cell_type": "code",
   "execution_count": 6,
   "metadata": {},
   "outputs": [],
   "source": [
    "import pennylane as qml\n",
    "from pennylane import numpy as np\n",
    "\n",
    "from grader import * "
   ]
  },
  {
   "cell_type": "code",
   "execution_count": 5,
   "metadata": {
    "id": "VX9l9EU8g4e9"
   },
   "outputs": [],
   "source": [
    "##################\n",
    "# YOUR CODE HERE #\n",
    "##################\n",
    "#dev = qml.device('default.qubit', wires = 2)\n",
    "#@qml.qnode(dev)\n",
    "def circuit():\n",
    "    ##################\n",
    "    # YOUR CODE HERE #\n",
    "    ##################\n",
    "    #qml.Hadamard(wires = 0)\n",
    "    #qml.CNOT(wires = [0,1])\n",
    "    return qml.state()"
   ]
  },
  {
   "cell_type": "code",
   "execution_count": 4,
   "metadata": {},
   "outputs": [
    {
     "name": "stdout",
     "output_type": "stream",
     "text": [
      "Checking exercise: Bell Pair\n",
      "Correct\n"
     ]
    }
   ],
   "source": [
    "#DO NOT EDIT THIS CELL\n",
    "grade(exercise_bell_pair, Answer(dev, circuit))"
   ]
  },
  {
   "cell_type": "markdown",
   "metadata": {
    "id": "bXFZ0PBmhNlH"
   },
   "source": [
    "C'est un état de Bell, un état à deux qubits maximalement intriqués. Vous verrez les autres états de Bell dans les prochains exercices."
   ]
  }
 ],
 "metadata": {
  "colab": {
   "provenance": []
  },
  "kernelspec": {
   "display_name": "Python 3 (ipykernel)",
   "language": "python",
   "name": "python3"
  },
  "language_info": {
   "codemirror_mode": {
    "name": "ipython",
    "version": 3
   },
   "file_extension": ".py",
   "mimetype": "text/x-python",
   "name": "python",
   "nbconvert_exporter": "python",
   "pygments_lexer": "ipython3",
   "version": "3.9.1"
  }
 },
 "nbformat": 4,
 "nbformat_minor": 4
}
