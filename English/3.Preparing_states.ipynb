{
 "cells": [
  {
   "cell_type": "markdown",
   "metadata": {
    "id": "uOMbwVemy2Wt"
   },
   "source": [
    "# 3.  Preparing states"
   ]
  },
  {
   "cell_type": "markdown",
   "metadata": {
    "id": "A4Kkn10UhMza"
   },
   "source": [
    "The first step in many algorithms is to prepare the quantum states of a qubit. We want to bring the qubit into a specific target state, so we need to figure out the sequence of operations required to transform it from its initial state. This sequence of operations must be as small as possible.\n"
   ]
  },
  {
   "cell_type": "code",
   "execution_count": null,
   "metadata": {
    "colab": {
     "base_uri": "https://localhost:8080/"
    },
    "id": "3s8xP1d6m47K",
    "outputId": "cd9cea30-2e89-478d-d855-f770e61c6df7"
   },
   "outputs": [],
   "source": [
    "import pennylane as qml\n",
    "import numpy as np\n",
    "\n",
    "from grader import *\n",
    "\n",
    "# Define the quantum machine to be used\n",
    "dev = qml.device(\"default.qubit\", wires=1)\n",
    "\n",
    "@qml.qnode(dev)\n",
    "def prepare_state(theta, phi):\n",
    "\n",
    "    # Apply a rotation around the Y axis by an angle theta\n",
    "    qml.RY(theta, wires=0)\n",
    "\n",
    "    # Apply a rotation around the Z axis by an angle phi\n",
    "    qml.RZ(phi, wires=0)\n",
    "\n",
    "    # Return qubit state\n",
    "    return qml.state()\n",
    "\n",
    "# Prepare state with specific angles\n",
    "theta = 0.5\n",
    "phi = 1\n",
    "state = prepare_state(theta, phi)\n",
    "\n",
    "# Display resulting state\n",
    "print(state)"
   ]
  },
  {
   "cell_type": "markdown",
   "metadata": {
    "id": "OYar3CvrpHPk"
   },
   "source": [
    "The final state of the qubit is returned by `qml.state()`. The two complex values will determine the probability amplitudes for mesuring the states $\\vert 0 \\rangle$  and $\\vert 1 \\rangle$, respectively."
   ]
  },
  {
   "cell_type": "markdown",
   "metadata": {
    "id": "rlsKFypavrie"
   },
   "source": [
    "The `print_state_vector` function allows you to view a state in `latex` format, which can be more convenient than what is printed by Python by default."
   ]
  },
  {
   "cell_type": "code",
   "execution_count": null,
   "metadata": {
    "colab": {
     "base_uri": "https://localhost:8080/",
     "height": 39
    },
    "id": "nRdWhcJDwJL3",
    "outputId": "c44899b7-803d-4d06-d28e-541681171098"
   },
   "outputs": [],
   "source": [
    "from print_latex import print_state_vector\n",
    "\n",
    "print_state_vector(state)\n"
   ]
  },
  {
   "cell_type": "markdown",
   "metadata": {
    "id": "_RRUhYKtrK1r"
   },
   "source": [
    "PennyLane also offers a library of [pre-coded templates ](https://docs.pennylane.ai/en/stable/introduction/templates.html) for state preparation. These templates transform the |0...0⟩ state into another initial state and intervene at the start of the quantum circuit."
   ]
  },
  {
   "cell_type": "markdown",
   "metadata": {
    "id": "kHp9fcCVyTk9"
   },
   "source": [
    "EXERCICE\n",
    "\n",
    "---\n",
    "\n",
    "Add gates to the functions below to create the following three Bell states. Don't forget to define a `device` and to link the device and the circuit with a `QNode`."
   ]
  },
  {
   "cell_type": "markdown",
   "metadata": {
    "id": "k1XHC_aTzHCp"
   },
   "source": [
    "$$\\vert\\psi_- \\rangle = \\frac{1}{\\sqrt{2}}(\\vert 00 \\rangle - \\vert 11 \\rangle$$\n",
    "$$\\vert\\phi_+ \\rangle = \\frac{1}{\\sqrt{2}}(\\vert 01 \\rangle + \\vert 10 \\rangle$$\n",
    "$$\\vert\\phi_- \\rangle = \\frac{1}{\\sqrt{2}}(\\vert 01\\rangle - \\vert 10 \\rangle$$"
   ]
  },
  {
   "cell_type": "code",
   "execution_count": null,
   "metadata": {
    "id": "prcOw8WoXCpc"
   },
   "outputs": [],
   "source": [
    "##################\n",
    "# YOUR CODE HERE #\n",
    "##################\n",
    "def psi_moins():\n",
    "    ##################\n",
    "    # YOUR CODE HERE #\n",
    "    ##################\n",
    "    return qml.state()\n",
    "\n",
    "#YOUR CODE HERE\n",
    "def phi_plus():\n",
    "  ##################\n",
    "  # YOUR CODE HERE #\n",
    "  ##################\n",
    "  return qml.state()\n",
    "\n",
    "#YOUR CODE HERE\n",
    "def phi_moins():\n",
    "  ##################\n",
    "  # YOUR CODE HERE #\n",
    "  ##################\n",
    "  return qml.state()\n",
    "\n",
    "#modify with function to view resulting state\n",
    "#print_state_vector(phi_plus())"
   ]
  },
  {
   "cell_type": "code",
   "execution_count": null,
   "metadata": {},
   "outputs": [],
   "source": [
    "#DO NOT EDIT THIS CELL\n",
    "to_correct = [exercise_psi_moins, exercise_phi_plus, exercise_phi_moins]\n",
    "answers = [Answer(dev, ex) for ex in [psi_moins, phi_plus, phi_moins]]\n",
    "\n",
    "for (ex, ans) in zip(to_correct, answers):\n",
    "    grade(ex, ans)  "
   ]
  },
  {
   "cell_type": "markdown",
   "metadata": {
    "id": "yQvxW8R81wXS"
   },
   "source": [
    "EXERCICE\n",
    "\n",
    "---\n",
    "\n",
    "Create the following state. First apply the exact gate to create the state. Then use the function [`qml.StatePrep()`](https://docs.pennylane.ai/en/stable/code/api/pennylane.StatePrep.html) to prepare the state."
   ]
  },
  {
   "cell_type": "markdown",
   "metadata": {
    "id": "PcLQ0HaD1ii3"
   },
   "source": [
    "$$\\frac{\\sqrt{3}}{2}\\vert 0\\rangle+\\frac{i}{2}\\vert 1 \\rangle$$"
   ]
  },
  {
   "cell_type": "code",
   "execution_count": null,
   "metadata": {},
   "outputs": [],
   "source": [
    "dev = qml.device('default.qubit', wires=1)\n",
    "@qml.qnode(dev)\n",
    "def prepare_with_gate():\n",
    "  #YOUR COD HERE\n",
    "  return qml.state()\n",
    "\n",
    "#state = Define your state\n",
    "\n",
    "@qml.qnode(dev)\n",
    "def prepare_with_statePrep(state):\n",
    "  #YOUR CODE HERE\n",
    "  return qml.state()\n",
    "\n",
    "#print_state_vector(prepare_with_statePrep(state))\n"
   ]
  },
  {
   "cell_type": "code",
   "execution_count": null,
   "metadata": {},
   "outputs": [],
   "source": [
    "#DO NOT EDIT THIS CELL\n",
    "ans = Answer(dev, prepare_with_gate)\n",
    "grade(exercise_prepare_with_gate, ans)"
   ]
  },
  {
   "cell_type": "code",
   "execution_count": null,
   "metadata": {},
   "outputs": [],
   "source": [
    "#DO NOT EDIT THIS CELL\n",
    "ans = Answer(dev, prepare_with_statePrep, circuit_params = state)\n",
    "grade(exercise_prepare_with_statePrep, ans)"
   ]
  },
  {
   "cell_type": "code",
   "execution_count": null,
   "metadata": {},
   "outputs": [],
   "source": []
  }
 ],
 "metadata": {
  "colab": {
   "provenance": []
  },
  "kernelspec": {
   "display_name": "base",
   "language": "python",
   "name": "python3"
  },
  "language_info": {
   "codemirror_mode": {
    "name": "ipython",
    "version": 3
   },
   "file_extension": ".py",
   "mimetype": "text/x-python",
   "name": "python",
   "nbconvert_exporter": "python",
   "pygments_lexer": "ipython3",
   "version": "3.12.2"
  }
 },
 "nbformat": 4,
 "nbformat_minor": 4
}
