{
 "cells": [
  {
   "cell_type": "code",
   "execution_count": null,
   "metadata": {
    "id": "sgNZtTpcAuzJ"
   },
   "outputs": [],
   "source": [
    "import pennylane as qml\n",
    "from pennylane import numpy as np\n",
    "import matplotlib.pyplot as plt\n",
    "\n",
    "# Define the hidden binary string s (for example, s = '110')\n",
    "s = '110'\n",
    "\n",
    "\n",
    "n_qubits = len(s)  # Number of input qubits\n",
    "dev = qml.device('default.qubit', wires=n_qubits + 1)\n",
    "\n",
    "@qml.qnode(dev)\n",
    "def bernstein_vazirani(s):\n",
    "    # Steps 1-2: Initialization and superposition\n",
    "    for i in range(n_qubits):\n",
    "        qml.Hadamard(wires=i)\n",
    "\n",
    "    qml.PauliX(wires=n_qubits)\n",
    "    qml.Hadamard(wires=n_qubits)\n",
    "\n",
    "    # Step 3 : Apply the oracle for the binary string s\n",
    "    for i in range(n_qubits):\n",
    "        if s[i] == '1':\n",
    "            qml.CNOT(wires=[i, n_qubits])\n",
    "\n",
    "    # Step 4 : Hadamard Transform\n",
    "    for i in range(n_qubits):\n",
    "        qml.Hadamard(wires=i)\n",
    "\n",
    "    # Étape 5 : Mesure des qubits d'entrée\n",
    "    return qml.probs(wires=range(n_qubits))\n",
    "\n",
    "\n",
    "\n",
    "# Execute the circuit with the binary string s\n",
    "probs = bernstein_vazirani(s)\n",
    "print(probs)\n",
    "\n",
    "#∣000⟩, ∣001⟩, ∣010⟩, ∣011⟩, ∣100⟩, ∣101⟩, ∣110⟩, ∣111⟩\n",
    "\n",
    "result = np.argmax(probs)\n",
    "\n",
    "binary_result = f\"{result:0{n_qubits}b}\"  # Convert the probability vector to a binary chain\n",
    "\n",
    "print(f\"Binary string found : {binary_result}\")\n",
    "\n",
    "# Draw the circuit with Matplotlib\n",
    "fig, ax = qml.draw_mpl(bernstein_vazirani)(s)\n",
    "plt.show()\n"
   ]
  },
  {
   "cell_type": "code",
   "execution_count": null,
   "metadata": {},
   "outputs": [],
   "source": []
  }
 ],
 "metadata": {
  "colab": {
   "provenance": []
  },
  "kernelspec": {
   "display_name": "Python 3 (ipykernel)",
   "language": "python",
   "name": "python3"
  },
  "language_info": {
   "codemirror_mode": {
    "name": "ipython",
    "version": 3
   },
   "file_extension": ".py",
   "mimetype": "text/x-python",
   "name": "python",
   "nbconvert_exporter": "python",
   "pygments_lexer": "ipython3",
   "version": "3.9.1"
  }
 },
 "nbformat": 4,
 "nbformat_minor": 4
}
