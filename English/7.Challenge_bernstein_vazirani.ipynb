{
  "nbformat": 4,
  "nbformat_minor": 0,
  "metadata": {
    "colab": {
      "provenance": []
    },
    "kernelspec": {
      "name": "python3",
      "display_name": "Python 3"
    },
    "language_info": {
      "name": "python"
    }
  },
  "cells": [
    {
      "cell_type": "markdown",
      "source": [
        "# Bernstein-Vazirani Algorithm\n",
        "\n",
        "The Bernstein-Vazirani algorithm is a quantum algorithm which finds a binary string $s$ of length $n$ in a single evaluation of the oracle function $ f(x)$, where a classical algorithm would require $n$ evaluations. This algorithm shows a clear quantum advantage for certain computational problems.\n",
        "\n",
        "## Context and problem\n",
        "\n",
        "The algorithm solves the following problem: given a Boolean function $f(x)$ defined on binary strings $x$ of length $n$, the function $f(x)$ is linear and of the following form\n",
        "\n",
        "\\begin{align}\n",
        "       f(x) = s \\cdot x = s_0 x_0 \\oplus s_1 x_1 \\oplus \\cdots \\oplus s_{n-1} x_{n-1}\n",
        "    \\end{align}\n",
        "\n",
        "where $ s = (s_0, s_1, \\dots, s_{n-1}) $ is an unknown fixed binary string, and $ \\oplus $ represents addition modulo 2, so the result is 0 or 1.\n",
        "\n",
        "\\begin{align}\n",
        "       1 \\oplus 0 = 0 \\oplus 1=1\n",
        "          \\end{align}\n",
        "\n",
        "\\begin{align}\n",
        "       1 \\oplus 1 =0 \\oplus 0=0\n",
        "          \\end{align}\n",
        "\n",
        "\n",
        "**Goal** : Find the binary string $ s $ in a single evaluation of the function $ f(x) $.\n",
        "\n",
        "## Algorithm steps\n",
        "### 1. State preparation\n",
        "\n",
        "We start with $ n $ input qubits initialized to $ |0\\rangle $ and an auxiliary qubit initialized to $ |1\\rangle $. The initial state is thus:\n",
        "\\begin{align}\n",
        "       |0\\rangle^{\\otimes n} |1\\rangle   \n",
        "    \\end{align}\n",
        "\n",
        "\n",
        "### 2. Superposition\n",
        "Apply a Hadamard gate $ H $ to each input qubit. The Hadamard gate transforms a qubit in the $ |0\\rangle $ state into an equal superposition of $ |0\\rangle $ and $ |1\\rangle $ :\n",
        "\n",
        "\\begin{align}\n",
        "        H|0\\rangle = \\frac{1}{\\sqrt{2}} (|0\\rangle + |1\\rangle)    \n",
        "    \\end{align}\n",
        "\n",
        "\n",
        "Applied to all qubits, this produces the following superposition state for the $n $ input qubits:\n",
        "\n",
        "\\begin{align}\n",
        "        \\frac{1}{\\sqrt{2^n}} \\sum_{x=0}^{2^n-1} |x\\rangle\n",
        "    \\end{align}\n",
        "\n",
        "The auxiliary qubit remains in the $|1\\rangle $ state, transformed into $ \\frac{1}{\\sqrt{2}} (|0\\rangle - |1\\rangle)$ by a Hadamard gate.\n",
        "\n",
        "### 3. Applying the oracle\n",
        "\n",
        "The oracle is a black box that implements the function $ f(x) $. This function is defined such that $ f(x) = s \\cdot x $, where $ s $ is the unknown binary string we want to uncover. The oracle applies a conditional CNOT gate to each input qubit as a function of $ s $. If the bit $ s_i $ of $ s $ is 1, then the oracle applies a CNOT gate controlled by the input qubit $ x_i $ and targets the auxiliary qubit.\n",
        "\n",
        "After applying the oracle, the qubit state is :\n",
        "\\begin{align}\n",
        "        \\frac{1}{\\sqrt{2^n}} \\sum_{x=0}^{2^n-1} (-1)^{s \\cdot x} |x\\rangle\n",
        "    \\end{align}\n",
        "\n",
        "\n",
        "Example of oracle action:\n",
        "If $s=101$, the oracle will apply two CNOT gates (one between the 1st qubit and the auxiliary qubit, and one between the 3rd qubit and the auxiliary qubit).\n",
        "\n",
        "The superposition state\n",
        "\\begin{align}\n",
        "\\frac{1}{\\sqrt{8}} (\\vert 000 \\rangle + \\vert 001 \\rangle + \\vert 010 \\rangle + \\vert 011 \\rangle + \\vert 100 \\rangle + \\vert 101 \\rangle + \\vert 110 \\rangle + \\vert 111 \\rangle)\n",
        "\\end{align}\n",
        "\n",
        "becomes\n",
        "\\begin{align}\n",
        "\\frac{1}{\\sqrt{8}} (\\vert 000 \\rangle + \\vert 001 \\rangle + \\vert 010 \\rangle + \\vert 011 \\rangle + \\vert 100 \\rangle - \\vert 101 \\rangle + \\vert 110 \\rangle - \\vert 111 \\rangle)\n",
        "\\end{align}\n",
        "\n",
        "\n",
        "\n",
        "### 4. Inverse Hadamard transformation\n",
        "Re-apply the Hadamard gate to each input qubit. This reverses the original Hadamard transformation and “concentrates” the superposition on a single binary state, corresponding to the string $ s $.\n",
        "\n",
        "After applying this transformation, the state of the input qubits is directly $|s\\rangle $.\n",
        "\n",
        "### 5. Measure\n",
        "Measure the $n $ input qubits. The result of the measurement will be the binary string $s$ that we wanted to uncover.  \n",
        "\n",
        "\n",
        "\n",
        "\n",
        "\n",
        "\n"
      ],
      "metadata": {
        "id": "rEbUa4LZb9Ep"
      }
    },
    {
      "cell_type": "markdown",
      "source": [
        "# Exercise\n",
        "\n",
        "Implement the Berstein-Vazirani algorithm following the five steps mentioned above. Define a 3-qubit binary string $s$ of your choice; your quantum algorithm must find this string and draw the circuit used."
      ],
      "metadata": {
        "id": "8zIhio1_gpIs"
      }
    },
    {
      "cell_type": "code",
      "source": [],
      "metadata": {
        "id": "62JqSU-F_ogx"
      },
      "execution_count": null,
      "outputs": []
    }
  ]
}