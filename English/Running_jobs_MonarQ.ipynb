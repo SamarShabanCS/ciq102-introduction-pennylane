{
 "cells": [
  {
   "cell_type": "markdown",
   "id": "10044c7f-e7ce-4018-ab88-c424406a2507",
   "metadata": {},
   "source": [
    "# Procedure to submit jobs on MonarQ"
   ]
  },
  {
   "cell_type": "markdown",
   "id": "c4fcfa6e-4955-4d37-bb67-4210d599bb00",
   "metadata": {},
   "source": [
    "Access to Calcul Québec's quantum computer, MonarQ, is done via our cluster Narval by launching a JupyterLab: https://jupyterhub.narval.alliancecan.ca/\n",
    "\n",
    "As part of these workshops, each user will be given access and login details. Then you can start using PennyLane to define your device and write your first quantum circuit on MonarQ!"
   ]
  },
  {
   "cell_type": "code",
   "execution_count": null,
   "id": "67289c49-1eb2-4df2-bf7e-9c75644724c4",
   "metadata": {},
   "outputs": [],
   "source": [
    "import pennylane as qml\n",
    "\n",
    "\n",
    "host = \"http://monarq.calculquebec.ca\"\n",
    "user = \"usernamequimeserafourni\"\n",
    "access_token = \"tokenquimeserafourni\"\n",
    "project_id = \"\"\n",
    "realm = \"calculqc\"\n",
    "\n",
    "\n",
    "num_wires = 24\n",
    "num_shots = 1\n",
    "\n",
    "# Definir le device\n",
    "dev = qml.device(\"snowflurry.qubit\",\n",
    "                    wires=num_wires,\n",
    "                    shots=num_shots,\n",
    "                    host=host,\n",
    "                    user=user,\n",
    "                    access_token=access_token,\n",
    "                    project_id=project_id,\n",
    "                    realm=realm\n",
    "                    )\n",
    "\n",
    "@qml.qnode(dev)\n",
    "def circuit():\n",
    "    # Mon premier circuit sur MonarQ!"
   ]
  },
  {
   "cell_type": "code",
   "execution_count": null,
   "id": "e0520ac4-35c0-4906-9bd7-d2e40f861df8",
   "metadata": {},
   "outputs": [],
   "source": []
  }
 ],
 "metadata": {
  "kernelspec": {
   "display_name": "Python 3 (ipykernel)",
   "language": "python",
   "name": "python3"
  },
  "language_info": {
   "codemirror_mode": {
    "name": "ipython",
    "version": 3
   },
   "file_extension": ".py",
   "mimetype": "text/x-python",
   "name": "python",
   "nbconvert_exporter": "python",
   "pygments_lexer": "ipython3",
   "version": "3.9.1"
  }
 },
 "nbformat": 4,
 "nbformat_minor": 5
}
