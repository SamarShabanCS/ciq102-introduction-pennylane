{
 "cells": [
  {
   "cell_type": "markdown",
   "id": "10044c7f-e7ce-4018-ab88-c424406a2507",
   "metadata": {},
   "source": [
    "# Procedure to submit jobs on MonarQ"
   ]
  },
  {
   "cell_type": "markdown",
   "id": "c4fcfa6e-4955-4d37-bb67-4210d599bb00",
   "metadata": {},
   "source": [
    "Access to Calcul Québec's quantum computer, MonarQ, is done via our cluster Narval by launching a JupyterLab: https://jupyterhub.narval.alliancecan.ca/\n",
    "\n",
    "The script below shows how to define your user API to run jobs on MonarQ. Then you can start using PennyLane to define your device and write your quantum circuit. "
   ]
  },
  {
   "cell_type": "code",
   "execution_count": null,
   "id": "67289c49-1eb2-4df2-bf7e-9c75644724c4",
   "metadata": {},
   "outputs": [],
   "source": [
    "import pennylane as qml\n",
    "\n",
    "\n",
    "host = \"http://monarq.calculquebec.ca\"\n",
    "user = \"username_that_would_be_provided\"\n",
    "access_token = \"token_that_would_be_provided\"\n",
    "project_id = \"\"\n",
    "realm = \"calculqc\"\n",
    "\n",
    "num_wires = 24 #MonarQ is a 24 qubit machine\n",
    "num_shots = 1\n",
    "\n",
    "# Define the device (to run on MonarQ use \"snowflurry_qubit\")\n",
    "dev = qml.device(\"snowflurry.qubit\",\n",
    "                    wires=num_wires,\n",
    "                    shots=num_shots,\n",
    "                    host=host,\n",
    "                    user=user,\n",
    "                    access_token=access_token,\n",
    "                    project_id=project_id,\n",
    "                    realm=realm\n",
    "                    )"
   ]
  },
  {
   "cell_type": "markdown",
   "id": "d628957e-63cc-4848-b02f-f13cb67b6abd",
   "metadata": {},
   "source": [
    "Let's run a three qubit GHZ state. This state is defined as follows\n",
    "\\begin{equation}\n",
    "\\vert \\psi \\rangle = \\frac{1}{\\sqrt{2}}(\\vert 000 \\rangle + \\vert 111 \\rangle)\n",
    "\\end{equation}\n",
    "What sequence of gates should you apply to create this state? \n",
    "Hint : This state is very similar to the first Bell pair $\\vert \\psi_{Bell} \\rangle = \\frac{1}{\\sqrt{2}}(\\vert 00 \\rangle + \\vert 11 \\rangle)$.\n",
    "Make sure to return a measure that can be performed on real quantum hardware."
   ]
  },
  {
   "cell_type": "code",
   "execution_count": 8,
   "id": "e0520ac4-35c0-4906-9bd7-d2e40f861df8",
   "metadata": {},
   "outputs": [],
   "source": [
    "#@qml.qnode(dev)\n",
    "#def circuit():\n",
    "########YOUR CODE HERE #######\n",
    "    #return "
   ]
  },
  {
   "cell_type": "code",
   "execution_count": null,
   "id": "56b1c881-1bd1-49a8-9f9f-d933284e12b4",
   "metadata": {},
   "outputs": [],
   "source": []
  }
 ],
 "metadata": {
  "kernelspec": {
   "display_name": "Python 3 (ipykernel)",
   "language": "python",
   "name": "python3"
  },
  "language_info": {
   "codemirror_mode": {
    "name": "ipython",
    "version": 3
   },
   "file_extension": ".py",
   "mimetype": "text/x-python",
   "name": "python",
   "nbconvert_exporter": "python",
   "pygments_lexer": "ipython3",
   "version": "3.9.1"
  }
 },
 "nbformat": 4,
 "nbformat_minor": 5
}
