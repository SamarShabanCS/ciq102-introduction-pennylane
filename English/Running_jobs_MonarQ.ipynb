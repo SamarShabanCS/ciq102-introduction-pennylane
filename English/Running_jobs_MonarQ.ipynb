{
 "cells": [
  {
   "cell_type": "markdown",
   "id": "10044c7f-e7ce-4018-ab88-c424406a2507",
   "metadata": {},
   "source": [
    "# Procedure to submit jobs on MonarQ"
   ]
  },
  {
   "cell_type": "markdown",
   "id": "c4fcfa6e-4955-4d37-bb67-4210d599bb00",
   "metadata": {},
   "source": [
    "Access to the MonarQ quantum computer is via Narval by launching a JupyterLab: https://jupyterhub.narval.alliancecan.ca/\n",
    "As part of these workshops, each user will be given access and login details.\n",
    "\n",
    "Then you can start using PennyLane to define your device and write your first quantum circuit on MonarQ!"
   ]
  },
  {
   "cell_type": "code",
   "execution_count": 3,
   "id": "67289c49-1eb2-4df2-bf7e-9c75644724c4",
   "metadata": {},
   "outputs": [
    {
     "ename": "DeviceError",
     "evalue": "Device snowflurry.qubit does not exist. Make sure the required plugin is installed.",
     "output_type": "error",
     "traceback": [
      "\u001b[0;31m---------------------------------------------------------------------------\u001b[0m",
      "\u001b[0;31mDeviceError\u001b[0m                               Traceback (most recent call last)",
      "Cell \u001b[0;32mIn[3], line 15\u001b[0m\n\u001b[1;32m     12\u001b[0m num_shots \u001b[38;5;241m=\u001b[39m \u001b[38;5;241m1\u001b[39m\n\u001b[1;32m     14\u001b[0m \u001b[38;5;66;03m# Definir le device\u001b[39;00m\n\u001b[0;32m---> 15\u001b[0m dev \u001b[38;5;241m=\u001b[39m \u001b[43mqml\u001b[49m\u001b[38;5;241;43m.\u001b[39;49m\u001b[43mdevice\u001b[49m\u001b[43m(\u001b[49m\u001b[38;5;124;43m\"\u001b[39;49m\u001b[38;5;124;43msnowflurry.qubit\u001b[39;49m\u001b[38;5;124;43m\"\u001b[39;49m\u001b[43m,\u001b[49m\n\u001b[1;32m     16\u001b[0m \u001b[43m                    \u001b[49m\u001b[43mwires\u001b[49m\u001b[38;5;241;43m=\u001b[39;49m\u001b[43mnum_wires\u001b[49m\u001b[43m,\u001b[49m\n\u001b[1;32m     17\u001b[0m \u001b[43m                    \u001b[49m\u001b[43mshots\u001b[49m\u001b[38;5;241;43m=\u001b[39;49m\u001b[43mnum_shots\u001b[49m\u001b[43m,\u001b[49m\n\u001b[1;32m     18\u001b[0m \u001b[43m                    \u001b[49m\u001b[43mhost\u001b[49m\u001b[38;5;241;43m=\u001b[39;49m\u001b[43mhost\u001b[49m\u001b[43m,\u001b[49m\n\u001b[1;32m     19\u001b[0m \u001b[43m                    \u001b[49m\u001b[43muser\u001b[49m\u001b[38;5;241;43m=\u001b[39;49m\u001b[43muser\u001b[49m\u001b[43m,\u001b[49m\n\u001b[1;32m     20\u001b[0m \u001b[43m                    \u001b[49m\u001b[43maccess_token\u001b[49m\u001b[38;5;241;43m=\u001b[39;49m\u001b[43maccess_token\u001b[49m\u001b[43m,\u001b[49m\n\u001b[1;32m     21\u001b[0m \u001b[43m                    \u001b[49m\u001b[43mproject_id\u001b[49m\u001b[38;5;241;43m=\u001b[39;49m\u001b[43mproject_id\u001b[49m\u001b[43m,\u001b[49m\n\u001b[1;32m     22\u001b[0m \u001b[43m                    \u001b[49m\u001b[43mrealm\u001b[49m\u001b[38;5;241;43m=\u001b[39;49m\u001b[43mrealm\u001b[49m\n\u001b[1;32m     23\u001b[0m \u001b[43m                    \u001b[49m\u001b[43m)\u001b[49m\n\u001b[1;32m     25\u001b[0m \u001b[38;5;66;03m#@qml.qnode(dev)\u001b[39;00m\n\u001b[1;32m     26\u001b[0m \u001b[38;5;66;03m#def circuit():\u001b[39;00m\n\u001b[1;32m     27\u001b[0m     \u001b[38;5;66;03m# Mon premier circuit sur MonarQ!\u001b[39;00m\n",
      "File \u001b[0;32m/Library/Frameworks/Python.framework/Versions/3.9/lib/python3.9/site-packages/pennylane/__init__.py:413\u001b[0m, in \u001b[0;36mdevice\u001b[0;34m(name, *args, **kwargs)\u001b[0m\n\u001b[1;32m    409\u001b[0m             dev\u001b[38;5;241m.\u001b[39mpreprocess \u001b[38;5;241m=\u001b[39m custom_decomp_preprocess\n\u001b[1;32m    411\u001b[0m     \u001b[38;5;28;01mreturn\u001b[39;00m dev\n\u001b[0;32m--> 413\u001b[0m \u001b[38;5;28;01mraise\u001b[39;00m DeviceError(\u001b[38;5;124mf\u001b[39m\u001b[38;5;124m\"\u001b[39m\u001b[38;5;124mDevice \u001b[39m\u001b[38;5;132;01m{\u001b[39;00mname\u001b[38;5;132;01m}\u001b[39;00m\u001b[38;5;124m does not exist. Make sure the required plugin is installed.\u001b[39m\u001b[38;5;124m\"\u001b[39m)\n",
      "\u001b[0;31mDeviceError\u001b[0m: Device snowflurry.qubit does not exist. Make sure the required plugin is installed."
     ]
    }
   ],
   "source": [
    "import pennylane as qml\n",
    "\n",
    "\n",
    "host = \"http://chrysalide.monarq.calculquebec.ca\"\n",
    "user = \"usernamequimeserafourni\"\n",
    "access_token = \"tokenquimeserafourni\"\n",
    "project_id = \"\"\n",
    "realm = \"calculqc\"\n",
    "\n",
    "\n",
    "num_wires = 24\n",
    "num_shots = 1\n",
    "\n",
    "# Definir le device\n",
    "dev = qml.device(\"snowflurry.qubit\",\n",
    "                    wires=num_wires,\n",
    "                    shots=num_shots,\n",
    "                    host=host,\n",
    "                    user=user,\n",
    "                    access_token=access_token,\n",
    "                    project_id=project_id,\n",
    "                    realm=realm\n",
    "                    )\n",
    "\n",
    "@qml.qnode(dev)\n",
    "def circuit():\n",
    "    # Mon premier circuit sur MonarQ!"
   ]
  },
  {
   "cell_type": "code",
   "execution_count": null,
   "id": "e0520ac4-35c0-4906-9bd7-d2e40f861df8",
   "metadata": {},
   "outputs": [],
   "source": []
  }
 ],
 "metadata": {
  "kernelspec": {
   "display_name": "Python 3 (ipykernel)",
   "language": "python",
   "name": "python3"
  },
  "language_info": {
   "codemirror_mode": {
    "name": "ipython",
    "version": 3
   },
   "file_extension": ".py",
   "mimetype": "text/x-python",
   "name": "python",
   "nbconvert_exporter": "python",
   "pygments_lexer": "ipython3",
   "version": "3.9.1"
  }
 },
 "nbformat": 4,
 "nbformat_minor": 5
}
