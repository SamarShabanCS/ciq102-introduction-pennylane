{
 "cells": [
  {
   "cell_type": "markdown",
   "metadata": {
    "id": "rqYOGDaOHpj5"
   },
   "source": [
    "# 0. Introduction"
   ]
  },
  {
   "cell_type": "markdown",
   "metadata": {
    "id": "2iZMqh7FEiq6"
   },
   "source": [
    "PennyLane is an open-source software platform for differentiable quantum computing, developed by Xanadu."
   ]
  },
  {
   "cell_type": "markdown",
   "metadata": {
    "id": "rORW3zB0HhGt"
   },
   "source": [
    "\n",
    "# 1.  Circuit basics: circuit, device and QNode\n"
   ]
  },
  {
   "cell_type": "markdown",
   "metadata": {
    "id": "By7-2695EpVk"
   },
   "source": [
    "Import PennyLane."
   ]
  },
  {
   "cell_type": "code",
   "execution_count": 1,
   "metadata": {
    "id": "UutlrYZTElfS"
   },
   "outputs": [],
   "source": [
    "import pennylane as qml\n",
    "import numpy as np"
   ]
  },
  {
   "cell_type": "markdown",
   "metadata": {
    "id": "qNThHJoPEaBS"
   },
   "source": [
    "In PennyLane, a circuit is represented by a quantum function. A quantum function is a Python function that must contain one or more quantum operations and return one or more quantum measurements."
   ]
  },
  {
   "cell_type": "code",
   "execution_count": 2,
   "metadata": {
    "id": "0dQcLPgCEaRW"
   },
   "outputs": [],
   "source": [
    "def quantum_function(x, y):\n",
    "    qml.RZ(x, wires=0)\n",
    "    qml.CNOT(wires=[0,1])\n",
    "    qml.RY(y, wires=1)\n",
    "    return qml.state()"
   ]
  },
  {
   "cell_type": "markdown",
   "metadata": {
    "id": "By_naGzfFB3X"
   },
   "source": [
    "To create a quantum circuit, you need to specify the device on which the circuit will run ('[device](https://docs.pennylane.ai/en/stable/code/qml_devices.html)'). Any computational object that can apply quantum operations and return a measured value is a quantum device, whether it's quantum hardware (MonarQ) or a quantum simulator (`default.qubit`, `lightning.qubit`)."
   ]
  },
  {
   "cell_type": "markdown",
   "metadata": {
    "id": "TTBDkshLFbm6"
   },
   "source": [
    "In PennyLane, `wires` refers to the number of qubits. By default, qubits are initialized to state $\\vert 0 \\rangle$. If you have three wires, then your initial state is $\\vert 000 \\rangle$."
   ]
  },
  {
   "cell_type": "code",
   "execution_count": 3,
   "metadata": {
    "id": "oUPQXDeOE3R9"
   },
   "outputs": [],
   "source": [
    "#\"default.qubit\" is a standard quantum simulator\n",
    "dev = qml.device('default.qubit', wires = 2) #2-qubit quantum device"
   ]
  },
  {
   "cell_type": "markdown",
   "metadata": {
    "id": "5ouCy7ucGL94"
   },
   "source": [
    "To perform a quantum calculation, you need a [QNode](https://docs.pennylane.ai/en/stable/code/api/pennylane.QNode.html). A QNode is an abstract encapsulation of a quantum function, described by a quantum circuit. It links the quantum circuit to the machine. QNodes can be easily created using the `qnode` decorator `@qml.qnode(dev)`."
   ]
  },
  {
   "cell_type": "markdown",
   "metadata": {
    "id": "prSHEveVHN1q"
   },
   "source": [
    "The QNode is used to calculate the result of a quantum circuit and can calculate results in the classical way. For example, we'll execute the results of the quantum function by creating a QNode circuit and passing the parameters $x$ and $y$ into the quantum function. Then, an $RZ$ gate, a $CNOT$ gate and an $RY$ gate will be applied to the circuit."
   ]
  },
  {
   "cell_type": "code",
   "execution_count": 11,
   "metadata": {
    "id": "YnlADrLqv0cN"
   },
   "outputs": [],
   "source": [
    "@qml.qnode(dev) # qnode decorator\n",
    "def quantum_function(x, y):\n",
    "    qml.RZ(x, wires=0)\n",
    "    qml.CNOT(wires=[0,1])\n",
    "    qml.RY(y, wires=1)\n",
    "    return qml.state()"
   ]
  },
  {
   "cell_type": "markdown",
   "metadata": {
    "id": "ZLorhJNCH6sL"
   },
   "source": [
    "The `draw_mpl` function displays the circuit created by the `quantum_function()` function."
   ]
  },
  {
   "cell_type": "code",
   "execution_count": null,
   "metadata": {
    "colab": {
     "base_uri": "https://localhost:8080/",
     "height": 355
    },
    "id": "ct2J33-eHOaT",
    "outputId": "1b6e508d-27ec-4c65-c421-b73dcff2b939"
   },
   "outputs": [],
   "source": [
    "result = qml.draw_mpl(quantum_function)(np.pi/3, 0.5)\n",
    "print(result)"
   ]
  },
  {
   "cell_type": "code",
   "execution_count": null,
   "metadata": {},
   "outputs": [],
   "source": []
  }
 ],
 "metadata": {
  "colab": {
   "provenance": []
  },
  "kernelspec": {
   "display_name": "Python 3 (ipykernel)",
   "language": "python",
   "name": "python3"
  },
  "language_info": {
   "codemirror_mode": {
    "name": "ipython",
    "version": 3
   },
   "file_extension": ".py",
   "mimetype": "text/x-python",
   "name": "python",
   "nbconvert_exporter": "python",
   "pygments_lexer": "ipython3",
   "version": "3.9.1"
  }
 },
 "nbformat": 4,
 "nbformat_minor": 4
}
