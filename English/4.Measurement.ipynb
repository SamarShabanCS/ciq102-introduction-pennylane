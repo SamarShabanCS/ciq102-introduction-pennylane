{
 "cells": [
  {
   "cell_type": "markdown",
   "metadata": {
    "id": "Bf6ENixbfrts"
   },
   "source": [
    "# 4.  Measurement"
   ]
  },
  {
   "cell_type": "markdown",
   "metadata": {},
   "source": [
    "We know how to manipulate the state of qubits with quantum gates. When solving a problem with a quantum computer, we need to extract information from the system after manipulating it. These are measurements. Your return a measurement at the end of your quantum circuit. PennyLane can extract different types of [measurement results](https://docs.pennylane.ai/en/stable/introduction/measurements.html) but careful, not all the functions are available on actual hardware! Some only work in simulation."
   ]
  },
  {
   "cell_type": "markdown",
   "metadata": {},
   "source": [
    "Let's use our two qubit Bell pair to study different types of measurements.\n",
    "$$\\vert\\psi \\rangle = \\frac{1}{\\sqrt{2}}(\\vert 00 \\rangle + \\vert 11 \\rangle)$$"
   ]
  },
  {
   "cell_type": "code",
   "execution_count": null,
   "metadata": {},
   "outputs": [],
   "source": [
    "import pennylane as qml\n",
    "import numpy as np\n",
    "from print_latex import print_state_vector\n",
    "import matplotlib.pyplot as plt"
   ]
  },
  {
   "cell_type": "code",
   "execution_count": null,
   "metadata": {},
   "outputs": [],
   "source": [
    "def bell():\n",
    "    qml.Hadamard(0)\n",
    "    qml.CNOT([0,1])"
   ]
  },
  {
   "cell_type": "markdown",
   "metadata": {},
   "source": [
    "# State (qml.state)"
   ]
  },
  {
   "cell_type": "markdown",
   "metadata": {},
   "source": [
    "The state measure (`qml.state()`) gives us the most complete output possible, i.e. the complete wave function in the computational basis. It accepts no observables and returns a pure state. When running a circuit on real hardware like MonarQ rather than in a simulation, this function is not available."
   ]
  },
  {
   "cell_type": "code",
   "execution_count": null,
   "metadata": {},
   "outputs": [],
   "source": [
    "dev = qml.device('default.qubit',wires = 2)\n",
    "@qml.qnode(dev)\n",
    "def bell_statevector():\n",
    "    bell()\n",
    "    return qml.state()\n",
    "    \n",
    "print(bell_statevector())"
   ]
  },
  {
   "cell_type": "markdown",
   "metadata": {},
   "source": [
    "Why are there four entries? Our Bell pair is in the 2 qubit basis. In other words, \n",
    "$$\\vert\\psi \\rangle = \\frac{1}{\\sqrt{2}}\\vert 00 \\rangle + 0 \\vert 01\\rangle + 0 \\vert 10 \\rangle + \\frac{1}{\\sqrt{2}}\\vert 11 \\rangle$$\n"
   ]
  },
  {
   "cell_type": "markdown",
   "metadata": {},
   "source": [
    "For convenience, you can use the helper function `print_state_vector`."
   ]
  },
  {
   "cell_type": "code",
   "execution_count": null,
   "metadata": {},
   "outputs": [],
   "source": [
    "print_state_vector(bell_statevector())"
   ]
  },
  {
   "cell_type": "markdown",
   "metadata": {},
   "source": [
    "# Probabilities (qml.probs)"
   ]
  },
  {
   "cell_type": "markdown",
   "metadata": {},
   "source": [
    "In quantum computing, measurement is probabilistic. Recall that for a given state \n",
    "$$\\vert \\psi \\rangle  = \\alpha \\vert 0 \\rangle + \\beta \\vert 1 \\rangle$$\n",
    "the probability of measuring $\\vert 0 \\rangle$ is $\\vert \\alpha\\vert^2 = \\alpha \\alpha^* $ and the probability of measuring $\\vert \\beta \\vert^2 = \\vert 1 \\rangle$ is $\\beta \\beta^* $ where the * denotes the complex conjugate."
   ]
  },
  {
   "cell_type": "code",
   "execution_count": null,
   "metadata": {},
   "outputs": [],
   "source": [
    "dev = qml.device('default.qubit',wires = 2)\n",
    "@qml.qnode(dev)\n",
    "def bell_probs():\n",
    "    bell()\n",
    "    return qml.probs()\n",
    "    #return qml.probs(wires = 0) It can be useful to only specify one wire as needed\n",
    "\n",
    "print(bell_probs())"
   ]
  },
  {
   "cell_type": "markdown",
   "metadata": {},
   "source": [
    "Why are there four entries? Our Bell pair is in the 2 qubit basis. In other words, \n",
    "$$\\vert\\psi \\rangle = \\frac{1}{\\sqrt{2}}\\vert 00 \\rangle + 0 \\vert 01\\rangle + 0 \\vert 10 \\rangle + \\frac{1}{\\sqrt{2}}\\vert 11 \\rangle$$\n",
    "\n",
    "In other words, there is a 50% chance of measuring the state $\\vert 00 \\rangle$ and a 50% chance of measuring the state $\\vert 11 \\rangle$. there is a 0% chance of measuring the state $\\vert 01 \\rangle$ and $\\vert 10 \\rangle $."
   ]
  },
  {
   "cell_type": "markdown",
   "metadata": {},
   "source": [
    "# Expectation values (qml.expval)"
   ]
  },
  {
   "cell_type": "markdown",
   "metadata": {},
   "source": [
    "An expectation value is a way to measure the “average” result of a quantum measurement if we were to repeat the experiment many times. Instead of returning a single measurement outcome (like 0 or 1), the expectation value tells us about the tendency of a quantum state to be aligned with a particular measurement direction—in the example below, along the Z-axis of the Bloch sphere."
   ]
  },
  {
   "cell_type": "code",
   "execution_count": null,
   "metadata": {},
   "outputs": [],
   "source": [
    "@qml.qnode(dev)\n",
    "def bell_expvalZ():\n",
    "    bell()\n",
    "    return qml.expval(qml.PauliZ(wires = [0]))\n",
    "\n",
    "print(bell_expvalZ())"
   ]
  },
  {
   "cell_type": "markdown",
   "metadata": {},
   "source": [
    "If the result is +1, it means the qubit is entirely in the state aligned with the Z-axis of the Bloch sphere (|0⟩).\n",
    "If it’s -1, the qubit is in the opposite state along the Z-axis of the Bloch sphere(|1⟩).\n",
    "Values in between, like 0, mean that the qubit is equally likely to be found in either state along that axis."
   ]
  },
  {
   "cell_type": "markdown",
   "metadata": {},
   "source": [
    "The expectation value in this case is 0, reflecting that there’s an equal likelihood of finding qubit 0 in |0⟩ or |1⟩. This tells us about the “average” measurement outcome for qubit 0 in this Bell state—specifically, there’s no bias toward |0⟩ or |1⟩."
   ]
  },
  {
   "cell_type": "markdown",
   "metadata": {},
   "source": [
    "EXERCICE\n",
    "\n",
    "---\n"
   ]
  },
  {
   "cell_type": "markdown",
   "metadata": {},
   "source": [
    "Implement the circuit below so that it returns the expectation value of the $Z$ operator. What is this average value? Calculate it explicitly and compare it with the circuit result."
   ]
  },
  {
   "attachments": {
    "70bc5821-4a2f-4190-ba41-f71b6d7f1a5f.png": {
     "image/png": "[encoded data removed]"
    }
   },
   "cell_type": "markdown",
   "metadata": {},
   "source": [
    "![download-2.png](attachment:70bc5821-4a2f-4190-ba41-f71b6d7f1a5f.png)"
   ]
  },
  {
   "cell_type": "code",
   "execution_count": null,
   "metadata": {},
   "outputs": [],
   "source": [
    "dev = qml.device(\"default.qubit\", wires = 1)\n",
    "@qml.qnode(dev)\n",
    "def circuit():\n",
    "    ###YOUR CODE HERE####\n",
    "    return ###YOUR CODE HERE\n",
    "\n",
    "print(circuit())"
   ]
  },
  {
   "cell_type": "markdown",
   "metadata": {},
   "source": [
    "Let's calculate the mean value of the operator $ \\langle Z \\rangle $:\n",
    "\n",
    "\n",
    "* $H|0\\rangle = \\frac{1}{\\sqrt{2}} \\left( |0 \\rangle + |1 \\rangle \\right)$\n",
    "\n",
    "* $Z \\left( \\frac{1}{\\sqrt{2}} \\left( |0\\rangle + |1\\rangle \\right) \\right) = \\frac{1}{\\sqrt{2}} \\left( Z|0\\rangle + Z|1\\rangle \\right) = \\frac{1}{\\sqrt{2}} \\left( |0\\rangle - |1\\rangle \\right)$\n",
    "\n",
    "* The mean value of an operator $( O )$ in a $|\\psi\\rangle$ state is given by: $\\langle O \\rangle = \\langle \\psi | O | \\psi \\rangle$.\n",
    "\n",
    "\n",
    "* $\\langle Z \\rangle = \\left\\langle \\frac{1}{\\sqrt{2}} \\left( |0\\rangle - |1\\rangle \\right) \\bigg| Z \\bigg| \\frac{1}{\\sqrt{2}} \\left( |0\\rangle - |1\\rangle \\right) \\right\\rangle$\n",
    "\n",
    "* Which we develop:\n",
    "$\\langle Z \\rangle = \\frac{1}{2} \\left( \\langle 0 | Z | 0 \\rangle - \\langle 0 | Z | 1 \\rangle - \\langle 1 | Z | 0 \\rangle + \\langle 1 | Z | 1 \\rangle \\right)$\n",
    "\n",
    "* Substitute the effects of $Z$: $\\langle Z \\rangle =\\frac{1}{2} \\left( \\langle 0 | 0 \\rangle + 0 - 0 - \\langle 1 | 1 \\rangle \\right)$\n",
    "* Since $ \\langle 0 | 0 \\rangle = 1$ and $\\langle 1 | 1 \\rangle = 1 $:\n",
    "\n",
    "* We finally obtain $\\langle Z \\rangle = \\frac{1}{2} (1 - 1) = 0$.\n"
   ]
  },
  {
   "cell_type": "markdown",
   "metadata": {},
   "source": [
    "These are nice, but they were all computed exactly. In reality, in an experiment we usually obtain a set of real measurements sampled from the probabilities of $\\vert \\psi \\rangle$, the qubit state. In this case, the actual qubit state $\\vert \\psi \\rangle $ is not accessible, but we can \"cheat\" as we simulate our circuit in the classical way.\n",
    "\n",
    "\n",
    "So, if we want to mimic a quantum computer, we can output a set of measurements from the resulting state. To do this, we use the function `qml.sample()`, for which we need to specify the number of samples ('shots') when defining the machine."
   ]
  },
  {
   "cell_type": "code",
   "execution_count": null,
   "metadata": {},
   "outputs": [],
   "source": [
    "dev = qml.device('default.qubit', wires = 2, shots = 10)\n",
    "@qml.qnode(dev)\n",
    "def bell_sample():\n",
    "    bell()\n",
    "    return qml.sample(wires = [0,1])\n",
    "\n",
    "print(bell_sample())"
   ]
  },
  {
   "cell_type": "markdown",
   "metadata": {},
   "source": [
    "# Counts (qml.counts)"
   ]
  },
  {
   "cell_type": "markdown",
   "metadata": {},
   "source": [
    "This can be hard to read so it is useful to return the counts of each basis state instead."
   ]
  },
  {
   "cell_type": "code",
   "execution_count": null,
   "metadata": {},
   "outputs": [],
   "source": [
    "dev = qml.device('default.qubit', wires = 2, shots = 10)\n",
    "@qml.qnode(dev)\n",
    "def bell_counts():\n",
    "    bell()\n",
    "    return qml.counts()\n",
    "\n",
    "result = bell_counts()\n",
    "print(result)"
   ]
  },
  {
   "cell_type": "code",
   "execution_count": null,
   "metadata": {},
   "outputs": [],
   "source": [
    "#Make a histogram of the results\n",
    "state = list(result.keys())\n",
    "counts = [value.item() for value in result.values()]\n",
    "\n",
    "plt.bar(state, counts, color=['blue', 'lightblue'])\n",
    "plt.xlabel('Quantum States')\n",
    "plt.ylabel('Counts')\n",
    "\n",
    "plt.show()"
   ]
  },
  {
   "cell_type": "markdown",
   "metadata": {},
   "source": [
    "On real quantum hardware, you can only use qml.counts() and qml.sample(). You must specify the number of shots in your experiment. For now, the limit on MonarQ is 1000 per experiment. "
   ]
  },
  {
   "cell_type": "markdown",
   "metadata": {},
   "source": [
    "EXERCICE\n",
    "\n",
    "---"
   ]
  },
  {
   "cell_type": "markdown",
   "metadata": {},
   "source": [
    "Consider the same simple circuit as in the exercice above. "
   ]
  },
  {
   "attachments": {
    "61edb6f7-833f-4a41-b314-f45fbfcd4b00.png": {
     "image/png": "[encoded data removed]"
    }
   },
   "cell_type": "markdown",
   "metadata": {},
   "source": [
    "![download-2.png](attachment:61edb6f7-833f-4a41-b314-f45fbfcd4b00.png)"
   ]
  },
  {
   "cell_type": "markdown",
   "metadata": {},
   "source": [
    "In the first exercice, the expectation value was computed exactly. On real quantum hardware, the probabilistic nature of quantum computation forces us to sample repeatedly in order to calculate the expectation value.\n",
    "\n",
    "Consider the same circuit, but test it with several 'shots'. What are the possible values after a single shot? What happens when you increase the number of shots? In the cell below, you should\n",
    "1. Add different numbers of shots to the shots array\n",
    "2. Define your device within the for loop"
   ]
  },
  {
   "cell_type": "code",
   "execution_count": null,
   "metadata": {},
   "outputs": [],
   "source": [
    "#Adapted from the PennyLane Codebook I.10.2\n",
    "results = []\n",
    "\n",
    "n_shots = [] #YOUR CODE HERE #Add different shot numbers to this array\n",
    "for n in n_shots:\n",
    "    dev = #YOUR CODE HERE# #define your device here$\n",
    "    @qml.qnode(dev)\n",
    "    def circuit():\n",
    "        qml.Hadamard(wires = 0)\n",
    "        qml.Z(wires = 0)\n",
    "        return qml.expval(qml.Z(wires = 0))\n",
    "    results.append(circuit())\n",
    "\n",
    "print(results)"
   ]
  }
 ],
 "metadata": {
  "colab": {
   "provenance": []
  },
  "kernelspec": {
   "display_name": "Python 3 (ipykernel)",
   "language": "python",
   "name": "python3"
  },
  "language_info": {
   "codemirror_mode": {
    "name": "ipython",
    "version": 3
   },
   "file_extension": ".py",
   "mimetype": "text/x-python",
   "name": "python",
   "nbconvert_exporter": "python",
   "pygments_lexer": "ipython3",
   "version": "3.9.1"
  }
 },
 "nbformat": 4,
 "nbformat_minor": 4
}
