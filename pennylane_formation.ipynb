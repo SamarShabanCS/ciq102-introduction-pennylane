{
 "cells": [
  {
   "cell_type": "markdown",
   "metadata": {
    "id": "rqYOGDaOHpj5"
   },
   "source": [
    "# 0. Introduction"
   ]
  },
  {
   "cell_type": "markdown",
   "metadata": {
    "id": "2iZMqh7FEiq6"
   },
   "source": [
    "PennyLane est une plateforme logicielle à code source ouvert pour le calcul quantique différentiable, développée par Xanadu."
   ]
  },
  {
   "cell_type": "markdown",
   "metadata": {
    "id": "rORW3zB0HhGt"
   },
   "source": [
    "\n",
    "# 1.  Les bases : circuit, machine et QNode\n"
   ]
  },
  {
   "cell_type": "markdown",
   "metadata": {
    "id": "By7-2695EpVk"
   },
   "source": [
    "Importez PennyLane. Pour utiliser Numpy, il faut l'importer directement de PennyLane."
   ]
  },
  {
   "cell_type": "code",
   "execution_count": 26,
   "metadata": {
    "id": "UutlrYZTElfS"
   },
   "outputs": [],
   "source": [
    "import pennylane as qml\n",
    "from pennylane import numpy as np\n",
    "\n",
    "from grader import *"
   ]
  },
  {
   "cell_type": "markdown",
   "metadata": {
    "id": "qNThHJoPEaBS"
   },
   "source": [
    "Dans PennyLane, un circuit est représenté par une fonction quantique. Une fonction quantique est une fonction Python qui doit contenir une ou plusieurs opérations quantiques et renvoyer une ou plusieurs mesures quantiques."
   ]
  },
  {
   "cell_type": "code",
   "execution_count": 27,
   "metadata": {
    "id": "0dQcLPgCEaRW"
   },
   "outputs": [],
   "source": [
    "def quantum_function(x, y):\n",
    "    qml.RZ(x, wires=0)\n",
    "    qml.CNOT(wires=[0,1])\n",
    "    qml.RY(y, wires=1)\n",
    "    return qml.expval(qml.PauliZ(1))"
   ]
  },
  {
   "cell_type": "markdown",
   "metadata": {
    "id": "By_naGzfFB3X"
   },
   "source": [
    "Pour créer un circuit quantique, il faut spécifier la machine sur laquelle le circuit sera exécuté (‘[device](https://docs.pennylane.ai/en/stable/code/qml_devices.html)’). Tout objet de calcul qui peut appliquer des opérations quantiques et renvoyer une valeur de mesure est une machine quantique, que ce soit du matériel quantique (MonarQ) ou un simulateur quantique (`default.qubit`, `lightning.qubit`)"
   ]
  },
  {
   "cell_type": "markdown",
   "metadata": {
    "id": "TTBDkshLFbm6"
   },
   "source": [
    "Dans PennyLane, `wires` désigne le nombre de qubits. Par défaut, les qubits sont initialisés à l'état $\\vert 0 \\rangle$."
   ]
  },
  {
   "cell_type": "code",
   "execution_count": 28,
   "metadata": {
    "id": "oUPQXDeOE3R9"
   },
   "outputs": [],
   "source": [
    "#\"default.qubit\" est un simulateur quantique standard\n",
    "dev = qml.device('default.qubit', wires = 2) #Machine quantiques à 2 qubits"
   ]
  },
  {
   "cell_type": "markdown",
   "metadata": {
    "id": "5ouCy7ucGL94"
   },
   "source": [
    "Pour faire un calcul quantique, il faut un [QNode](https://docs.pennylane.ai/en/stable/code/api/pennylane.QNode.html). Un QNode est une encapsulation abstraite d'une fonction quantique, décrite par un circuit quantique. Il permet de lier le circuit quantique à la machine. Les QNodes peuvent facilement être créés avec le décorateur `qnode`."
   ]
  },
  {
   "cell_type": "code",
   "execution_count": 29,
   "metadata": {
    "id": "_FO7b-8vFIGw"
   },
   "outputs": [],
   "source": [
    "circuit = qml.QNode(quantum_function, dev)\n",
    "\n",
    "##Qnode peut aussi être créé avec un décorateur\n",
    "#@qml.qnode(dev)"
   ]
  },
  {
   "cell_type": "markdown",
   "metadata": {
    "id": "prSHEveVHN1q"
   },
   "source": [
    "Le QNode est utilisé pour calculer le résultat d'un circuit quantique et peut calculer des résultats de manière classique. Par exemple, nous allons exécuter les résultats de la fonction quantique en créant un circuit QNode et en passant les paramètres x et y dans la fonction quantique. Ensuite, une porte RZ, une porte CNOT et une porte RY seront appliquées au circuit.\n"
   ]
  },
  {
   "cell_type": "code",
   "execution_count": 30,
   "metadata": {
    "id": "YnlADrLqv0cN"
   },
   "outputs": [],
   "source": [
    "@qml.qnode(dev)\n",
    "def quantum_function(x, y):\n",
    "    qml.RZ(x, wires=0)\n",
    "    qml.CNOT(wires=[0,1])\n",
    "    qml.RY(y, wires=1)\n",
    "    return qml.expval(qml.PauliZ(1))"
   ]
  },
  {
   "cell_type": "markdown",
   "metadata": {
    "id": "ZLorhJNCH6sL"
   },
   "source": [
    "La fonction `draw_mpl` permet de visualiser le circuit créé par la fonction `quantum_function()`."
   ]
  },
  {
   "cell_type": "code",
   "execution_count": 31,
   "metadata": {
    "colab": {
     "base_uri": "https://localhost:8080/",
     "height": 355
    },
    "id": "ct2J33-eHOaT",
    "outputId": "1b6e508d-27ec-4c65-c421-b73dcff2b939"
   },
   "outputs": [
    {
     "name": "stdout",
     "output_type": "stream",
     "text": [
      "(<Figure size 600x300 with 1 Axes>, <Axes: >)\n"
     ]
    },
    {
     "data": {
      "image/png": "[encoded data removed]",
      "text/plain": [
       "<Figure size 600x300 with 1 Axes>"
      ]
     },
     "metadata": {},
     "output_type": "display_data"
    }
   ],
   "source": [
    "result = qml.draw_mpl(quantum_function)(np.pi/3, 0.5)\n",
    "print(result)"
   ]
  },
  {
   "cell_type": "markdown",
   "metadata": {
    "id": "h7x7Zd6Tip-1"
   },
   "source": [
    "# 2.  Les portes quantiques"
   ]
  },
  {
   "cell_type": "markdown",
   "metadata": {
    "id": "tOqTNqZjqrjS"
   },
   "source": [
    "De nombreuses [portes quantiques](https://docs.pennylane.ai/en/stable/introduction/operations.html#qubit-operators) sont implémentées dans PennyLane. On y retrouve des portes à 1 et 2 qubits, ainsi que des portes contrôlées. En voici une liste des plus courantes:\n",
    "\n",
    "\n",
    "*   **Porte NOT quantique (ou porte Pauli X)** : similaire à la porte NOT classique, elle inverse l'état d'un qubit. Si le qubit est dans l'état |0⟩, il passe à l'état |1⟩ et vice versa.\n",
    "*   **Porte Hadamard (H)** : cette porte transforme un qubit en une superposition d'états. Si le qubit est dans l'état |0⟩, il passe à l'état (|0⟩ + |1⟩)/√2, et s'il est dans l'état |1⟩, il passe à l'état (|0⟩ - |1⟩)/√2.\n",
    "*   **Porte de phase (S et T)**: ces portes modifient la phase d'un qubit. La porte S ajoute une phase de π/2 à l'état |1⟩, tandis que la porte T ajoute une phase de π/4.\n",
    "*   **Porte contrôlée-NOT (CNOT)**: cette porte effectue une opération NOT sur un qubit cible uniquement si un qubit de contrôle est dans l'état |1⟩. Si le qubit de contrôle est dans l'état |0⟩, les deux qubits restent inchangés.\n",
    "*   **Porte contrôlée-Z (CZ)**: cette porte ajoute une phase de -1 à l'état |11⟩ d'une paire de qubits, laissant les autres états inchangés.\n",
    "*   **Porte Toffoli**: cette porte effectue une opération NOT sur un qubit cible uniquement si deux qubits de contrôle sont tous les deux dans l'état |1⟩."
   ]
  },
  {
   "cell_type": "markdown",
   "metadata": {
    "id": "sCct82XXbivB"
   },
   "source": [
    "EXERCICE\n",
    "\n",
    "---\n",
    "\n",
    "\n",
    "Réalisez le circuit suivant en ajoutant des portes à la fonction `circuit()`.\n",
    "N'oubliez pas de définir une machine (`device`) et de lier la machine et le circuit avec un `QNode`."
   ]
  },
  {
   "cell_type": "markdown",
   "metadata": {
    "id": "_4-1DIMRgfVl"
   },
   "source": [
    "![bell_pair00.png](data:image/png;base64,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)"
   ]
  },
  {
   "cell_type": "code",
   "execution_count": 32,
   "metadata": {
    "id": "VX9l9EU8g4e9"
   },
   "outputs": [],
   "source": [
    "##################\n",
    "# YOUR CODE HERE #\n",
    "##################\n",
    "dev = qml.device('default.qubit', wires = 2)\n",
    "@qml.qnode(dev)\n",
    "def circuit():\n",
    "    ##################\n",
    "    # YOUR CODE HERE #\n",
    "    ##################\n",
    "    qml.Hadamard(wires = 0)\n",
    "    qml.CNOT(wires = [0,1])\n",
    "    return qml.state()"
   ]
  },
  {
   "cell_type": "code",
   "execution_count": 38,
   "metadata": {},
   "outputs": [
    {
     "name": "stdout",
     "output_type": "stream",
     "text": [
      "Checking exercise: Bell Pair\n",
      "Correct\n"
     ]
    }
   ],
   "source": [
    "#DO NOT EDIT THIS CELL\n",
    "grade(exercise_bell_pair, Answer(dev, circuit))"
   ]
  },
  {
   "cell_type": "markdown",
   "metadata": {
    "id": "bXFZ0PBmhNlH"
   },
   "source": [
    "C'est un état de Bell, un état à deux qubits maximalement intriqués. Vous verrez les autres états de Bell dans les prochains exercices."
   ]
  },
  {
   "cell_type": "markdown",
   "metadata": {
    "id": "uOMbwVemy2Wt"
   },
   "source": [
    "# 3.  La préparation d'états"
   ]
  },
  {
   "cell_type": "markdown",
   "metadata": {
    "id": "A4Kkn10UhMza"
   },
   "source": [
    "La première étape de nombreux algorithmes consiste en la préparation d'états quantique d'un qubit. Il existe un état cible dans lequel on souhaiterait que notre qubit se trouve et l'on doit donc déterminer la séquence d'opérations à appliquer sur l'état initial du qubit. Cette séquence d'opérations doit être la plus petite possible.\n"
   ]
  },
  {
   "cell_type": "code",
   "execution_count": 34,
   "metadata": {
    "colab": {
     "base_uri": "https://localhost:8080/"
    },
    "id": "3s8xP1d6m47K",
    "outputId": "cd9cea30-2e89-478d-d855-f770e61c6df7"
   },
   "outputs": [
    {
     "name": "stdout",
     "output_type": "stream",
     "text": [
      "[0.85030065-0.46452136j 0.2171174 +0.11861178j]\n"
     ]
    }
   ],
   "source": [
    "import pennylane as qml\n",
    "from pennylane import numpy as np\n",
    "\n",
    "# Définir la machine quantique à utiliser\n",
    "dev = qml.device(\"default.qubit\", wires=1)\n",
    "\n",
    "@qml.qnode(dev)\n",
    "def prepare_state(theta, phi):\n",
    "\n",
    "    # Appliquer une rotation autour de l'axe Y d'un angle theta\n",
    "    qml.RY(theta, wires=0)\n",
    "\n",
    "    # Appliquer une rotation autour de l'axe Z d'un angle phi\n",
    "    qml.RZ(phi, wires=0)\n",
    "\n",
    "    # Renvoie l'état du qubit\n",
    "    return qml.state()\n",
    "\n",
    "# Préparer l'état avec des angles spécifiques\n",
    "theta = 0.5\n",
    "phi = 1\n",
    "state = prepare_state(theta, phi)\n",
    "\n",
    "# Afficher l'état résultant\n",
    "print(state)"
   ]
  },
  {
   "cell_type": "markdown",
   "metadata": {
    "id": "OYar3CvrpHPk"
   },
   "source": [
    "L'état final du qubit est retourné par `qml.state()`. Les deux valeurs complexes correspondent aux amplitudes de probabilité pour les états |0⟩ et |1⟩, respectivement.\n"
   ]
  },
  {
   "cell_type": "markdown",
   "metadata": {
    "id": "rlsKFypavrie"
   },
   "source": [
    "La fonction `Statevector` de `Qiskit` permet de visualiser un état en format `latex`, ce qui peut être plus pratique que ce qui est imprimé par `Python` par défaut."
   ]
  },
  {
   "cell_type": "code",
   "execution_count": 60,
   "metadata": {
    "colab": {
     "base_uri": "https://localhost:8080/",
     "height": 39
    },
    "id": "nRdWhcJDwJL3",
    "outputId": "c44899b7-803d-4d06-d28e-541681171098"
   },
   "outputs": [
    {
     "data": {
      "text/latex": [
       "$$(0.8503006453 - 0.4645213596 i) |0\\rangle+(0.2171174004 + 0.1186117764 i) |1\\rangle$$"
      ],
      "text/plain": [
       "<IPython.core.display.Latex object>"
      ]
     },
     "execution_count": 60,
     "metadata": {},
     "output_type": "execute_result"
    }
   ],
   "source": [
    "from qiskit.quantum_info import Statevector\n",
    "Statevector(prepare_state(theta, phi)).draw('latex')\n"
   ]
  },
  {
   "cell_type": "markdown",
   "metadata": {
    "id": "_RRUhYKtrK1r"
   },
   "source": [
    "Il existe également une librairie de [templates pré-codés ](https://docs.pennylane.ai/en/stable/introduction/templates.html)dans PennyLane concernant la préparation d'état. Ces templates tranforment l'état |0…0⟩ en un autre état initial et interviennent au début du circuit quantique.\n"
   ]
  },
  {
   "cell_type": "markdown",
   "metadata": {
    "id": "kHp9fcCVyTk9"
   },
   "source": [
    "EXERCICE\n",
    "\n",
    "---\n",
    "\n",
    "Ajoutez des portes aux fonctions ci-dessous afin de créer les trois états de Bell suivants. N'oubliez pas de définir une machine (`device`) et de lier la machine et le circuit avec un `QNode`."
   ]
  },
  {
   "cell_type": "markdown",
   "metadata": {
    "id": "k1XHC_aTzHCp"
   },
   "source": [
    "$$\\vert\\psi_- \\rangle = \\frac{1}{\\sqrt{2}}(\\vert 00 \\rangle - \\vert 11 \\rangle$$\n",
    "$$\\vert\\phi_+ \\rangle = \\frac{1}{\\sqrt{2}}(\\vert 01 \\rangle + \\vert 10 \\rangle$$\n",
    "$$\\vert\\phi_- \\rangle = \\frac{1}{\\sqrt{2}}(\\vert 01\\rangle - \\vert 10 \\rangle$$"
   ]
  },
  {
   "cell_type": "code",
   "execution_count": 61,
   "metadata": {
    "id": "prcOw8WoXCpc"
   },
   "outputs": [
    {
     "data": {
      "text/latex": [
       "$$\\frac{\\sqrt{2}}{2} |01\\rangle+\\frac{\\sqrt{2}}{2} |10\\rangle$$"
      ],
      "text/plain": [
       "<IPython.core.display.Latex object>"
      ]
     },
     "execution_count": 61,
     "metadata": {},
     "output_type": "execute_result"
    }
   ],
   "source": [
    "##################\n",
    "# YOUR CODE HERE #\n",
    "##################\n",
    "dev = qml.device('default.qubit', wires = 2)\n",
    "@qml.qnode(dev)\n",
    "def psi_moins():\n",
    "    ##################\n",
    "    # YOUR CODE HERE #\n",
    "    ##################\n",
    "    qml.PauliX(wires = 0)\n",
    "    qml.Hadamard(wires = 0)\n",
    "    qml.CNOT(wires = [0,1])\n",
    "    return qml.state()\n",
    "\n",
    "@qml.qnode(dev)\n",
    "def phi_plus():\n",
    "  ##################\n",
    "  # YOUR CODE HERE #\n",
    "  ##################\n",
    "  qml.Hadamard(wires = 0)\n",
    "  qml.CNOT(wires = [0,1])\n",
    "  qml.PauliX(wires = 0)\n",
    "  return qml.state()\n",
    "\n",
    "@qml.qnode(dev)\n",
    "def phi_moins():\n",
    "  ##################\n",
    "  # YOUR CODE HERE #\n",
    "  ##################\n",
    "  qml.Hadamard(wires = 0)\n",
    "  qml.CNOT(wires = [0,1])\n",
    "  qml.Z(wires = 0)\n",
    "  qml.X(wires = 1)\n",
    "  return qml.state()\n",
    "\n",
    "#modifier avec la fonction pour visualiser l'état résultant\n",
    "Statevector(phi_plus()).draw('latex')"
   ]
  },
  {
   "cell_type": "code",
   "execution_count": 62,
   "metadata": {},
   "outputs": [
    {
     "name": "stdout",
     "output_type": "stream",
     "text": [
      "Checking exercise: psi_moins\n",
      "Correct\n",
      "Checking exercise: phi_plus\n",
      "Correct\n",
      "Checking exercise: phi_moins\n",
      "Correct\n"
     ]
    }
   ],
   "source": [
    "#DO NOT EDIT THIS CELL\n",
    "to_correct = [exercise_psi_moins, exercise_phi_plus, exercise_phi_moins]\n",
    "answers = [Answer(dev, ex) for ex in [psi_moins, phi_plus, phi_moins]]\n",
    "\n",
    "for (ex, ans) in zip(to_correct, answers):\n",
    "    grade(ex, ans)  "
   ]
  },
  {
   "cell_type": "markdown",
   "metadata": {
    "id": "yQvxW8R81wXS"
   },
   "source": [
    "EXERCICE\n",
    "\n",
    "---\n",
    "\n",
    "Créez l'état ci-dessous. Appliquez d'abord la porte exacte pour créer l'état. Ensuite, utilisez la fonction [`MottonenStatePrep()`](https://docs.pennylane.ai/en/stable/code/api/pennylane.MottonenStatePreparation.html) pour préparer l'état.\n"
   ]
  },
  {
   "cell_type": "markdown",
   "metadata": {
    "id": "PcLQ0HaD1ii3"
   },
   "source": [
    "$$\\frac{\\sqrt{3}}{2}\\vert 0\\rangle+\\frac{i}{2}\\vert 1 \\rangle$$"
   ]
  },
  {
   "cell_type": "code",
   "execution_count": 64,
   "metadata": {
    "id": "eSmy29u02qfu"
   },
   "outputs": [
    {
     "data": {
      "text/latex": [
       "$$\\frac{\\sqrt{3}}{2} |0\\rangle+\\frac{i}{2} |1\\rangle$$"
      ],
      "text/plain": [
       "<IPython.core.display.Latex object>"
      ]
     },
     "execution_count": 64,
     "metadata": {},
     "output_type": "execute_result"
    }
   ],
   "source": [
    "dev = qml.device('default.qubit', wires=1)\n",
    "@qml.qnode(dev)\n",
    "def prepare_with_gate():\n",
    "  qml.RX(np.pi/3, wires = 0)\n",
    "  return qml.state()\n",
    "\n",
    "state = np.array([np.sqrt(3)/2, 0.5j])\n",
    "@qml.qnode(dev)\n",
    "def prepare_with_mottonen(state):\n",
    "  qml.MottonenStatePreparation(state_vector=state, wires=0)\n",
    "  return qml.state()\n",
    "\n",
    "Statevector(prepare_with_mottonen(state)).draw('latex')"
   ]
  },
  {
   "cell_type": "code",
   "execution_count": 65,
   "metadata": {},
   "outputs": [
    {
     "name": "stdout",
     "output_type": "stream",
     "text": [
      "Checking exercise: prepare with gate\n",
      "Correct\n"
     ]
    }
   ],
   "source": [
    "#DO NOT EDIT THIS CELL\n",
    "ans = Answer(dev, prepare_with_gate)\n",
    "grade(exercise_prepare_with_gate, ans)"
   ]
  },
  {
   "cell_type": "code",
   "execution_count": 66,
   "metadata": {},
   "outputs": [
    {
     "name": "stdout",
     "output_type": "stream",
     "text": [
      "Checking exercise: prepare with Mottonen\n",
      "Correct\n"
     ]
    }
   ],
   "source": [
    "#DO NOT EDIT THIS CELL\n",
    "ans = Answer(dev, prepare_with_mottonen, circuit_params = state)\n",
    "grade(exercise_prepare_with_mottonen, ans)"
   ]
  },
  {
   "cell_type": "markdown",
   "metadata": {
    "id": "Bf6ENixbfrts"
   },
   "source": [
    "# 4.  La mesure"
   ]
  },
  {
   "cell_type": "markdown",
   "metadata": {
    "id": "ntHJdpGy4ryf"
   },
   "source": [
    "PennyLane peut extraire différents types de [résultats de mesures](https://docs.pennylane.ai/en/stable/introduction/measurements.html) à partir d'une machine quantique : la valeur moyenne d'une observable, sa variance, des échantillons d'une mesure unique ou des probabilités d'état de base de calcul.\n",
    "\n",
    "On retrouve les différentes fonctions de mesures telles que\n",
    "\n",
    "*   `qml.expval()`\n",
    "*   `qml.var()`\n",
    "*   `qml.sample()`\n",
    "*   `qml.counts()`\n",
    "*   `qml.probs()`\n",
    "*   `qml.density_matrix()`\n",
    "\n",
    "\n",
    "Comme mentionné précédement, on peut aussi retourner l'état dans la base de calcul avec `qml.state()`."
   ]
  },
  {
   "cell_type": "markdown",
   "metadata": {
    "id": "VHhwf-s3g3JR"
   },
   "source": [
    "## Valeur moyenne et variance d'un observable"
   ]
  },
  {
   "cell_type": "code",
   "execution_count": 67,
   "metadata": {
    "id": "X7wquW8zieUb"
   },
   "outputs": [],
   "source": [
    "dev = qml.device('default.qubit', wires=2)\n",
    "@qml.qnode(dev)\n",
    "def circuit_expval(theta):\n",
    "    qml.RX(theta, wires=0)\n",
    "    qml.Hadamard(wires=1)\n",
    "    qml.CNOT(wires=[0, 1])\n",
    "    return qml.expval(qml.PauliY(0))"
   ]
  },
  {
   "cell_type": "markdown",
   "metadata": {
    "id": "cVAKFFPRioP_"
   },
   "source": [
    "Nous retournons ici la valeur moyenne `qml.expval()` de l'opérateur $Y$ appliqué au premier qubit. Plus précisément, cela signifie que nous calculons $\\langle \\psi \\vert Y \\vert \\psi \\rangle$, où $\\vert \\psi \\rangle$ est le vecteur de dimension $2^n$ généré par le circuit ($n$ étant le nombre de qubits) et $Y$ est un opérateur qui agit uniquement sur le premier qubit. Lorsque nous exécutons le circuit pour $\\theta=0.5$, nous obtenons un nombre qui correspond exactement à cette valeur moyenne en sortie."
   ]
  },
  {
   "cell_type": "code",
   "execution_count": 68,
   "metadata": {
    "colab": {
     "base_uri": "https://localhost:8080/"
    },
    "id": "xeMIGLUojVdc",
    "outputId": "21f8c09d-a86d-42b5-9d69-3eca8968c1b5"
   },
   "outputs": [
    {
     "data": {
      "text/plain": [
       "tensor(-0.47942554, requires_grad=True)"
      ]
     },
     "execution_count": 68,
     "metadata": {},
     "output_type": "execute_result"
    }
   ],
   "source": [
    "circuit_expval(0.5)"
   ]
  },
  {
   "cell_type": "markdown",
   "metadata": {
    "id": "AK-VwAhKjqE-"
   },
   "source": [
    "Nous pouvons également retourner la variance d'un observable, `qml.var()`"
   ]
  },
  {
   "cell_type": "code",
   "execution_count": 69,
   "metadata": {
    "colab": {
     "base_uri": "https://localhost:8080/"
    },
    "id": "yHS7ZTGTjzf2",
    "outputId": "be140f0b-d307-4dc9-880a-7529edef9d2d"
   },
   "outputs": [
    {
     "data": {
      "text/plain": [
       "tensor(0.77015115, requires_grad=True)"
      ]
     },
     "execution_count": 69,
     "metadata": {},
     "output_type": "execute_result"
    }
   ],
   "source": [
    "@qml.qnode(dev)\n",
    "def circuit_var(theta):\n",
    "    qml.RX(theta, wires=0)\n",
    "    qml.Hadamard(wires=1)\n",
    "    qml.CNOT(wires=[0, 1])\n",
    "    return qml.var(qml.PauliY(0))\n",
    "\n",
    "circuit_var(0.5)"
   ]
  },
  {
   "cell_type": "markdown",
   "metadata": {
    "id": "JD5wKCs5huUR"
   },
   "source": [
    "## Échantillons et probabilités"
   ]
  },
  {
   "cell_type": "markdown",
   "metadata": {
    "id": "RM1hnFerlGEi"
   },
   "source": [
    "En réalité, dans une expérience, nous obtenons généralement un ensemble de mesures réelles échantillonnées à partir des probabilités de la fonction d'onde. Dans ce cas, la fonction d'onde réelle n'est pas accessible, mais encore une fois, nous pouvons \"tricher\" car nous simulons notre circuit de manière classique.\n",
    "\n",
    "Ainsi, si nous voulons imiter un ordinateur quantique, nous pouvons sortir un ensemble de mesures à partir de l'état résultant. Pour ce faire, nous utilisons la fonction `qml.sample()`, pour laquelle nous devons spécifier le nombre d'échantillons ('shots') lors de la définition de la machine."
   ]
  },
  {
   "cell_type": "code",
   "execution_count": 70,
   "metadata": {
    "colab": {
     "base_uri": "https://localhost:8080/"
    },
    "id": "czYO231blhWC",
    "outputId": "ba6234e2-0153-4406-b788-04b059578d7a"
   },
   "outputs": [
    {
     "data": {
      "text/plain": [
       "array([ 1, -1, -1, -1])"
      ]
     },
     "execution_count": 70,
     "metadata": {},
     "output_type": "execute_result"
    }
   ],
   "source": [
    "dev = qml.device(\"default.qubit\", wires=2, shots=4)\n",
    "@qml.qnode(dev)\n",
    "def circuit_sample(theta):\n",
    "    qml.RX(theta, wires=0)\n",
    "    qml.Hadamard(wires=1)\n",
    "    qml.CNOT(wires=[0, 1])\n",
    "    return qml.sample(qml.PauliY(0))\n",
    "\n",
    "circuit_sample(0.5)\n"
   ]
  },
  {
   "cell_type": "markdown",
   "metadata": {
    "id": "mWTHJBXtnh9B"
   },
   "source": [
    "Ici, PennyLane prend les valeurs propres λᵢ de l'observable et les échantillonne avec leurs probabilités associées p(λᵢ) = |⟨ξᵢ|ψ⟩|², où, |ξᵢ⟩ est l'état de base correspondant dans la base de l'observable."
   ]
  },
  {
   "cell_type": "markdown",
   "metadata": {
    "id": "mhX-G1H-oOND"
   },
   "source": [
    "Au lieu d'échantillonner à partir de la densité de probabilité de la fonction d'onde, nous pourrions être intéressés par l'obtention directe des probabilités de chaque état de la base de calcul. PennyLane nous permet de faire cela en utilisant la fonction `qml.probs()`."
   ]
  },
  {
   "cell_type": "code",
   "execution_count": 71,
   "metadata": {
    "colab": {
     "base_uri": "https://localhost:8080/",
     "height": 37
    },
    "id": "Rbibbtl8okRR",
    "outputId": "b4d068c7-bbcd-4e48-e390-68644cf5ffa2"
   },
   "outputs": [],
   "source": [
    "dev = qml.device(\"default.qubit\", wires=2)\n",
    "@qml.qnode(dev)\n",
    "def circuit_probs(theta):\n",
    "    qml.RX(theta, wires=0)\n",
    "    qml.Hadamard(wires=1)\n",
    "    qml.CNOT(wires=[0, 1])\n",
    "    return qml.probs(wires=[0, 1])\n",
    "#Statevector(circuit_probs(0.5)).draw('latex')\n"
   ]
  },
  {
   "cell_type": "markdown",
   "metadata": {
    "id": "4i1t73irpX55"
   },
   "source": [
    "Nous obtenons des probabilités d'observation d'environ 47% pour les états |00⟩ et |01⟩ et 3% pour les états |10⟩ et |11⟩.\n"
   ]
  },
  {
   "cell_type": "markdown",
   "metadata": {
    "id": "RdlmC2Q_z7LW"
   },
   "source": [
    "EXERCICE\n",
    "\n",
    "---\n"
   ]
  },
  {
   "cell_type": "markdown",
   "metadata": {
    "id": "t73P7LtD89Ev"
   },
   "source": [
    "Implémentez le circuit ci-dessous afin qu'il retourne la valeur moyenne de l'opérateur $Z$. Quelle est cette valeur moyenne? Calculez la explicitement puis comparez au résultat du circuit."
   ]
  },
  {
   "cell_type": "markdown",
   "metadata": {
    "id": "QMuFqvWmEnAb"
   },
   "source": [
    "![image.png](data:image/png;base64,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)"
   ]
  },
  {
   "cell_type": "code",
   "execution_count": 72,
   "metadata": {
    "colab": {
     "base_uri": "https://localhost:8080/"
    },
    "id": "jV7UH_h39vj-",
    "outputId": "0ea3dacc-1a48-41d9-b136-48904e03baa3"
   },
   "outputs": [
    {
     "name": "stdout",
     "output_type": "stream",
     "text": [
      "0.0\n"
     ]
    }
   ],
   "source": [
    "dev = qml.device('default.qubit', wires = 1)\n",
    "@qml.qnode(dev)\n",
    "def circuit():\n",
    "\n",
    "    ##################\n",
    "    # YOUR CODE HERE #\n",
    "    ##################\n",
    "    qml.Hadamard(wires = 0)\n",
    "    qml.Z(wires = 0)\n",
    "\n",
    "    return qml.expval(qml.Z(wires = 0))\n",
    "print(circuit())"
   ]
  },
  {
   "cell_type": "code",
   "execution_count": 73,
   "metadata": {},
   "outputs": [
    {
     "name": "stdout",
     "output_type": "stream",
     "text": [
      "Checking exercise: Expectation Value\n",
      "Correct\n"
     ]
    }
   ],
   "source": [
    "#DO NOT EDIT THIS CELL\n",
    "ans = Answer(dev, circuit)\n",
    "grade(exercise_expval, ans)"
   ]
  },
  {
   "cell_type": "markdown",
   "metadata": {
    "id": "p6VliROeFHvY"
   },
   "source": [
    "Dans le dernier exercice vous avez calculé la valeur moyenne analytiquement. Sur du vrai matériel quantique, la nature probabiliste du calcul quantique nous force plutôt à faire des échantillonages répétés afin de calculer la valeur moyenne.\n",
    "\n",
    "Considérez le même circuit mais testez le avec plusieurs nombre d'échantillons ('shots'). Quelles sont les valeurs possibles après un seul échantillonage? Que se passe-t-il quand vous augmentez le nombre d'échantillons?"
   ]
  },
  {
   "cell_type": "code",
   "execution_count": 74,
   "metadata": {
    "id": "r7m-sLpK6uzT"
   },
   "outputs": [
    {
     "name": "stdout",
     "output_type": "stream",
     "text": [
      "Checking exercise: Échantillonage\n",
      "Correct\n"
     ]
    }
   ],
   "source": [
    "#Adapté du Codebook I.10.2\n",
    "resultats = []\n",
    "\n",
    "#Set the seed to get consistent results\n",
    "np.random.seed(0)\n",
    "\n",
    "# Différentes nombre d'échantillonage\n",
    "n_echantillons = [1, 100, 1000, 10000, 100000]\n",
    "dev = qml.device('default.qubit', wires = 1)\n",
    "@qml.qnode(dev)\n",
    "def circuit():\n",
    "    qml.Hadamard(wires = 0)\n",
    "    qml.Z(wires = 0)\n",
    "    return qml.expval(qml.Z(wires = 0))\n",
    "\n",
    "#The answer checking needs to be defined in the same cell if not the grader doesn't work...\n",
    "#it's because of the random seed and the shots.\n",
    "#Its kinda convoluted. Should I find a better way or just keep it as is?\n",
    "arr  = [Answer(dev, circuit, shots = s) for s in n_echantillons]\n",
    "grade(exercise_echantillons, arr)"
   ]
  },
  {
   "cell_type": "markdown",
   "metadata": {
    "id": "4H_zCXokh_Ve"
   },
   "source": [
    "## États et matrice de densité\n",
    "  "
   ]
  },
  {
   "cell_type": "markdown",
   "metadata": {
    "id": "KrS-7W1drP-X"
   },
   "source": [
    "La mesure `qml.state()` nous donne la sortie la plus complète possible, c'est-à-dire la fonction d'onde complète dans la base de calcul. Elle n'accepte aucun observable et renvoie un état pur."
   ]
  },
  {
   "cell_type": "code",
   "execution_count": 76,
   "metadata": {
    "colab": {
     "base_uri": "https://localhost:8080/",
     "height": 39
    },
    "id": "MmwoRBF9rVW5",
    "outputId": "a1937fb7-23f2-43b2-d083-70f578bce79d"
   },
   "outputs": [
    {
     "data": {
      "text/latex": [
       "$$0.6851245438 |00\\rangle+0.6851245438 |01\\rangle- 0.1749410173 i |10\\rangle- 0.1749410173 i |11\\rangle$$"
      ],
      "text/plain": [
       "<IPython.core.display.Latex object>"
      ]
     },
     "execution_count": 76,
     "metadata": {},
     "output_type": "execute_result"
    }
   ],
   "source": [
    "dev = qml.device('default.qubit', wires = 2)\n",
    "@qml.qnode(dev)\n",
    "def circuit_state(theta):\n",
    "    qml.RX(theta, wires=0)\n",
    "    qml.Hadamard(wires=1)\n",
    "    qml.CNOT(wires=[0, 1])\n",
    "    return qml.state()\n",
    "\n",
    "Statevector(circuit_state(0.5)).draw('latex')\n"
   ]
  },
  {
   "cell_type": "markdown",
   "metadata": {
    "id": "Or7oCC9Dr7PM"
   },
   "source": [
    "Nous pourrions aussi être intéressés par l'obtention de la matrice de densité dans la base de calcul. Dans ce cas, nous pouvons utiliser `qml.density_matrix()`."
   ]
  },
  {
   "cell_type": "code",
   "execution_count": 77,
   "metadata": {
    "colab": {
     "base_uri": "https://localhost:8080/"
    },
    "id": "35q_5hlYtDJa",
    "outputId": "87fd3552-f94e-4eb3-8570-3d4754a953b8"
   },
   "outputs": [
    {
     "data": {
      "text/plain": [
       "tensor([[0.93879128+0.j        , 0.        +0.23971277j],\n",
       "        [0.        -0.23971277j, 0.06120872+0.j        ]], requires_grad=True)"
      ]
     },
     "execution_count": 77,
     "metadata": {},
     "output_type": "execute_result"
    }
   ],
   "source": [
    "@qml.qnode(dev)\n",
    "def circuit_density_matrix(theta):\n",
    "    qml.RX(theta, wires=0)\n",
    "    qml.Hadamard(wires=1)\n",
    "    qml.CNOT(wires=[0, 1])\n",
    "    return qml.density_matrix(wires=0)\n",
    "\n",
    "circuit_density_matrix(0.5)\n"
   ]
  },
  {
   "cell_type": "markdown",
   "metadata": {
    "id": "nL2Ac-7o19Ct"
   },
   "source": [
    "# 5.  Optimisation de circuit quantique\n",
    "\n",
    "\n",
    "\n"
   ]
  },
  {
   "cell_type": "markdown",
   "metadata": {
    "id": "hoVbM3GjKKry"
   },
   "source": [
    "L'optimisation de circuit quantique est essentielle en informatique quantique car elle nous permet de trouver les paramètres optimaux pour un circuit quantique qui résout au mieux un problème spécifique. Dans PennyLane, l'optimisation consiste à ajuster les paramètres des portes quantiques pour minimiser ou maximiser une fonction spécifique, appelée fonction de coût."
   ]
  },
  {
   "cell_type": "code",
   "execution_count": null,
   "metadata": {
    "colab": {
     "base_uri": "https://localhost:8080/"
    },
    "id": "BhVE1HZhKcbA",
    "outputId": "8ea1db6d-0c1a-4ee4-9f7b-18276e0d6f0c"
   },
   "outputs": [
    {
     "name": "stdout",
     "output_type": "stream",
     "text": [
      "Optimized params: [3.14159265]\n"
     ]
    }
   ],
   "source": [
    "import pennylane as qml\n",
    "from pennylane import numpy as np\n",
    "\n",
    "dev = qml.device(\"default.qubit\", wires=1)\n",
    "@qml.qnode(dev)\n",
    "\n",
    "def circuit(params):\n",
    "    qml.RX(params[0], wires=0)\n",
    "    return qml.expval(qml.PauliZ(0))\n",
    "\n",
    "def cost(params):\n",
    "    return circuit(params)\n",
    "\n",
    "opt = qml.GradientDescentOptimizer(stepsize=0.4) #fonction d'optimisation\n",
    "params = np.array([0.1])\n",
    "steps = 100\n",
    "\n",
    "for i in range(steps):\n",
    "    params = opt.step(cost, params)\n",
    "\n",
    "print(f'Optimized params: {params}')\n"
   ]
  },
  {
   "cell_type": "markdown",
   "metadata": {
    "id": "WgXTR4MnKv8J"
   },
   "source": [
    "[docs.pennylane.ai/en/stable/introduction/interfaces.html](https://docs.pennylane.ai/en/stable/introduction/interfaces.html)"
   ]
  },
  {
   "cell_type": "markdown",
   "metadata": {
    "id": "yRb2l8cmJxhR"
   },
   "source": [
    "\n",
    "# 6. Circuits quantiques variationnels\n",
    "\n",
    "\n",
    "\n",
    "\n",
    "\n"
   ]
  },
  {
   "cell_type": "markdown",
   "metadata": {
    "id": "5PawQYrwOO1M"
   },
   "source": [
    "Les circuits quantiques variationnels (VQCs) jouent un rôle central en apprentissage machine quantique et en optimisation. Ces circuits utilisent des portes paramétrées dont les paramètres sont optimisés pour atteindre des objectifs spécifiques, comme la résolution de problèmes d'optimisation ou d'apprentissage machine quantique."
   ]
  },
  {
   "cell_type": "code",
   "execution_count": null,
   "metadata": {
    "colab": {
     "base_uri": "https://localhost:8080/"
    },
    "id": "-JbIR0sOOStq",
    "outputId": "277fc9a5-f8c2-4832-de0c-d8d912015a15"
   },
   "outputs": [
    {
     "name": "stdout",
     "output_type": "stream",
     "text": [
      "Step 0: cost = 0.7637115319687524\n",
      "Step 1: cost = 0.5779477741085262\n",
      "Step 2: cost = 0.2966052476240348\n",
      "Step 3: cost = -0.06151310148950795\n",
      "Step 4: cost = -0.42341222928051087\n",
      "Step 5: cost = -0.7039780993138042\n",
      "Step 6: cost = -0.8703338563365615\n",
      "Step 7: cost = -0.9489154942914924\n",
      "Step 8: cost = -0.9809283547033282\n",
      "Step 9: cost = -0.9930394135926378\n"
     ]
    }
   ],
   "source": [
    "import pennylane as qml\n",
    "from pennylane import numpy as np\n",
    "\n",
    "dev = qml.device(\"default.qubit\", wires=2)\n",
    "@qml.qnode(dev)\n",
    "\n",
    "def variational_circuit(params):\n",
    "    qml.RY(params[0], wires=0)\n",
    "    qml.RX(params[1], wires=1)\n",
    "    qml.CNOT(wires=[0, 1])\n",
    "    return qml.expval(qml.PauliZ(1))\n",
    "\n",
    "params = np.array([0.5, 0.1])\n",
    "\n",
    "def cost_fn(params):\n",
    "    return variational_circuit(params)\n",
    "\n",
    "opt = qml.GradientDescentOptimizer(stepsize=0.4)\n",
    "steps = 10\n",
    "for i in range(steps):\n",
    "    params = opt.step(cost_fn, params)\n",
    "    print(f\"Step {i}: cost = {cost_fn(params)}\")\n"
   ]
  },
  {
   "cell_type": "markdown",
   "metadata": {
    "id": "f4WYVsGK38Ud"
   },
   "source": [
    "Dans cet exemple, l'algorithme d'optimisation trouve l'état qui maximise la valeur d'espérance de l'opérateur `PauliZ` sur le qubit 1 en minimisant la fonction de coût."
   ]
  },
  {
   "cell_type": "markdown",
   "metadata": {
    "id": "UuWSy5AvLCPm"
   },
   "source": [
    "# 7. Défi récapitulatif"
   ]
  },
  {
   "cell_type": "markdown",
   "metadata": {
    "id": "yuqMxnVuFUDy"
   },
   "source": [
    "À travers ce défi, nous allons créer le verrou le plus inviolable au monde à savoir un verrou quantique !\n",
    "\n",
    "Ce verrou est représenté par un opérateur unitaire *U*, qui a toutes ses valeurs propres égales à 1, sauf une. Cette exception, notre état propre \"clé\", a une valeur propre de -1.\n",
    "\n",
    "$$U|\\text{clé}\\rangle = -|\\text{clé}\\rangle$$\n",
    "\n",
    "Ce défi consiste donc à trouver un moyen de distinguer l'état propre \"clé\" des autres états propres, sachant que l'information est contenue dans la phase de l'opérateur. Heureusement, il existe un concept appelé **retour de phase** qui peut nous aider.\n",
    "\n",
    "Lorsque l'état propre correct est entré, la phase -1 de U est transférée au qubit auxiliaire, modifiant ainsi son état de $|+\\rangle$ à $|-\\rangle$. Le résultat de la mesure sur le qubit de contrôle indique alors si l'état propre correct a été entré ou non, indiquant si le verrou est déverrouillé ou non. Dans notre cas, $|1\\rangle = H|-\\rangle$\n",
    "déverouille le verrou, et $|0\\rangle = H|+\\rangle$ est un échec.\n",
    "\n",
    "Dans ce contexte, la clé correspond à un entier encodé en binaire *m*, qui représente notre état propre \"clé\"\n",
    "\n",
    "$$\\begin{aligned}\n",
    "U|n\\rangle =\n",
    "\\begin{cases}\n",
    "  -|n\\rangle, & \\text{si } n=m \\\\\n",
    "  |n\\rangle, & \\text{si } n\\neq m\n",
    "\\end{cases}\n",
    "\\end{aligned}$$\n",
    "\n",
    "Une fois le verrou construit, nous pouvons donc tester les différents états propres de clé que nous avons choisis et distinguer celui qui déverouille notre fameux verrou quantique.\n",
    "\n",
    "\n",
    "\n",
    "\n",
    "\n"
   ]
  },
  {
   "cell_type": "markdown",
   "metadata": {
    "id": "07NjwTWPKP7B"
   },
   "source": [
    "\n",
    "Marche à suivre:\n",
    "* Choisir le nombre de qubits en fonction de la taille de la clé souhaitée.\n",
    "* Définir la machine quantique.\n",
    "* Définir le verrou quantique en utilisant l'opération `FlipSign`.\n",
    "* Utiliser l'opération `BasisState` pour créer la clé.\n",
    "* Définir une fonction pour l'ouverture du verrou.\n",
    "* Définir une fonction pour vérifier la clé."
   ]
  },
  {
   "cell_type": "markdown",
   "metadata": {
    "id": "fVY7kESl7rbY"
   },
   "source": [
    "SOLUTION"
   ]
  },
  {
   "cell_type": "code",
   "execution_count": null,
   "metadata": {
    "id": "HtKfYW6xx-0i"
   },
   "outputs": [],
   "source": [
    "#Défi adapté de https://pennylane.ai/qml/demos/tutorial_phase_kickback/\n",
    "\n",
    "import pennylane as qml\n",
    "from pennylane import numpy as np\n",
    "\n",
    "#Définir le nombre qubits\n",
    "#Pour une combinaison à n chiffres, il faut n+1 qubits (le premier qubit est le controle, et les autres sont la cible )\n",
    "num_wires = 5\n",
    "\n",
    "dev = qml.device('default.qubit', wires = num_wires, shots = 1)\n",
    "\n",
    "\n",
    "#Fonction qui définit la serrure quantique selon une clé secrète. La clé doit avoir comme longueur le nombre de qubit -1\n",
    "def quantum_lock(secret_key):\n",
    "  return qml.FlipSign(secret_key, wires = list(range(1, num_wires)))\n",
    "\n",
    "def build_key(key):\n",
    "  return qml.BasisState(key, wires = list(range(1, num_wires)))"
   ]
  },
  {
   "cell_type": "code",
   "execution_count": null,
   "metadata": {
    "id": "jF-xW2yD7EEq"
   },
   "outputs": [],
   "source": [
    "@qml.qnode(dev)\n",
    "def lock_mechanism(lock, key):\n",
    "    build_key(key)\n",
    "    qml.Hadamard(wires=0)  # Hadamard sur qubit auxiliaire\n",
    "    qml.ctrl(lock, control=0)  #Porte controllée\n",
    "    qml.Hadamard(wires=0)  # Hadamard sur le qubit auxiliaire\n",
    "    return qml.sample(wires=0)"
   ]
  },
  {
   "cell_type": "code",
   "execution_count": null,
   "metadata": {
    "id": "oQY0CVvq7EZj"
   },
   "outputs": [],
   "source": [
    "def check_key(lock, key):\n",
    "  if lock_mechanism(lock, key) ==1:\n",
    "    print('BRAVO : le verrou est déverrouillé')\n",
    "  else:\n",
    "    print('ÉCHEC: le verrou est vérouillé')"
   ]
  },
  {
   "cell_type": "code",
   "execution_count": null,
   "metadata": {
    "id": "DD7XYg9U7L80"
   },
   "outputs": [],
   "source": [
    "#Définir la clé secrète et définir la serrure quantique\n",
    "secret_key = np.array([1,1,1,0])\n",
    "lock = quantum_lock(secret_key)"
   ]
  },
  {
   "cell_type": "code",
   "execution_count": null,
   "metadata": {
    "colab": {
     "base_uri": "https://localhost:8080/"
    },
    "id": "90KaDORk7Tt0",
    "outputId": "deb0280b-3f73-4ca3-b2e9-e20ffacbbb5c"
   },
   "outputs": [
    {
     "name": "stdout",
     "output_type": "stream",
     "text": [
      "ÉCHEC: le verrou est vérouillé\n"
     ]
    }
   ],
   "source": [
    "key_guess = np.array([0,0,0,0])\n",
    "check_key(lock, key_guess)"
   ]
  },
  {
   "cell_type": "code",
   "execution_count": null,
   "metadata": {
    "colab": {
     "base_uri": "https://localhost:8080/"
    },
    "id": "MomlrFj97WUs",
    "outputId": "e4869b03-c4a9-442f-f851-7cae08115274"
   },
   "outputs": [
    {
     "name": "stdout",
     "output_type": "stream",
     "text": [
      "BRAVO : le verrou est déverrouillé\n"
     ]
    }
   ],
   "source": [
    "key_guess = np.array([1,1,1,0])\n",
    "check_key(lock, key_guess)"
   ]
  },
  {
   "cell_type": "markdown",
   "metadata": {
    "id": "bzK1cg0L70Ac"
   },
   "source": [
    "Défi adapté de https://pennylane.ai/qml/demos/tutorial_phase_kickback/"
   ]
  }
 ],
 "metadata": {
  "colab": {
   "provenance": []
  },
  "kernelspec": {
   "display_name": "Python 3 (ipykernel)",
   "language": "python",
   "name": "python3"
  },
  "language_info": {
   "codemirror_mode": {
    "name": "ipython",
    "version": 3
   },
   "file_extension": ".py",
   "mimetype": "text/x-python",
   "name": "python",
   "nbconvert_exporter": "python",
   "pygments_lexer": "ipython3",
   "version": "3.9.1"
  }
 },
 "nbformat": 4,
 "nbformat_minor": 4
}
